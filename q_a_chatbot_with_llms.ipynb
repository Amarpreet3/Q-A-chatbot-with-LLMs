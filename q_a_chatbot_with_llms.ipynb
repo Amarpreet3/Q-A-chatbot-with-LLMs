{
  "metadata": {
    "kernelspec": {
      "display_name": "Python 3",
      "name": "python3"
    },
    "language_info": {
      "name": "python",
      "version": "3.10.13",
      "mimetype": "text/x-python",
      "codemirror_mode": {
        "name": "ipython",
        "version": 3
      },
      "pygments_lexer": "ipython3",
      "nbconvert_exporter": "python",
      "file_extension": ".py"
    },
    "kaggle": {
      "accelerator": "nvidiaTeslaT4",
      "dataSources": [
        {
          "sourceId": 8675670,
          "sourceType": "datasetVersion",
          "datasetId": 5200178
        },
        {
          "sourceId": 165313789,
          "sourceType": "kernelVersion"
        }
      ],
      "dockerImageVersionId": 30733,
      "isInternetEnabled": true,
      "language": "python",
      "sourceType": "notebook",
      "isGpuEnabled": true
    },
    "colab": {
      "provenance": [],
      "machine_shape": "hm",
      "gpuType": "L4"
    },
    "accelerator": "GPU",
    "widgets": {
      "application/vnd.jupyter.widget-state+json": {
        "87992e952d914308b1ebfcfc284b93b8": {
          "model_module": "@jupyter-widgets/controls",
          "model_name": "HBoxModel",
          "model_module_version": "1.5.0",
          "state": {
            "_dom_classes": [],
            "_model_module": "@jupyter-widgets/controls",
            "_model_module_version": "1.5.0",
            "_model_name": "HBoxModel",
            "_view_count": null,
            "_view_module": "@jupyter-widgets/controls",
            "_view_module_version": "1.5.0",
            "_view_name": "HBoxView",
            "box_style": "",
            "children": [
              "IPY_MODEL_53934c5b0064455b8663738cb8fd360a",
              "IPY_MODEL_728529ffd7164ca2b6fb0b7951ab7b21",
              "IPY_MODEL_6c21422cccea4342a3fc35c711d690d4"
            ],
            "layout": "IPY_MODEL_456a32b83b4e4938b61df4bbfb677731"
          }
        },
        "53934c5b0064455b8663738cb8fd360a": {
          "model_module": "@jupyter-widgets/controls",
          "model_name": "HTMLModel",
          "model_module_version": "1.5.0",
          "state": {
            "_dom_classes": [],
            "_model_module": "@jupyter-widgets/controls",
            "_model_module_version": "1.5.0",
            "_model_name": "HTMLModel",
            "_view_count": null,
            "_view_module": "@jupyter-widgets/controls",
            "_view_module_version": "1.5.0",
            "_view_name": "HTMLView",
            "description": "",
            "description_tooltip": null,
            "layout": "IPY_MODEL_5fd208ce07f040b48d93768707172070",
            "placeholder": "​",
            "style": "IPY_MODEL_0d8c66b93f704fefbaca0d17b9f71181",
            "value": "Loading checkpoint shards: 100%"
          }
        },
        "728529ffd7164ca2b6fb0b7951ab7b21": {
          "model_module": "@jupyter-widgets/controls",
          "model_name": "FloatProgressModel",
          "model_module_version": "1.5.0",
          "state": {
            "_dom_classes": [],
            "_model_module": "@jupyter-widgets/controls",
            "_model_module_version": "1.5.0",
            "_model_name": "FloatProgressModel",
            "_view_count": null,
            "_view_module": "@jupyter-widgets/controls",
            "_view_module_version": "1.5.0",
            "_view_name": "ProgressView",
            "bar_style": "success",
            "description": "",
            "description_tooltip": null,
            "layout": "IPY_MODEL_e53fbaae8a194d4ebd1d7870d7704cab",
            "max": 3,
            "min": 0,
            "orientation": "horizontal",
            "style": "IPY_MODEL_8b0e5cdbf38d41f283f39ceb21d1e86e",
            "value": 3
          }
        },
        "6c21422cccea4342a3fc35c711d690d4": {
          "model_module": "@jupyter-widgets/controls",
          "model_name": "HTMLModel",
          "model_module_version": "1.5.0",
          "state": {
            "_dom_classes": [],
            "_model_module": "@jupyter-widgets/controls",
            "_model_module_version": "1.5.0",
            "_model_name": "HTMLModel",
            "_view_count": null,
            "_view_module": "@jupyter-widgets/controls",
            "_view_module_version": "1.5.0",
            "_view_name": "HTMLView",
            "description": "",
            "description_tooltip": null,
            "layout": "IPY_MODEL_e81df1eda4964dfba06d819a084c2adc",
            "placeholder": "​",
            "style": "IPY_MODEL_8fd5b511542e4cfb8b5248e9cc7a9a8c",
            "value": " 3/3 [00:34&lt;00:00, 10.00s/it]"
          }
        },
        "456a32b83b4e4938b61df4bbfb677731": {
          "model_module": "@jupyter-widgets/base",
          "model_name": "LayoutModel",
          "model_module_version": "1.2.0",
          "state": {
            "_model_module": "@jupyter-widgets/base",
            "_model_module_version": "1.2.0",
            "_model_name": "LayoutModel",
            "_view_count": null,
            "_view_module": "@jupyter-widgets/base",
            "_view_module_version": "1.2.0",
            "_view_name": "LayoutView",
            "align_content": null,
            "align_items": null,
            "align_self": null,
            "border": null,
            "bottom": null,
            "display": null,
            "flex": null,
            "flex_flow": null,
            "grid_area": null,
            "grid_auto_columns": null,
            "grid_auto_flow": null,
            "grid_auto_rows": null,
            "grid_column": null,
            "grid_gap": null,
            "grid_row": null,
            "grid_template_areas": null,
            "grid_template_columns": null,
            "grid_template_rows": null,
            "height": null,
            "justify_content": null,
            "justify_items": null,
            "left": null,
            "margin": null,
            "max_height": null,
            "max_width": null,
            "min_height": null,
            "min_width": null,
            "object_fit": null,
            "object_position": null,
            "order": null,
            "overflow": null,
            "overflow_x": null,
            "overflow_y": null,
            "padding": null,
            "right": null,
            "top": null,
            "visibility": null,
            "width": null
          }
        },
        "5fd208ce07f040b48d93768707172070": {
          "model_module": "@jupyter-widgets/base",
          "model_name": "LayoutModel",
          "model_module_version": "1.2.0",
          "state": {
            "_model_module": "@jupyter-widgets/base",
            "_model_module_version": "1.2.0",
            "_model_name": "LayoutModel",
            "_view_count": null,
            "_view_module": "@jupyter-widgets/base",
            "_view_module_version": "1.2.0",
            "_view_name": "LayoutView",
            "align_content": null,
            "align_items": null,
            "align_self": null,
            "border": null,
            "bottom": null,
            "display": null,
            "flex": null,
            "flex_flow": null,
            "grid_area": null,
            "grid_auto_columns": null,
            "grid_auto_flow": null,
            "grid_auto_rows": null,
            "grid_column": null,
            "grid_gap": null,
            "grid_row": null,
            "grid_template_areas": null,
            "grid_template_columns": null,
            "grid_template_rows": null,
            "height": null,
            "justify_content": null,
            "justify_items": null,
            "left": null,
            "margin": null,
            "max_height": null,
            "max_width": null,
            "min_height": null,
            "min_width": null,
            "object_fit": null,
            "object_position": null,
            "order": null,
            "overflow": null,
            "overflow_x": null,
            "overflow_y": null,
            "padding": null,
            "right": null,
            "top": null,
            "visibility": null,
            "width": null
          }
        },
        "0d8c66b93f704fefbaca0d17b9f71181": {
          "model_module": "@jupyter-widgets/controls",
          "model_name": "DescriptionStyleModel",
          "model_module_version": "1.5.0",
          "state": {
            "_model_module": "@jupyter-widgets/controls",
            "_model_module_version": "1.5.0",
            "_model_name": "DescriptionStyleModel",
            "_view_count": null,
            "_view_module": "@jupyter-widgets/base",
            "_view_module_version": "1.2.0",
            "_view_name": "StyleView",
            "description_width": ""
          }
        },
        "e53fbaae8a194d4ebd1d7870d7704cab": {
          "model_module": "@jupyter-widgets/base",
          "model_name": "LayoutModel",
          "model_module_version": "1.2.0",
          "state": {
            "_model_module": "@jupyter-widgets/base",
            "_model_module_version": "1.2.0",
            "_model_name": "LayoutModel",
            "_view_count": null,
            "_view_module": "@jupyter-widgets/base",
            "_view_module_version": "1.2.0",
            "_view_name": "LayoutView",
            "align_content": null,
            "align_items": null,
            "align_self": null,
            "border": null,
            "bottom": null,
            "display": null,
            "flex": null,
            "flex_flow": null,
            "grid_area": null,
            "grid_auto_columns": null,
            "grid_auto_flow": null,
            "grid_auto_rows": null,
            "grid_column": null,
            "grid_gap": null,
            "grid_row": null,
            "grid_template_areas": null,
            "grid_template_columns": null,
            "grid_template_rows": null,
            "height": null,
            "justify_content": null,
            "justify_items": null,
            "left": null,
            "margin": null,
            "max_height": null,
            "max_width": null,
            "min_height": null,
            "min_width": null,
            "object_fit": null,
            "object_position": null,
            "order": null,
            "overflow": null,
            "overflow_x": null,
            "overflow_y": null,
            "padding": null,
            "right": null,
            "top": null,
            "visibility": null,
            "width": null
          }
        },
        "8b0e5cdbf38d41f283f39ceb21d1e86e": {
          "model_module": "@jupyter-widgets/controls",
          "model_name": "ProgressStyleModel",
          "model_module_version": "1.5.0",
          "state": {
            "_model_module": "@jupyter-widgets/controls",
            "_model_module_version": "1.5.0",
            "_model_name": "ProgressStyleModel",
            "_view_count": null,
            "_view_module": "@jupyter-widgets/base",
            "_view_module_version": "1.2.0",
            "_view_name": "StyleView",
            "bar_color": null,
            "description_width": ""
          }
        },
        "e81df1eda4964dfba06d819a084c2adc": {
          "model_module": "@jupyter-widgets/base",
          "model_name": "LayoutModel",
          "model_module_version": "1.2.0",
          "state": {
            "_model_module": "@jupyter-widgets/base",
            "_model_module_version": "1.2.0",
            "_model_name": "LayoutModel",
            "_view_count": null,
            "_view_module": "@jupyter-widgets/base",
            "_view_module_version": "1.2.0",
            "_view_name": "LayoutView",
            "align_content": null,
            "align_items": null,
            "align_self": null,
            "border": null,
            "bottom": null,
            "display": null,
            "flex": null,
            "flex_flow": null,
            "grid_area": null,
            "grid_auto_columns": null,
            "grid_auto_flow": null,
            "grid_auto_rows": null,
            "grid_column": null,
            "grid_gap": null,
            "grid_row": null,
            "grid_template_areas": null,
            "grid_template_columns": null,
            "grid_template_rows": null,
            "height": null,
            "justify_content": null,
            "justify_items": null,
            "left": null,
            "margin": null,
            "max_height": null,
            "max_width": null,
            "min_height": null,
            "min_width": null,
            "object_fit": null,
            "object_position": null,
            "order": null,
            "overflow": null,
            "overflow_x": null,
            "overflow_y": null,
            "padding": null,
            "right": null,
            "top": null,
            "visibility": null,
            "width": null
          }
        },
        "8fd5b511542e4cfb8b5248e9cc7a9a8c": {
          "model_module": "@jupyter-widgets/controls",
          "model_name": "DescriptionStyleModel",
          "model_module_version": "1.5.0",
          "state": {
            "_model_module": "@jupyter-widgets/controls",
            "_model_module_version": "1.5.0",
            "_model_name": "DescriptionStyleModel",
            "_view_count": null,
            "_view_module": "@jupyter-widgets/base",
            "_view_module_version": "1.2.0",
            "_view_name": "StyleView",
            "description_width": ""
          }
        },
        "c7a3c7a42539423087ea8d4197829fa4": {
          "model_module": "@jupyter-widgets/controls",
          "model_name": "HBoxModel",
          "model_module_version": "1.5.0",
          "state": {
            "_dom_classes": [],
            "_model_module": "@jupyter-widgets/controls",
            "_model_module_version": "1.5.0",
            "_model_name": "HBoxModel",
            "_view_count": null,
            "_view_module": "@jupyter-widgets/controls",
            "_view_module_version": "1.5.0",
            "_view_name": "HBoxView",
            "box_style": "",
            "children": [
              "IPY_MODEL_abd383a46a7e4814b93e9a982944bbf2",
              "IPY_MODEL_bff35a5efa484d57addbc06d10582778",
              "IPY_MODEL_76d5e7c7f18542428f73c613f685b332"
            ],
            "layout": "IPY_MODEL_74598a4f63754263b789cad7a3320744"
          }
        },
        "abd383a46a7e4814b93e9a982944bbf2": {
          "model_module": "@jupyter-widgets/controls",
          "model_name": "HTMLModel",
          "model_module_version": "1.5.0",
          "state": {
            "_dom_classes": [],
            "_model_module": "@jupyter-widgets/controls",
            "_model_module_version": "1.5.0",
            "_model_name": "HTMLModel",
            "_view_count": null,
            "_view_module": "@jupyter-widgets/controls",
            "_view_module_version": "1.5.0",
            "_view_name": "HTMLView",
            "description": "",
            "description_tooltip": null,
            "layout": "IPY_MODEL_c7cb76e6458b483d92df2451f061774a",
            "placeholder": "​",
            "style": "IPY_MODEL_975007d51bcc4ebf986277aea67c9fe7",
            "value": ".gitattributes: 100%"
          }
        },
        "bff35a5efa484d57addbc06d10582778": {
          "model_module": "@jupyter-widgets/controls",
          "model_name": "FloatProgressModel",
          "model_module_version": "1.5.0",
          "state": {
            "_dom_classes": [],
            "_model_module": "@jupyter-widgets/controls",
            "_model_module_version": "1.5.0",
            "_model_name": "FloatProgressModel",
            "_view_count": null,
            "_view_module": "@jupyter-widgets/controls",
            "_view_module_version": "1.5.0",
            "_view_name": "ProgressView",
            "bar_style": "success",
            "description": "",
            "description_tooltip": null,
            "layout": "IPY_MODEL_b86377330714479ba3acf6e3a7b92279",
            "max": 1229,
            "min": 0,
            "orientation": "horizontal",
            "style": "IPY_MODEL_6bcdca50ffdd46d4b697628e7b0e18d0",
            "value": 1229
          }
        },
        "76d5e7c7f18542428f73c613f685b332": {
          "model_module": "@jupyter-widgets/controls",
          "model_name": "HTMLModel",
          "model_module_version": "1.5.0",
          "state": {
            "_dom_classes": [],
            "_model_module": "@jupyter-widgets/controls",
            "_model_module_version": "1.5.0",
            "_model_name": "HTMLModel",
            "_view_count": null,
            "_view_module": "@jupyter-widgets/controls",
            "_view_module_version": "1.5.0",
            "_view_name": "HTMLView",
            "description": "",
            "description_tooltip": null,
            "layout": "IPY_MODEL_4875b5017d564dfb851cc84ea14f6880",
            "placeholder": "​",
            "style": "IPY_MODEL_901609662c5747d281590934a75edb5b",
            "value": " 1.23k/1.23k [00:00&lt;00:00, 109kB/s]"
          }
        },
        "74598a4f63754263b789cad7a3320744": {
          "model_module": "@jupyter-widgets/base",
          "model_name": "LayoutModel",
          "model_module_version": "1.2.0",
          "state": {
            "_model_module": "@jupyter-widgets/base",
            "_model_module_version": "1.2.0",
            "_model_name": "LayoutModel",
            "_view_count": null,
            "_view_module": "@jupyter-widgets/base",
            "_view_module_version": "1.2.0",
            "_view_name": "LayoutView",
            "align_content": null,
            "align_items": null,
            "align_self": null,
            "border": null,
            "bottom": null,
            "display": null,
            "flex": null,
            "flex_flow": null,
            "grid_area": null,
            "grid_auto_columns": null,
            "grid_auto_flow": null,
            "grid_auto_rows": null,
            "grid_column": null,
            "grid_gap": null,
            "grid_row": null,
            "grid_template_areas": null,
            "grid_template_columns": null,
            "grid_template_rows": null,
            "height": null,
            "justify_content": null,
            "justify_items": null,
            "left": null,
            "margin": null,
            "max_height": null,
            "max_width": null,
            "min_height": null,
            "min_width": null,
            "object_fit": null,
            "object_position": null,
            "order": null,
            "overflow": null,
            "overflow_x": null,
            "overflow_y": null,
            "padding": null,
            "right": null,
            "top": null,
            "visibility": null,
            "width": null
          }
        },
        "c7cb76e6458b483d92df2451f061774a": {
          "model_module": "@jupyter-widgets/base",
          "model_name": "LayoutModel",
          "model_module_version": "1.2.0",
          "state": {
            "_model_module": "@jupyter-widgets/base",
            "_model_module_version": "1.2.0",
            "_model_name": "LayoutModel",
            "_view_count": null,
            "_view_module": "@jupyter-widgets/base",
            "_view_module_version": "1.2.0",
            "_view_name": "LayoutView",
            "align_content": null,
            "align_items": null,
            "align_self": null,
            "border": null,
            "bottom": null,
            "display": null,
            "flex": null,
            "flex_flow": null,
            "grid_area": null,
            "grid_auto_columns": null,
            "grid_auto_flow": null,
            "grid_auto_rows": null,
            "grid_column": null,
            "grid_gap": null,
            "grid_row": null,
            "grid_template_areas": null,
            "grid_template_columns": null,
            "grid_template_rows": null,
            "height": null,
            "justify_content": null,
            "justify_items": null,
            "left": null,
            "margin": null,
            "max_height": null,
            "max_width": null,
            "min_height": null,
            "min_width": null,
            "object_fit": null,
            "object_position": null,
            "order": null,
            "overflow": null,
            "overflow_x": null,
            "overflow_y": null,
            "padding": null,
            "right": null,
            "top": null,
            "visibility": null,
            "width": null
          }
        },
        "975007d51bcc4ebf986277aea67c9fe7": {
          "model_module": "@jupyter-widgets/controls",
          "model_name": "DescriptionStyleModel",
          "model_module_version": "1.5.0",
          "state": {
            "_model_module": "@jupyter-widgets/controls",
            "_model_module_version": "1.5.0",
            "_model_name": "DescriptionStyleModel",
            "_view_count": null,
            "_view_module": "@jupyter-widgets/base",
            "_view_module_version": "1.2.0",
            "_view_name": "StyleView",
            "description_width": ""
          }
        },
        "b86377330714479ba3acf6e3a7b92279": {
          "model_module": "@jupyter-widgets/base",
          "model_name": "LayoutModel",
          "model_module_version": "1.2.0",
          "state": {
            "_model_module": "@jupyter-widgets/base",
            "_model_module_version": "1.2.0",
            "_model_name": "LayoutModel",
            "_view_count": null,
            "_view_module": "@jupyter-widgets/base",
            "_view_module_version": "1.2.0",
            "_view_name": "LayoutView",
            "align_content": null,
            "align_items": null,
            "align_self": null,
            "border": null,
            "bottom": null,
            "display": null,
            "flex": null,
            "flex_flow": null,
            "grid_area": null,
            "grid_auto_columns": null,
            "grid_auto_flow": null,
            "grid_auto_rows": null,
            "grid_column": null,
            "grid_gap": null,
            "grid_row": null,
            "grid_template_areas": null,
            "grid_template_columns": null,
            "grid_template_rows": null,
            "height": null,
            "justify_content": null,
            "justify_items": null,
            "left": null,
            "margin": null,
            "max_height": null,
            "max_width": null,
            "min_height": null,
            "min_width": null,
            "object_fit": null,
            "object_position": null,
            "order": null,
            "overflow": null,
            "overflow_x": null,
            "overflow_y": null,
            "padding": null,
            "right": null,
            "top": null,
            "visibility": null,
            "width": null
          }
        },
        "6bcdca50ffdd46d4b697628e7b0e18d0": {
          "model_module": "@jupyter-widgets/controls",
          "model_name": "ProgressStyleModel",
          "model_module_version": "1.5.0",
          "state": {
            "_model_module": "@jupyter-widgets/controls",
            "_model_module_version": "1.5.0",
            "_model_name": "ProgressStyleModel",
            "_view_count": null,
            "_view_module": "@jupyter-widgets/base",
            "_view_module_version": "1.2.0",
            "_view_name": "StyleView",
            "bar_color": null,
            "description_width": ""
          }
        },
        "4875b5017d564dfb851cc84ea14f6880": {
          "model_module": "@jupyter-widgets/base",
          "model_name": "LayoutModel",
          "model_module_version": "1.2.0",
          "state": {
            "_model_module": "@jupyter-widgets/base",
            "_model_module_version": "1.2.0",
            "_model_name": "LayoutModel",
            "_view_count": null,
            "_view_module": "@jupyter-widgets/base",
            "_view_module_version": "1.2.0",
            "_view_name": "LayoutView",
            "align_content": null,
            "align_items": null,
            "align_self": null,
            "border": null,
            "bottom": null,
            "display": null,
            "flex": null,
            "flex_flow": null,
            "grid_area": null,
            "grid_auto_columns": null,
            "grid_auto_flow": null,
            "grid_auto_rows": null,
            "grid_column": null,
            "grid_gap": null,
            "grid_row": null,
            "grid_template_areas": null,
            "grid_template_columns": null,
            "grid_template_rows": null,
            "height": null,
            "justify_content": null,
            "justify_items": null,
            "left": null,
            "margin": null,
            "max_height": null,
            "max_width": null,
            "min_height": null,
            "min_width": null,
            "object_fit": null,
            "object_position": null,
            "order": null,
            "overflow": null,
            "overflow_x": null,
            "overflow_y": null,
            "padding": null,
            "right": null,
            "top": null,
            "visibility": null,
            "width": null
          }
        },
        "901609662c5747d281590934a75edb5b": {
          "model_module": "@jupyter-widgets/controls",
          "model_name": "DescriptionStyleModel",
          "model_module_version": "1.5.0",
          "state": {
            "_model_module": "@jupyter-widgets/controls",
            "_model_module_version": "1.5.0",
            "_model_name": "DescriptionStyleModel",
            "_view_count": null,
            "_view_module": "@jupyter-widgets/base",
            "_view_module_version": "1.2.0",
            "_view_name": "StyleView",
            "description_width": ""
          }
        },
        "00fa85390aa241a7a95286125d858155": {
          "model_module": "@jupyter-widgets/controls",
          "model_name": "HBoxModel",
          "model_module_version": "1.5.0",
          "state": {
            "_dom_classes": [],
            "_model_module": "@jupyter-widgets/controls",
            "_model_module_version": "1.5.0",
            "_model_name": "HBoxModel",
            "_view_count": null,
            "_view_module": "@jupyter-widgets/controls",
            "_view_module_version": "1.5.0",
            "_view_name": "HBoxView",
            "box_style": "",
            "children": [
              "IPY_MODEL_421e39aeb61a423aaba88a4d911cf98d",
              "IPY_MODEL_90141aed0592453bad7ef5822a25f789",
              "IPY_MODEL_95cbafa19e2c40f681facacaa2ec57b8"
            ],
            "layout": "IPY_MODEL_7cf4f2f1623648a694751f4557f3a410"
          }
        },
        "421e39aeb61a423aaba88a4d911cf98d": {
          "model_module": "@jupyter-widgets/controls",
          "model_name": "HTMLModel",
          "model_module_version": "1.5.0",
          "state": {
            "_dom_classes": [],
            "_model_module": "@jupyter-widgets/controls",
            "_model_module_version": "1.5.0",
            "_model_name": "HTMLModel",
            "_view_count": null,
            "_view_module": "@jupyter-widgets/controls",
            "_view_module_version": "1.5.0",
            "_view_name": "HTMLView",
            "description": "",
            "description_tooltip": null,
            "layout": "IPY_MODEL_f0fc26d505154596b60f1b05bead40b9",
            "placeholder": "​",
            "style": "IPY_MODEL_9baff606006f41d1823c8601a51161de",
            "value": "1_Pooling/config.json: 100%"
          }
        },
        "90141aed0592453bad7ef5822a25f789": {
          "model_module": "@jupyter-widgets/controls",
          "model_name": "FloatProgressModel",
          "model_module_version": "1.5.0",
          "state": {
            "_dom_classes": [],
            "_model_module": "@jupyter-widgets/controls",
            "_model_module_version": "1.5.0",
            "_model_name": "FloatProgressModel",
            "_view_count": null,
            "_view_module": "@jupyter-widgets/controls",
            "_view_module_version": "1.5.0",
            "_view_name": "ProgressView",
            "bar_style": "success",
            "description": "",
            "description_tooltip": null,
            "layout": "IPY_MODEL_8be8fef5f8df44c4b93a68734749da6f",
            "max": 190,
            "min": 0,
            "orientation": "horizontal",
            "style": "IPY_MODEL_2176f0f6f84f46e0a34873b4428a4f8a",
            "value": 190
          }
        },
        "95cbafa19e2c40f681facacaa2ec57b8": {
          "model_module": "@jupyter-widgets/controls",
          "model_name": "HTMLModel",
          "model_module_version": "1.5.0",
          "state": {
            "_dom_classes": [],
            "_model_module": "@jupyter-widgets/controls",
            "_model_module_version": "1.5.0",
            "_model_name": "HTMLModel",
            "_view_count": null,
            "_view_module": "@jupyter-widgets/controls",
            "_view_module_version": "1.5.0",
            "_view_name": "HTMLView",
            "description": "",
            "description_tooltip": null,
            "layout": "IPY_MODEL_c75406cea367418a919ff1a37085a905",
            "placeholder": "​",
            "style": "IPY_MODEL_53c0b87da13f4270abde3534d746bb08",
            "value": " 190/190 [00:00&lt;00:00, 17.8kB/s]"
          }
        },
        "7cf4f2f1623648a694751f4557f3a410": {
          "model_module": "@jupyter-widgets/base",
          "model_name": "LayoutModel",
          "model_module_version": "1.2.0",
          "state": {
            "_model_module": "@jupyter-widgets/base",
            "_model_module_version": "1.2.0",
            "_model_name": "LayoutModel",
            "_view_count": null,
            "_view_module": "@jupyter-widgets/base",
            "_view_module_version": "1.2.0",
            "_view_name": "LayoutView",
            "align_content": null,
            "align_items": null,
            "align_self": null,
            "border": null,
            "bottom": null,
            "display": null,
            "flex": null,
            "flex_flow": null,
            "grid_area": null,
            "grid_auto_columns": null,
            "grid_auto_flow": null,
            "grid_auto_rows": null,
            "grid_column": null,
            "grid_gap": null,
            "grid_row": null,
            "grid_template_areas": null,
            "grid_template_columns": null,
            "grid_template_rows": null,
            "height": null,
            "justify_content": null,
            "justify_items": null,
            "left": null,
            "margin": null,
            "max_height": null,
            "max_width": null,
            "min_height": null,
            "min_width": null,
            "object_fit": null,
            "object_position": null,
            "order": null,
            "overflow": null,
            "overflow_x": null,
            "overflow_y": null,
            "padding": null,
            "right": null,
            "top": null,
            "visibility": null,
            "width": null
          }
        },
        "f0fc26d505154596b60f1b05bead40b9": {
          "model_module": "@jupyter-widgets/base",
          "model_name": "LayoutModel",
          "model_module_version": "1.2.0",
          "state": {
            "_model_module": "@jupyter-widgets/base",
            "_model_module_version": "1.2.0",
            "_model_name": "LayoutModel",
            "_view_count": null,
            "_view_module": "@jupyter-widgets/base",
            "_view_module_version": "1.2.0",
            "_view_name": "LayoutView",
            "align_content": null,
            "align_items": null,
            "align_self": null,
            "border": null,
            "bottom": null,
            "display": null,
            "flex": null,
            "flex_flow": null,
            "grid_area": null,
            "grid_auto_columns": null,
            "grid_auto_flow": null,
            "grid_auto_rows": null,
            "grid_column": null,
            "grid_gap": null,
            "grid_row": null,
            "grid_template_areas": null,
            "grid_template_columns": null,
            "grid_template_rows": null,
            "height": null,
            "justify_content": null,
            "justify_items": null,
            "left": null,
            "margin": null,
            "max_height": null,
            "max_width": null,
            "min_height": null,
            "min_width": null,
            "object_fit": null,
            "object_position": null,
            "order": null,
            "overflow": null,
            "overflow_x": null,
            "overflow_y": null,
            "padding": null,
            "right": null,
            "top": null,
            "visibility": null,
            "width": null
          }
        },
        "9baff606006f41d1823c8601a51161de": {
          "model_module": "@jupyter-widgets/controls",
          "model_name": "DescriptionStyleModel",
          "model_module_version": "1.5.0",
          "state": {
            "_model_module": "@jupyter-widgets/controls",
            "_model_module_version": "1.5.0",
            "_model_name": "DescriptionStyleModel",
            "_view_count": null,
            "_view_module": "@jupyter-widgets/base",
            "_view_module_version": "1.2.0",
            "_view_name": "StyleView",
            "description_width": ""
          }
        },
        "8be8fef5f8df44c4b93a68734749da6f": {
          "model_module": "@jupyter-widgets/base",
          "model_name": "LayoutModel",
          "model_module_version": "1.2.0",
          "state": {
            "_model_module": "@jupyter-widgets/base",
            "_model_module_version": "1.2.0",
            "_model_name": "LayoutModel",
            "_view_count": null,
            "_view_module": "@jupyter-widgets/base",
            "_view_module_version": "1.2.0",
            "_view_name": "LayoutView",
            "align_content": null,
            "align_items": null,
            "align_self": null,
            "border": null,
            "bottom": null,
            "display": null,
            "flex": null,
            "flex_flow": null,
            "grid_area": null,
            "grid_auto_columns": null,
            "grid_auto_flow": null,
            "grid_auto_rows": null,
            "grid_column": null,
            "grid_gap": null,
            "grid_row": null,
            "grid_template_areas": null,
            "grid_template_columns": null,
            "grid_template_rows": null,
            "height": null,
            "justify_content": null,
            "justify_items": null,
            "left": null,
            "margin": null,
            "max_height": null,
            "max_width": null,
            "min_height": null,
            "min_width": null,
            "object_fit": null,
            "object_position": null,
            "order": null,
            "overflow": null,
            "overflow_x": null,
            "overflow_y": null,
            "padding": null,
            "right": null,
            "top": null,
            "visibility": null,
            "width": null
          }
        },
        "2176f0f6f84f46e0a34873b4428a4f8a": {
          "model_module": "@jupyter-widgets/controls",
          "model_name": "ProgressStyleModel",
          "model_module_version": "1.5.0",
          "state": {
            "_model_module": "@jupyter-widgets/controls",
            "_model_module_version": "1.5.0",
            "_model_name": "ProgressStyleModel",
            "_view_count": null,
            "_view_module": "@jupyter-widgets/base",
            "_view_module_version": "1.2.0",
            "_view_name": "StyleView",
            "bar_color": null,
            "description_width": ""
          }
        },
        "c75406cea367418a919ff1a37085a905": {
          "model_module": "@jupyter-widgets/base",
          "model_name": "LayoutModel",
          "model_module_version": "1.2.0",
          "state": {
            "_model_module": "@jupyter-widgets/base",
            "_model_module_version": "1.2.0",
            "_model_name": "LayoutModel",
            "_view_count": null,
            "_view_module": "@jupyter-widgets/base",
            "_view_module_version": "1.2.0",
            "_view_name": "LayoutView",
            "align_content": null,
            "align_items": null,
            "align_self": null,
            "border": null,
            "bottom": null,
            "display": null,
            "flex": null,
            "flex_flow": null,
            "grid_area": null,
            "grid_auto_columns": null,
            "grid_auto_flow": null,
            "grid_auto_rows": null,
            "grid_column": null,
            "grid_gap": null,
            "grid_row": null,
            "grid_template_areas": null,
            "grid_template_columns": null,
            "grid_template_rows": null,
            "height": null,
            "justify_content": null,
            "justify_items": null,
            "left": null,
            "margin": null,
            "max_height": null,
            "max_width": null,
            "min_height": null,
            "min_width": null,
            "object_fit": null,
            "object_position": null,
            "order": null,
            "overflow": null,
            "overflow_x": null,
            "overflow_y": null,
            "padding": null,
            "right": null,
            "top": null,
            "visibility": null,
            "width": null
          }
        },
        "53c0b87da13f4270abde3534d746bb08": {
          "model_module": "@jupyter-widgets/controls",
          "model_name": "DescriptionStyleModel",
          "model_module_version": "1.5.0",
          "state": {
            "_model_module": "@jupyter-widgets/controls",
            "_model_module_version": "1.5.0",
            "_model_name": "DescriptionStyleModel",
            "_view_count": null,
            "_view_module": "@jupyter-widgets/base",
            "_view_module_version": "1.2.0",
            "_view_name": "StyleView",
            "description_width": ""
          }
        },
        "24d705a441d84cd1b8fdc25cbf1914be": {
          "model_module": "@jupyter-widgets/controls",
          "model_name": "HBoxModel",
          "model_module_version": "1.5.0",
          "state": {
            "_dom_classes": [],
            "_model_module": "@jupyter-widgets/controls",
            "_model_module_version": "1.5.0",
            "_model_name": "HBoxModel",
            "_view_count": null,
            "_view_module": "@jupyter-widgets/controls",
            "_view_module_version": "1.5.0",
            "_view_name": "HBoxView",
            "box_style": "",
            "children": [
              "IPY_MODEL_b73cedcfe52f4770a70c1872057408ed",
              "IPY_MODEL_4fa689a57caf4d1c97cfe769c15564f2",
              "IPY_MODEL_2bedb624581f49ee865ec2094779adbf"
            ],
            "layout": "IPY_MODEL_686fd40cf879482789290680de6fb4cc"
          }
        },
        "b73cedcfe52f4770a70c1872057408ed": {
          "model_module": "@jupyter-widgets/controls",
          "model_name": "HTMLModel",
          "model_module_version": "1.5.0",
          "state": {
            "_dom_classes": [],
            "_model_module": "@jupyter-widgets/controls",
            "_model_module_version": "1.5.0",
            "_model_name": "HTMLModel",
            "_view_count": null,
            "_view_module": "@jupyter-widgets/controls",
            "_view_module_version": "1.5.0",
            "_view_name": "HTMLView",
            "description": "",
            "description_tooltip": null,
            "layout": "IPY_MODEL_821a14f14f5940ffb7d58782377c1a7b",
            "placeholder": "​",
            "style": "IPY_MODEL_1d2538414d264064846448ee0372e2b3",
            "value": "README.md: 100%"
          }
        },
        "4fa689a57caf4d1c97cfe769c15564f2": {
          "model_module": "@jupyter-widgets/controls",
          "model_name": "FloatProgressModel",
          "model_module_version": "1.5.0",
          "state": {
            "_dom_classes": [],
            "_model_module": "@jupyter-widgets/controls",
            "_model_module_version": "1.5.0",
            "_model_name": "FloatProgressModel",
            "_view_count": null,
            "_view_module": "@jupyter-widgets/controls",
            "_view_module_version": "1.5.0",
            "_view_name": "ProgressView",
            "bar_style": "success",
            "description": "",
            "description_tooltip": null,
            "layout": "IPY_MODEL_fc08676c73d74d81a3cdcf020ba577f7",
            "max": 10659,
            "min": 0,
            "orientation": "horizontal",
            "style": "IPY_MODEL_74810321c96e43e2800e916dcf8fd79d",
            "value": 10659
          }
        },
        "2bedb624581f49ee865ec2094779adbf": {
          "model_module": "@jupyter-widgets/controls",
          "model_name": "HTMLModel",
          "model_module_version": "1.5.0",
          "state": {
            "_dom_classes": [],
            "_model_module": "@jupyter-widgets/controls",
            "_model_module_version": "1.5.0",
            "_model_name": "HTMLModel",
            "_view_count": null,
            "_view_module": "@jupyter-widgets/controls",
            "_view_module_version": "1.5.0",
            "_view_name": "HTMLView",
            "description": "",
            "description_tooltip": null,
            "layout": "IPY_MODEL_a39ed3d6c8314cb2a5fa0970d21968d7",
            "placeholder": "​",
            "style": "IPY_MODEL_21ac5338af8f4d37b73f018eb31f252c",
            "value": " 10.7k/10.7k [00:00&lt;00:00, 925kB/s]"
          }
        },
        "686fd40cf879482789290680de6fb4cc": {
          "model_module": "@jupyter-widgets/base",
          "model_name": "LayoutModel",
          "model_module_version": "1.2.0",
          "state": {
            "_model_module": "@jupyter-widgets/base",
            "_model_module_version": "1.2.0",
            "_model_name": "LayoutModel",
            "_view_count": null,
            "_view_module": "@jupyter-widgets/base",
            "_view_module_version": "1.2.0",
            "_view_name": "LayoutView",
            "align_content": null,
            "align_items": null,
            "align_self": null,
            "border": null,
            "bottom": null,
            "display": null,
            "flex": null,
            "flex_flow": null,
            "grid_area": null,
            "grid_auto_columns": null,
            "grid_auto_flow": null,
            "grid_auto_rows": null,
            "grid_column": null,
            "grid_gap": null,
            "grid_row": null,
            "grid_template_areas": null,
            "grid_template_columns": null,
            "grid_template_rows": null,
            "height": null,
            "justify_content": null,
            "justify_items": null,
            "left": null,
            "margin": null,
            "max_height": null,
            "max_width": null,
            "min_height": null,
            "min_width": null,
            "object_fit": null,
            "object_position": null,
            "order": null,
            "overflow": null,
            "overflow_x": null,
            "overflow_y": null,
            "padding": null,
            "right": null,
            "top": null,
            "visibility": null,
            "width": null
          }
        },
        "821a14f14f5940ffb7d58782377c1a7b": {
          "model_module": "@jupyter-widgets/base",
          "model_name": "LayoutModel",
          "model_module_version": "1.2.0",
          "state": {
            "_model_module": "@jupyter-widgets/base",
            "_model_module_version": "1.2.0",
            "_model_name": "LayoutModel",
            "_view_count": null,
            "_view_module": "@jupyter-widgets/base",
            "_view_module_version": "1.2.0",
            "_view_name": "LayoutView",
            "align_content": null,
            "align_items": null,
            "align_self": null,
            "border": null,
            "bottom": null,
            "display": null,
            "flex": null,
            "flex_flow": null,
            "grid_area": null,
            "grid_auto_columns": null,
            "grid_auto_flow": null,
            "grid_auto_rows": null,
            "grid_column": null,
            "grid_gap": null,
            "grid_row": null,
            "grid_template_areas": null,
            "grid_template_columns": null,
            "grid_template_rows": null,
            "height": null,
            "justify_content": null,
            "justify_items": null,
            "left": null,
            "margin": null,
            "max_height": null,
            "max_width": null,
            "min_height": null,
            "min_width": null,
            "object_fit": null,
            "object_position": null,
            "order": null,
            "overflow": null,
            "overflow_x": null,
            "overflow_y": null,
            "padding": null,
            "right": null,
            "top": null,
            "visibility": null,
            "width": null
          }
        },
        "1d2538414d264064846448ee0372e2b3": {
          "model_module": "@jupyter-widgets/controls",
          "model_name": "DescriptionStyleModel",
          "model_module_version": "1.5.0",
          "state": {
            "_model_module": "@jupyter-widgets/controls",
            "_model_module_version": "1.5.0",
            "_model_name": "DescriptionStyleModel",
            "_view_count": null,
            "_view_module": "@jupyter-widgets/base",
            "_view_module_version": "1.2.0",
            "_view_name": "StyleView",
            "description_width": ""
          }
        },
        "fc08676c73d74d81a3cdcf020ba577f7": {
          "model_module": "@jupyter-widgets/base",
          "model_name": "LayoutModel",
          "model_module_version": "1.2.0",
          "state": {
            "_model_module": "@jupyter-widgets/base",
            "_model_module_version": "1.2.0",
            "_model_name": "LayoutModel",
            "_view_count": null,
            "_view_module": "@jupyter-widgets/base",
            "_view_module_version": "1.2.0",
            "_view_name": "LayoutView",
            "align_content": null,
            "align_items": null,
            "align_self": null,
            "border": null,
            "bottom": null,
            "display": null,
            "flex": null,
            "flex_flow": null,
            "grid_area": null,
            "grid_auto_columns": null,
            "grid_auto_flow": null,
            "grid_auto_rows": null,
            "grid_column": null,
            "grid_gap": null,
            "grid_row": null,
            "grid_template_areas": null,
            "grid_template_columns": null,
            "grid_template_rows": null,
            "height": null,
            "justify_content": null,
            "justify_items": null,
            "left": null,
            "margin": null,
            "max_height": null,
            "max_width": null,
            "min_height": null,
            "min_width": null,
            "object_fit": null,
            "object_position": null,
            "order": null,
            "overflow": null,
            "overflow_x": null,
            "overflow_y": null,
            "padding": null,
            "right": null,
            "top": null,
            "visibility": null,
            "width": null
          }
        },
        "74810321c96e43e2800e916dcf8fd79d": {
          "model_module": "@jupyter-widgets/controls",
          "model_name": "ProgressStyleModel",
          "model_module_version": "1.5.0",
          "state": {
            "_model_module": "@jupyter-widgets/controls",
            "_model_module_version": "1.5.0",
            "_model_name": "ProgressStyleModel",
            "_view_count": null,
            "_view_module": "@jupyter-widgets/base",
            "_view_module_version": "1.2.0",
            "_view_name": "StyleView",
            "bar_color": null,
            "description_width": ""
          }
        },
        "a39ed3d6c8314cb2a5fa0970d21968d7": {
          "model_module": "@jupyter-widgets/base",
          "model_name": "LayoutModel",
          "model_module_version": "1.2.0",
          "state": {
            "_model_module": "@jupyter-widgets/base",
            "_model_module_version": "1.2.0",
            "_model_name": "LayoutModel",
            "_view_count": null,
            "_view_module": "@jupyter-widgets/base",
            "_view_module_version": "1.2.0",
            "_view_name": "LayoutView",
            "align_content": null,
            "align_items": null,
            "align_self": null,
            "border": null,
            "bottom": null,
            "display": null,
            "flex": null,
            "flex_flow": null,
            "grid_area": null,
            "grid_auto_columns": null,
            "grid_auto_flow": null,
            "grid_auto_rows": null,
            "grid_column": null,
            "grid_gap": null,
            "grid_row": null,
            "grid_template_areas": null,
            "grid_template_columns": null,
            "grid_template_rows": null,
            "height": null,
            "justify_content": null,
            "justify_items": null,
            "left": null,
            "margin": null,
            "max_height": null,
            "max_width": null,
            "min_height": null,
            "min_width": null,
            "object_fit": null,
            "object_position": null,
            "order": null,
            "overflow": null,
            "overflow_x": null,
            "overflow_y": null,
            "padding": null,
            "right": null,
            "top": null,
            "visibility": null,
            "width": null
          }
        },
        "21ac5338af8f4d37b73f018eb31f252c": {
          "model_module": "@jupyter-widgets/controls",
          "model_name": "DescriptionStyleModel",
          "model_module_version": "1.5.0",
          "state": {
            "_model_module": "@jupyter-widgets/controls",
            "_model_module_version": "1.5.0",
            "_model_name": "DescriptionStyleModel",
            "_view_count": null,
            "_view_module": "@jupyter-widgets/base",
            "_view_module_version": "1.2.0",
            "_view_name": "StyleView",
            "description_width": ""
          }
        },
        "dc134bbf274346f7bb98298c0a15f046": {
          "model_module": "@jupyter-widgets/controls",
          "model_name": "HBoxModel",
          "model_module_version": "1.5.0",
          "state": {
            "_dom_classes": [],
            "_model_module": "@jupyter-widgets/controls",
            "_model_module_version": "1.5.0",
            "_model_name": "HBoxModel",
            "_view_count": null,
            "_view_module": "@jupyter-widgets/controls",
            "_view_module_version": "1.5.0",
            "_view_name": "HBoxView",
            "box_style": "",
            "children": [
              "IPY_MODEL_eb95147f5ead4b76a375a8f2aedc52f0",
              "IPY_MODEL_8438653b37fd4daea6431e65a2c51d1a",
              "IPY_MODEL_c7299f4003d847b886dcb10c6b01bcd4"
            ],
            "layout": "IPY_MODEL_8b1c9fc5462e40f1a7433e9771f2c088"
          }
        },
        "eb95147f5ead4b76a375a8f2aedc52f0": {
          "model_module": "@jupyter-widgets/controls",
          "model_name": "HTMLModel",
          "model_module_version": "1.5.0",
          "state": {
            "_dom_classes": [],
            "_model_module": "@jupyter-widgets/controls",
            "_model_module_version": "1.5.0",
            "_model_name": "HTMLModel",
            "_view_count": null,
            "_view_module": "@jupyter-widgets/controls",
            "_view_module_version": "1.5.0",
            "_view_name": "HTMLView",
            "description": "",
            "description_tooltip": null,
            "layout": "IPY_MODEL_f12b39ed723c4b5093cd75679f558762",
            "placeholder": "​",
            "style": "IPY_MODEL_374869ae43234569af82b4dcba370dfb",
            "value": "config.json: 100%"
          }
        },
        "8438653b37fd4daea6431e65a2c51d1a": {
          "model_module": "@jupyter-widgets/controls",
          "model_name": "FloatProgressModel",
          "model_module_version": "1.5.0",
          "state": {
            "_dom_classes": [],
            "_model_module": "@jupyter-widgets/controls",
            "_model_module_version": "1.5.0",
            "_model_name": "FloatProgressModel",
            "_view_count": null,
            "_view_module": "@jupyter-widgets/controls",
            "_view_module_version": "1.5.0",
            "_view_name": "ProgressView",
            "bar_style": "success",
            "description": "",
            "description_tooltip": null,
            "layout": "IPY_MODEL_eed3314a049a4e18be8938858a42e15c",
            "max": 612,
            "min": 0,
            "orientation": "horizontal",
            "style": "IPY_MODEL_864cf580a3e64c9891201f56894118fd",
            "value": 612
          }
        },
        "c7299f4003d847b886dcb10c6b01bcd4": {
          "model_module": "@jupyter-widgets/controls",
          "model_name": "HTMLModel",
          "model_module_version": "1.5.0",
          "state": {
            "_dom_classes": [],
            "_model_module": "@jupyter-widgets/controls",
            "_model_module_version": "1.5.0",
            "_model_name": "HTMLModel",
            "_view_count": null,
            "_view_module": "@jupyter-widgets/controls",
            "_view_module_version": "1.5.0",
            "_view_name": "HTMLView",
            "description": "",
            "description_tooltip": null,
            "layout": "IPY_MODEL_d2e86e8b323a441eb232c3d3bb3e5100",
            "placeholder": "​",
            "style": "IPY_MODEL_83a5462fc6e340f58852485b236e7853",
            "value": " 612/612 [00:00&lt;00:00, 59.3kB/s]"
          }
        },
        "8b1c9fc5462e40f1a7433e9771f2c088": {
          "model_module": "@jupyter-widgets/base",
          "model_name": "LayoutModel",
          "model_module_version": "1.2.0",
          "state": {
            "_model_module": "@jupyter-widgets/base",
            "_model_module_version": "1.2.0",
            "_model_name": "LayoutModel",
            "_view_count": null,
            "_view_module": "@jupyter-widgets/base",
            "_view_module_version": "1.2.0",
            "_view_name": "LayoutView",
            "align_content": null,
            "align_items": null,
            "align_self": null,
            "border": null,
            "bottom": null,
            "display": null,
            "flex": null,
            "flex_flow": null,
            "grid_area": null,
            "grid_auto_columns": null,
            "grid_auto_flow": null,
            "grid_auto_rows": null,
            "grid_column": null,
            "grid_gap": null,
            "grid_row": null,
            "grid_template_areas": null,
            "grid_template_columns": null,
            "grid_template_rows": null,
            "height": null,
            "justify_content": null,
            "justify_items": null,
            "left": null,
            "margin": null,
            "max_height": null,
            "max_width": null,
            "min_height": null,
            "min_width": null,
            "object_fit": null,
            "object_position": null,
            "order": null,
            "overflow": null,
            "overflow_x": null,
            "overflow_y": null,
            "padding": null,
            "right": null,
            "top": null,
            "visibility": null,
            "width": null
          }
        },
        "f12b39ed723c4b5093cd75679f558762": {
          "model_module": "@jupyter-widgets/base",
          "model_name": "LayoutModel",
          "model_module_version": "1.2.0",
          "state": {
            "_model_module": "@jupyter-widgets/base",
            "_model_module_version": "1.2.0",
            "_model_name": "LayoutModel",
            "_view_count": null,
            "_view_module": "@jupyter-widgets/base",
            "_view_module_version": "1.2.0",
            "_view_name": "LayoutView",
            "align_content": null,
            "align_items": null,
            "align_self": null,
            "border": null,
            "bottom": null,
            "display": null,
            "flex": null,
            "flex_flow": null,
            "grid_area": null,
            "grid_auto_columns": null,
            "grid_auto_flow": null,
            "grid_auto_rows": null,
            "grid_column": null,
            "grid_gap": null,
            "grid_row": null,
            "grid_template_areas": null,
            "grid_template_columns": null,
            "grid_template_rows": null,
            "height": null,
            "justify_content": null,
            "justify_items": null,
            "left": null,
            "margin": null,
            "max_height": null,
            "max_width": null,
            "min_height": null,
            "min_width": null,
            "object_fit": null,
            "object_position": null,
            "order": null,
            "overflow": null,
            "overflow_x": null,
            "overflow_y": null,
            "padding": null,
            "right": null,
            "top": null,
            "visibility": null,
            "width": null
          }
        },
        "374869ae43234569af82b4dcba370dfb": {
          "model_module": "@jupyter-widgets/controls",
          "model_name": "DescriptionStyleModel",
          "model_module_version": "1.5.0",
          "state": {
            "_model_module": "@jupyter-widgets/controls",
            "_model_module_version": "1.5.0",
            "_model_name": "DescriptionStyleModel",
            "_view_count": null,
            "_view_module": "@jupyter-widgets/base",
            "_view_module_version": "1.2.0",
            "_view_name": "StyleView",
            "description_width": ""
          }
        },
        "eed3314a049a4e18be8938858a42e15c": {
          "model_module": "@jupyter-widgets/base",
          "model_name": "LayoutModel",
          "model_module_version": "1.2.0",
          "state": {
            "_model_module": "@jupyter-widgets/base",
            "_model_module_version": "1.2.0",
            "_model_name": "LayoutModel",
            "_view_count": null,
            "_view_module": "@jupyter-widgets/base",
            "_view_module_version": "1.2.0",
            "_view_name": "LayoutView",
            "align_content": null,
            "align_items": null,
            "align_self": null,
            "border": null,
            "bottom": null,
            "display": null,
            "flex": null,
            "flex_flow": null,
            "grid_area": null,
            "grid_auto_columns": null,
            "grid_auto_flow": null,
            "grid_auto_rows": null,
            "grid_column": null,
            "grid_gap": null,
            "grid_row": null,
            "grid_template_areas": null,
            "grid_template_columns": null,
            "grid_template_rows": null,
            "height": null,
            "justify_content": null,
            "justify_items": null,
            "left": null,
            "margin": null,
            "max_height": null,
            "max_width": null,
            "min_height": null,
            "min_width": null,
            "object_fit": null,
            "object_position": null,
            "order": null,
            "overflow": null,
            "overflow_x": null,
            "overflow_y": null,
            "padding": null,
            "right": null,
            "top": null,
            "visibility": null,
            "width": null
          }
        },
        "864cf580a3e64c9891201f56894118fd": {
          "model_module": "@jupyter-widgets/controls",
          "model_name": "ProgressStyleModel",
          "model_module_version": "1.5.0",
          "state": {
            "_model_module": "@jupyter-widgets/controls",
            "_model_module_version": "1.5.0",
            "_model_name": "ProgressStyleModel",
            "_view_count": null,
            "_view_module": "@jupyter-widgets/base",
            "_view_module_version": "1.2.0",
            "_view_name": "StyleView",
            "bar_color": null,
            "description_width": ""
          }
        },
        "d2e86e8b323a441eb232c3d3bb3e5100": {
          "model_module": "@jupyter-widgets/base",
          "model_name": "LayoutModel",
          "model_module_version": "1.2.0",
          "state": {
            "_model_module": "@jupyter-widgets/base",
            "_model_module_version": "1.2.0",
            "_model_name": "LayoutModel",
            "_view_count": null,
            "_view_module": "@jupyter-widgets/base",
            "_view_module_version": "1.2.0",
            "_view_name": "LayoutView",
            "align_content": null,
            "align_items": null,
            "align_self": null,
            "border": null,
            "bottom": null,
            "display": null,
            "flex": null,
            "flex_flow": null,
            "grid_area": null,
            "grid_auto_columns": null,
            "grid_auto_flow": null,
            "grid_auto_rows": null,
            "grid_column": null,
            "grid_gap": null,
            "grid_row": null,
            "grid_template_areas": null,
            "grid_template_columns": null,
            "grid_template_rows": null,
            "height": null,
            "justify_content": null,
            "justify_items": null,
            "left": null,
            "margin": null,
            "max_height": null,
            "max_width": null,
            "min_height": null,
            "min_width": null,
            "object_fit": null,
            "object_position": null,
            "order": null,
            "overflow": null,
            "overflow_x": null,
            "overflow_y": null,
            "padding": null,
            "right": null,
            "top": null,
            "visibility": null,
            "width": null
          }
        },
        "83a5462fc6e340f58852485b236e7853": {
          "model_module": "@jupyter-widgets/controls",
          "model_name": "DescriptionStyleModel",
          "model_module_version": "1.5.0",
          "state": {
            "_model_module": "@jupyter-widgets/controls",
            "_model_module_version": "1.5.0",
            "_model_name": "DescriptionStyleModel",
            "_view_count": null,
            "_view_module": "@jupyter-widgets/base",
            "_view_module_version": "1.2.0",
            "_view_name": "StyleView",
            "description_width": ""
          }
        },
        "402fe6b23b2c4eddba9df7a575ee95a5": {
          "model_module": "@jupyter-widgets/controls",
          "model_name": "HBoxModel",
          "model_module_version": "1.5.0",
          "state": {
            "_dom_classes": [],
            "_model_module": "@jupyter-widgets/controls",
            "_model_module_version": "1.5.0",
            "_model_name": "HBoxModel",
            "_view_count": null,
            "_view_module": "@jupyter-widgets/controls",
            "_view_module_version": "1.5.0",
            "_view_name": "HBoxView",
            "box_style": "",
            "children": [
              "IPY_MODEL_309b550b687b4b1e9e264893b8338b5e",
              "IPY_MODEL_8ddd345f520844ff99ee0585a9637d00",
              "IPY_MODEL_4c5eca5f92f94071a8b84c47afc2c35f"
            ],
            "layout": "IPY_MODEL_8e77d334fc3b443b91ad13e05c1d914a"
          }
        },
        "309b550b687b4b1e9e264893b8338b5e": {
          "model_module": "@jupyter-widgets/controls",
          "model_name": "HTMLModel",
          "model_module_version": "1.5.0",
          "state": {
            "_dom_classes": [],
            "_model_module": "@jupyter-widgets/controls",
            "_model_module_version": "1.5.0",
            "_model_name": "HTMLModel",
            "_view_count": null,
            "_view_module": "@jupyter-widgets/controls",
            "_view_module_version": "1.5.0",
            "_view_name": "HTMLView",
            "description": "",
            "description_tooltip": null,
            "layout": "IPY_MODEL_e22d1d757df14b16b354178e8647a739",
            "placeholder": "​",
            "style": "IPY_MODEL_62ca3442c2e44657aedd836fae1db399",
            "value": "config_sentence_transformers.json: 100%"
          }
        },
        "8ddd345f520844ff99ee0585a9637d00": {
          "model_module": "@jupyter-widgets/controls",
          "model_name": "FloatProgressModel",
          "model_module_version": "1.5.0",
          "state": {
            "_dom_classes": [],
            "_model_module": "@jupyter-widgets/controls",
            "_model_module_version": "1.5.0",
            "_model_name": "FloatProgressModel",
            "_view_count": null,
            "_view_module": "@jupyter-widgets/controls",
            "_view_module_version": "1.5.0",
            "_view_name": "ProgressView",
            "bar_style": "success",
            "description": "",
            "description_tooltip": null,
            "layout": "IPY_MODEL_8165928f13b54b3d90c4d3b6d1325dae",
            "max": 116,
            "min": 0,
            "orientation": "horizontal",
            "style": "IPY_MODEL_fa10935cb9ab4c50a93aa9273adabecf",
            "value": 116
          }
        },
        "4c5eca5f92f94071a8b84c47afc2c35f": {
          "model_module": "@jupyter-widgets/controls",
          "model_name": "HTMLModel",
          "model_module_version": "1.5.0",
          "state": {
            "_dom_classes": [],
            "_model_module": "@jupyter-widgets/controls",
            "_model_module_version": "1.5.0",
            "_model_name": "HTMLModel",
            "_view_count": null,
            "_view_module": "@jupyter-widgets/controls",
            "_view_module_version": "1.5.0",
            "_view_name": "HTMLView",
            "description": "",
            "description_tooltip": null,
            "layout": "IPY_MODEL_d89903cb4336475d92e7e6167432e728",
            "placeholder": "​",
            "style": "IPY_MODEL_70fe999fee0e4e3bbc45a4ff6e86ee62",
            "value": " 116/116 [00:00&lt;00:00, 10.1kB/s]"
          }
        },
        "8e77d334fc3b443b91ad13e05c1d914a": {
          "model_module": "@jupyter-widgets/base",
          "model_name": "LayoutModel",
          "model_module_version": "1.2.0",
          "state": {
            "_model_module": "@jupyter-widgets/base",
            "_model_module_version": "1.2.0",
            "_model_name": "LayoutModel",
            "_view_count": null,
            "_view_module": "@jupyter-widgets/base",
            "_view_module_version": "1.2.0",
            "_view_name": "LayoutView",
            "align_content": null,
            "align_items": null,
            "align_self": null,
            "border": null,
            "bottom": null,
            "display": null,
            "flex": null,
            "flex_flow": null,
            "grid_area": null,
            "grid_auto_columns": null,
            "grid_auto_flow": null,
            "grid_auto_rows": null,
            "grid_column": null,
            "grid_gap": null,
            "grid_row": null,
            "grid_template_areas": null,
            "grid_template_columns": null,
            "grid_template_rows": null,
            "height": null,
            "justify_content": null,
            "justify_items": null,
            "left": null,
            "margin": null,
            "max_height": null,
            "max_width": null,
            "min_height": null,
            "min_width": null,
            "object_fit": null,
            "object_position": null,
            "order": null,
            "overflow": null,
            "overflow_x": null,
            "overflow_y": null,
            "padding": null,
            "right": null,
            "top": null,
            "visibility": null,
            "width": null
          }
        },
        "e22d1d757df14b16b354178e8647a739": {
          "model_module": "@jupyter-widgets/base",
          "model_name": "LayoutModel",
          "model_module_version": "1.2.0",
          "state": {
            "_model_module": "@jupyter-widgets/base",
            "_model_module_version": "1.2.0",
            "_model_name": "LayoutModel",
            "_view_count": null,
            "_view_module": "@jupyter-widgets/base",
            "_view_module_version": "1.2.0",
            "_view_name": "LayoutView",
            "align_content": null,
            "align_items": null,
            "align_self": null,
            "border": null,
            "bottom": null,
            "display": null,
            "flex": null,
            "flex_flow": null,
            "grid_area": null,
            "grid_auto_columns": null,
            "grid_auto_flow": null,
            "grid_auto_rows": null,
            "grid_column": null,
            "grid_gap": null,
            "grid_row": null,
            "grid_template_areas": null,
            "grid_template_columns": null,
            "grid_template_rows": null,
            "height": null,
            "justify_content": null,
            "justify_items": null,
            "left": null,
            "margin": null,
            "max_height": null,
            "max_width": null,
            "min_height": null,
            "min_width": null,
            "object_fit": null,
            "object_position": null,
            "order": null,
            "overflow": null,
            "overflow_x": null,
            "overflow_y": null,
            "padding": null,
            "right": null,
            "top": null,
            "visibility": null,
            "width": null
          }
        },
        "62ca3442c2e44657aedd836fae1db399": {
          "model_module": "@jupyter-widgets/controls",
          "model_name": "DescriptionStyleModel",
          "model_module_version": "1.5.0",
          "state": {
            "_model_module": "@jupyter-widgets/controls",
            "_model_module_version": "1.5.0",
            "_model_name": "DescriptionStyleModel",
            "_view_count": null,
            "_view_module": "@jupyter-widgets/base",
            "_view_module_version": "1.2.0",
            "_view_name": "StyleView",
            "description_width": ""
          }
        },
        "8165928f13b54b3d90c4d3b6d1325dae": {
          "model_module": "@jupyter-widgets/base",
          "model_name": "LayoutModel",
          "model_module_version": "1.2.0",
          "state": {
            "_model_module": "@jupyter-widgets/base",
            "_model_module_version": "1.2.0",
            "_model_name": "LayoutModel",
            "_view_count": null,
            "_view_module": "@jupyter-widgets/base",
            "_view_module_version": "1.2.0",
            "_view_name": "LayoutView",
            "align_content": null,
            "align_items": null,
            "align_self": null,
            "border": null,
            "bottom": null,
            "display": null,
            "flex": null,
            "flex_flow": null,
            "grid_area": null,
            "grid_auto_columns": null,
            "grid_auto_flow": null,
            "grid_auto_rows": null,
            "grid_column": null,
            "grid_gap": null,
            "grid_row": null,
            "grid_template_areas": null,
            "grid_template_columns": null,
            "grid_template_rows": null,
            "height": null,
            "justify_content": null,
            "justify_items": null,
            "left": null,
            "margin": null,
            "max_height": null,
            "max_width": null,
            "min_height": null,
            "min_width": null,
            "object_fit": null,
            "object_position": null,
            "order": null,
            "overflow": null,
            "overflow_x": null,
            "overflow_y": null,
            "padding": null,
            "right": null,
            "top": null,
            "visibility": null,
            "width": null
          }
        },
        "fa10935cb9ab4c50a93aa9273adabecf": {
          "model_module": "@jupyter-widgets/controls",
          "model_name": "ProgressStyleModel",
          "model_module_version": "1.5.0",
          "state": {
            "_model_module": "@jupyter-widgets/controls",
            "_model_module_version": "1.5.0",
            "_model_name": "ProgressStyleModel",
            "_view_count": null,
            "_view_module": "@jupyter-widgets/base",
            "_view_module_version": "1.2.0",
            "_view_name": "StyleView",
            "bar_color": null,
            "description_width": ""
          }
        },
        "d89903cb4336475d92e7e6167432e728": {
          "model_module": "@jupyter-widgets/base",
          "model_name": "LayoutModel",
          "model_module_version": "1.2.0",
          "state": {
            "_model_module": "@jupyter-widgets/base",
            "_model_module_version": "1.2.0",
            "_model_name": "LayoutModel",
            "_view_count": null,
            "_view_module": "@jupyter-widgets/base",
            "_view_module_version": "1.2.0",
            "_view_name": "LayoutView",
            "align_content": null,
            "align_items": null,
            "align_self": null,
            "border": null,
            "bottom": null,
            "display": null,
            "flex": null,
            "flex_flow": null,
            "grid_area": null,
            "grid_auto_columns": null,
            "grid_auto_flow": null,
            "grid_auto_rows": null,
            "grid_column": null,
            "grid_gap": null,
            "grid_row": null,
            "grid_template_areas": null,
            "grid_template_columns": null,
            "grid_template_rows": null,
            "height": null,
            "justify_content": null,
            "justify_items": null,
            "left": null,
            "margin": null,
            "max_height": null,
            "max_width": null,
            "min_height": null,
            "min_width": null,
            "object_fit": null,
            "object_position": null,
            "order": null,
            "overflow": null,
            "overflow_x": null,
            "overflow_y": null,
            "padding": null,
            "right": null,
            "top": null,
            "visibility": null,
            "width": null
          }
        },
        "70fe999fee0e4e3bbc45a4ff6e86ee62": {
          "model_module": "@jupyter-widgets/controls",
          "model_name": "DescriptionStyleModel",
          "model_module_version": "1.5.0",
          "state": {
            "_model_module": "@jupyter-widgets/controls",
            "_model_module_version": "1.5.0",
            "_model_name": "DescriptionStyleModel",
            "_view_count": null,
            "_view_module": "@jupyter-widgets/base",
            "_view_module_version": "1.2.0",
            "_view_name": "StyleView",
            "description_width": ""
          }
        },
        "575d70cc8dcd4b8cb854e61342e7542b": {
          "model_module": "@jupyter-widgets/controls",
          "model_name": "HBoxModel",
          "model_module_version": "1.5.0",
          "state": {
            "_dom_classes": [],
            "_model_module": "@jupyter-widgets/controls",
            "_model_module_version": "1.5.0",
            "_model_name": "HBoxModel",
            "_view_count": null,
            "_view_module": "@jupyter-widgets/controls",
            "_view_module_version": "1.5.0",
            "_view_name": "HBoxView",
            "box_style": "",
            "children": [
              "IPY_MODEL_fd23e7d32992439c850e9ff80d1020ea",
              "IPY_MODEL_6fa440be16cf4d78922c00181076946c",
              "IPY_MODEL_70515b22d65e4b7892f4441b84e1716b"
            ],
            "layout": "IPY_MODEL_4d6226dfe23040dcba7a79862e4bbf6e"
          }
        },
        "fd23e7d32992439c850e9ff80d1020ea": {
          "model_module": "@jupyter-widgets/controls",
          "model_name": "HTMLModel",
          "model_module_version": "1.5.0",
          "state": {
            "_dom_classes": [],
            "_model_module": "@jupyter-widgets/controls",
            "_model_module_version": "1.5.0",
            "_model_name": "HTMLModel",
            "_view_count": null,
            "_view_module": "@jupyter-widgets/controls",
            "_view_module_version": "1.5.0",
            "_view_name": "HTMLView",
            "description": "",
            "description_tooltip": null,
            "layout": "IPY_MODEL_a50d035c1e30454facbde4f80dda9cc0",
            "placeholder": "​",
            "style": "IPY_MODEL_87de8c0cfb604ba9a0a55aeccf3badcd",
            "value": "data_config.json: 100%"
          }
        },
        "6fa440be16cf4d78922c00181076946c": {
          "model_module": "@jupyter-widgets/controls",
          "model_name": "FloatProgressModel",
          "model_module_version": "1.5.0",
          "state": {
            "_dom_classes": [],
            "_model_module": "@jupyter-widgets/controls",
            "_model_module_version": "1.5.0",
            "_model_name": "FloatProgressModel",
            "_view_count": null,
            "_view_module": "@jupyter-widgets/controls",
            "_view_module_version": "1.5.0",
            "_view_name": "ProgressView",
            "bar_style": "success",
            "description": "",
            "description_tooltip": null,
            "layout": "IPY_MODEL_c5d2e3e20cd84aca84eb4b365808fd78",
            "max": 39265,
            "min": 0,
            "orientation": "horizontal",
            "style": "IPY_MODEL_713f93d847624a86a095ca99646b59c4",
            "value": 39265
          }
        },
        "70515b22d65e4b7892f4441b84e1716b": {
          "model_module": "@jupyter-widgets/controls",
          "model_name": "HTMLModel",
          "model_module_version": "1.5.0",
          "state": {
            "_dom_classes": [],
            "_model_module": "@jupyter-widgets/controls",
            "_model_module_version": "1.5.0",
            "_model_name": "HTMLModel",
            "_view_count": null,
            "_view_module": "@jupyter-widgets/controls",
            "_view_module_version": "1.5.0",
            "_view_name": "HTMLView",
            "description": "",
            "description_tooltip": null,
            "layout": "IPY_MODEL_5783b33e18534067ad4389c37913843f",
            "placeholder": "​",
            "style": "IPY_MODEL_e6e4f3cbb8424469a24d3fa1d01af712",
            "value": " 39.3k/39.3k [00:00&lt;00:00, 3.50MB/s]"
          }
        },
        "4d6226dfe23040dcba7a79862e4bbf6e": {
          "model_module": "@jupyter-widgets/base",
          "model_name": "LayoutModel",
          "model_module_version": "1.2.0",
          "state": {
            "_model_module": "@jupyter-widgets/base",
            "_model_module_version": "1.2.0",
            "_model_name": "LayoutModel",
            "_view_count": null,
            "_view_module": "@jupyter-widgets/base",
            "_view_module_version": "1.2.0",
            "_view_name": "LayoutView",
            "align_content": null,
            "align_items": null,
            "align_self": null,
            "border": null,
            "bottom": null,
            "display": null,
            "flex": null,
            "flex_flow": null,
            "grid_area": null,
            "grid_auto_columns": null,
            "grid_auto_flow": null,
            "grid_auto_rows": null,
            "grid_column": null,
            "grid_gap": null,
            "grid_row": null,
            "grid_template_areas": null,
            "grid_template_columns": null,
            "grid_template_rows": null,
            "height": null,
            "justify_content": null,
            "justify_items": null,
            "left": null,
            "margin": null,
            "max_height": null,
            "max_width": null,
            "min_height": null,
            "min_width": null,
            "object_fit": null,
            "object_position": null,
            "order": null,
            "overflow": null,
            "overflow_x": null,
            "overflow_y": null,
            "padding": null,
            "right": null,
            "top": null,
            "visibility": null,
            "width": null
          }
        },
        "a50d035c1e30454facbde4f80dda9cc0": {
          "model_module": "@jupyter-widgets/base",
          "model_name": "LayoutModel",
          "model_module_version": "1.2.0",
          "state": {
            "_model_module": "@jupyter-widgets/base",
            "_model_module_version": "1.2.0",
            "_model_name": "LayoutModel",
            "_view_count": null,
            "_view_module": "@jupyter-widgets/base",
            "_view_module_version": "1.2.0",
            "_view_name": "LayoutView",
            "align_content": null,
            "align_items": null,
            "align_self": null,
            "border": null,
            "bottom": null,
            "display": null,
            "flex": null,
            "flex_flow": null,
            "grid_area": null,
            "grid_auto_columns": null,
            "grid_auto_flow": null,
            "grid_auto_rows": null,
            "grid_column": null,
            "grid_gap": null,
            "grid_row": null,
            "grid_template_areas": null,
            "grid_template_columns": null,
            "grid_template_rows": null,
            "height": null,
            "justify_content": null,
            "justify_items": null,
            "left": null,
            "margin": null,
            "max_height": null,
            "max_width": null,
            "min_height": null,
            "min_width": null,
            "object_fit": null,
            "object_position": null,
            "order": null,
            "overflow": null,
            "overflow_x": null,
            "overflow_y": null,
            "padding": null,
            "right": null,
            "top": null,
            "visibility": null,
            "width": null
          }
        },
        "87de8c0cfb604ba9a0a55aeccf3badcd": {
          "model_module": "@jupyter-widgets/controls",
          "model_name": "DescriptionStyleModel",
          "model_module_version": "1.5.0",
          "state": {
            "_model_module": "@jupyter-widgets/controls",
            "_model_module_version": "1.5.0",
            "_model_name": "DescriptionStyleModel",
            "_view_count": null,
            "_view_module": "@jupyter-widgets/base",
            "_view_module_version": "1.2.0",
            "_view_name": "StyleView",
            "description_width": ""
          }
        },
        "c5d2e3e20cd84aca84eb4b365808fd78": {
          "model_module": "@jupyter-widgets/base",
          "model_name": "LayoutModel",
          "model_module_version": "1.2.0",
          "state": {
            "_model_module": "@jupyter-widgets/base",
            "_model_module_version": "1.2.0",
            "_model_name": "LayoutModel",
            "_view_count": null,
            "_view_module": "@jupyter-widgets/base",
            "_view_module_version": "1.2.0",
            "_view_name": "LayoutView",
            "align_content": null,
            "align_items": null,
            "align_self": null,
            "border": null,
            "bottom": null,
            "display": null,
            "flex": null,
            "flex_flow": null,
            "grid_area": null,
            "grid_auto_columns": null,
            "grid_auto_flow": null,
            "grid_auto_rows": null,
            "grid_column": null,
            "grid_gap": null,
            "grid_row": null,
            "grid_template_areas": null,
            "grid_template_columns": null,
            "grid_template_rows": null,
            "height": null,
            "justify_content": null,
            "justify_items": null,
            "left": null,
            "margin": null,
            "max_height": null,
            "max_width": null,
            "min_height": null,
            "min_width": null,
            "object_fit": null,
            "object_position": null,
            "order": null,
            "overflow": null,
            "overflow_x": null,
            "overflow_y": null,
            "padding": null,
            "right": null,
            "top": null,
            "visibility": null,
            "width": null
          }
        },
        "713f93d847624a86a095ca99646b59c4": {
          "model_module": "@jupyter-widgets/controls",
          "model_name": "ProgressStyleModel",
          "model_module_version": "1.5.0",
          "state": {
            "_model_module": "@jupyter-widgets/controls",
            "_model_module_version": "1.5.0",
            "_model_name": "ProgressStyleModel",
            "_view_count": null,
            "_view_module": "@jupyter-widgets/base",
            "_view_module_version": "1.2.0",
            "_view_name": "StyleView",
            "bar_color": null,
            "description_width": ""
          }
        },
        "5783b33e18534067ad4389c37913843f": {
          "model_module": "@jupyter-widgets/base",
          "model_name": "LayoutModel",
          "model_module_version": "1.2.0",
          "state": {
            "_model_module": "@jupyter-widgets/base",
            "_model_module_version": "1.2.0",
            "_model_name": "LayoutModel",
            "_view_count": null,
            "_view_module": "@jupyter-widgets/base",
            "_view_module_version": "1.2.0",
            "_view_name": "LayoutView",
            "align_content": null,
            "align_items": null,
            "align_self": null,
            "border": null,
            "bottom": null,
            "display": null,
            "flex": null,
            "flex_flow": null,
            "grid_area": null,
            "grid_auto_columns": null,
            "grid_auto_flow": null,
            "grid_auto_rows": null,
            "grid_column": null,
            "grid_gap": null,
            "grid_row": null,
            "grid_template_areas": null,
            "grid_template_columns": null,
            "grid_template_rows": null,
            "height": null,
            "justify_content": null,
            "justify_items": null,
            "left": null,
            "margin": null,
            "max_height": null,
            "max_width": null,
            "min_height": null,
            "min_width": null,
            "object_fit": null,
            "object_position": null,
            "order": null,
            "overflow": null,
            "overflow_x": null,
            "overflow_y": null,
            "padding": null,
            "right": null,
            "top": null,
            "visibility": null,
            "width": null
          }
        },
        "e6e4f3cbb8424469a24d3fa1d01af712": {
          "model_module": "@jupyter-widgets/controls",
          "model_name": "DescriptionStyleModel",
          "model_module_version": "1.5.0",
          "state": {
            "_model_module": "@jupyter-widgets/controls",
            "_model_module_version": "1.5.0",
            "_model_name": "DescriptionStyleModel",
            "_view_count": null,
            "_view_module": "@jupyter-widgets/base",
            "_view_module_version": "1.2.0",
            "_view_name": "StyleView",
            "description_width": ""
          }
        },
        "add78f0b39cf4031802581de8f635ac9": {
          "model_module": "@jupyter-widgets/controls",
          "model_name": "HBoxModel",
          "model_module_version": "1.5.0",
          "state": {
            "_dom_classes": [],
            "_model_module": "@jupyter-widgets/controls",
            "_model_module_version": "1.5.0",
            "_model_name": "HBoxModel",
            "_view_count": null,
            "_view_module": "@jupyter-widgets/controls",
            "_view_module_version": "1.5.0",
            "_view_name": "HBoxView",
            "box_style": "",
            "children": [
              "IPY_MODEL_0c315ba05d284763bd680793c272efbc",
              "IPY_MODEL_5136f9130ca04cd086e98e59c1ee9b8e",
              "IPY_MODEL_ceff45bee09c4d8ba35546ba214a2f94"
            ],
            "layout": "IPY_MODEL_46e492794f784ee4adde69e5e8c492b8"
          }
        },
        "0c315ba05d284763bd680793c272efbc": {
          "model_module": "@jupyter-widgets/controls",
          "model_name": "HTMLModel",
          "model_module_version": "1.5.0",
          "state": {
            "_dom_classes": [],
            "_model_module": "@jupyter-widgets/controls",
            "_model_module_version": "1.5.0",
            "_model_name": "HTMLModel",
            "_view_count": null,
            "_view_module": "@jupyter-widgets/controls",
            "_view_module_version": "1.5.0",
            "_view_name": "HTMLView",
            "description": "",
            "description_tooltip": null,
            "layout": "IPY_MODEL_9d55440e1d2f494eb635b579d6cfaec7",
            "placeholder": "​",
            "style": "IPY_MODEL_251e6e305505461198b3c9be277a85c7",
            "value": "model.safetensors: 100%"
          }
        },
        "5136f9130ca04cd086e98e59c1ee9b8e": {
          "model_module": "@jupyter-widgets/controls",
          "model_name": "FloatProgressModel",
          "model_module_version": "1.5.0",
          "state": {
            "_dom_classes": [],
            "_model_module": "@jupyter-widgets/controls",
            "_model_module_version": "1.5.0",
            "_model_name": "FloatProgressModel",
            "_view_count": null,
            "_view_module": "@jupyter-widgets/controls",
            "_view_module_version": "1.5.0",
            "_view_name": "ProgressView",
            "bar_style": "success",
            "description": "",
            "description_tooltip": null,
            "layout": "IPY_MODEL_c8a3681399034995a5f5d89dc86f266e",
            "max": 90868376,
            "min": 0,
            "orientation": "horizontal",
            "style": "IPY_MODEL_7d4cc38becf44beab64b8ad0df87d076",
            "value": 90868376
          }
        },
        "ceff45bee09c4d8ba35546ba214a2f94": {
          "model_module": "@jupyter-widgets/controls",
          "model_name": "HTMLModel",
          "model_module_version": "1.5.0",
          "state": {
            "_dom_classes": [],
            "_model_module": "@jupyter-widgets/controls",
            "_model_module_version": "1.5.0",
            "_model_name": "HTMLModel",
            "_view_count": null,
            "_view_module": "@jupyter-widgets/controls",
            "_view_module_version": "1.5.0",
            "_view_name": "HTMLView",
            "description": "",
            "description_tooltip": null,
            "layout": "IPY_MODEL_d821691ac820474e8f484cda4022e68e",
            "placeholder": "​",
            "style": "IPY_MODEL_fbc722b8e09e4cb3a109a62659614cb9",
            "value": " 90.9M/90.9M [00:00&lt;00:00, 236MB/s]"
          }
        },
        "46e492794f784ee4adde69e5e8c492b8": {
          "model_module": "@jupyter-widgets/base",
          "model_name": "LayoutModel",
          "model_module_version": "1.2.0",
          "state": {
            "_model_module": "@jupyter-widgets/base",
            "_model_module_version": "1.2.0",
            "_model_name": "LayoutModel",
            "_view_count": null,
            "_view_module": "@jupyter-widgets/base",
            "_view_module_version": "1.2.0",
            "_view_name": "LayoutView",
            "align_content": null,
            "align_items": null,
            "align_self": null,
            "border": null,
            "bottom": null,
            "display": null,
            "flex": null,
            "flex_flow": null,
            "grid_area": null,
            "grid_auto_columns": null,
            "grid_auto_flow": null,
            "grid_auto_rows": null,
            "grid_column": null,
            "grid_gap": null,
            "grid_row": null,
            "grid_template_areas": null,
            "grid_template_columns": null,
            "grid_template_rows": null,
            "height": null,
            "justify_content": null,
            "justify_items": null,
            "left": null,
            "margin": null,
            "max_height": null,
            "max_width": null,
            "min_height": null,
            "min_width": null,
            "object_fit": null,
            "object_position": null,
            "order": null,
            "overflow": null,
            "overflow_x": null,
            "overflow_y": null,
            "padding": null,
            "right": null,
            "top": null,
            "visibility": null,
            "width": null
          }
        },
        "9d55440e1d2f494eb635b579d6cfaec7": {
          "model_module": "@jupyter-widgets/base",
          "model_name": "LayoutModel",
          "model_module_version": "1.2.0",
          "state": {
            "_model_module": "@jupyter-widgets/base",
            "_model_module_version": "1.2.0",
            "_model_name": "LayoutModel",
            "_view_count": null,
            "_view_module": "@jupyter-widgets/base",
            "_view_module_version": "1.2.0",
            "_view_name": "LayoutView",
            "align_content": null,
            "align_items": null,
            "align_self": null,
            "border": null,
            "bottom": null,
            "display": null,
            "flex": null,
            "flex_flow": null,
            "grid_area": null,
            "grid_auto_columns": null,
            "grid_auto_flow": null,
            "grid_auto_rows": null,
            "grid_column": null,
            "grid_gap": null,
            "grid_row": null,
            "grid_template_areas": null,
            "grid_template_columns": null,
            "grid_template_rows": null,
            "height": null,
            "justify_content": null,
            "justify_items": null,
            "left": null,
            "margin": null,
            "max_height": null,
            "max_width": null,
            "min_height": null,
            "min_width": null,
            "object_fit": null,
            "object_position": null,
            "order": null,
            "overflow": null,
            "overflow_x": null,
            "overflow_y": null,
            "padding": null,
            "right": null,
            "top": null,
            "visibility": null,
            "width": null
          }
        },
        "251e6e305505461198b3c9be277a85c7": {
          "model_module": "@jupyter-widgets/controls",
          "model_name": "DescriptionStyleModel",
          "model_module_version": "1.5.0",
          "state": {
            "_model_module": "@jupyter-widgets/controls",
            "_model_module_version": "1.5.0",
            "_model_name": "DescriptionStyleModel",
            "_view_count": null,
            "_view_module": "@jupyter-widgets/base",
            "_view_module_version": "1.2.0",
            "_view_name": "StyleView",
            "description_width": ""
          }
        },
        "c8a3681399034995a5f5d89dc86f266e": {
          "model_module": "@jupyter-widgets/base",
          "model_name": "LayoutModel",
          "model_module_version": "1.2.0",
          "state": {
            "_model_module": "@jupyter-widgets/base",
            "_model_module_version": "1.2.0",
            "_model_name": "LayoutModel",
            "_view_count": null,
            "_view_module": "@jupyter-widgets/base",
            "_view_module_version": "1.2.0",
            "_view_name": "LayoutView",
            "align_content": null,
            "align_items": null,
            "align_self": null,
            "border": null,
            "bottom": null,
            "display": null,
            "flex": null,
            "flex_flow": null,
            "grid_area": null,
            "grid_auto_columns": null,
            "grid_auto_flow": null,
            "grid_auto_rows": null,
            "grid_column": null,
            "grid_gap": null,
            "grid_row": null,
            "grid_template_areas": null,
            "grid_template_columns": null,
            "grid_template_rows": null,
            "height": null,
            "justify_content": null,
            "justify_items": null,
            "left": null,
            "margin": null,
            "max_height": null,
            "max_width": null,
            "min_height": null,
            "min_width": null,
            "object_fit": null,
            "object_position": null,
            "order": null,
            "overflow": null,
            "overflow_x": null,
            "overflow_y": null,
            "padding": null,
            "right": null,
            "top": null,
            "visibility": null,
            "width": null
          }
        },
        "7d4cc38becf44beab64b8ad0df87d076": {
          "model_module": "@jupyter-widgets/controls",
          "model_name": "ProgressStyleModel",
          "model_module_version": "1.5.0",
          "state": {
            "_model_module": "@jupyter-widgets/controls",
            "_model_module_version": "1.5.0",
            "_model_name": "ProgressStyleModel",
            "_view_count": null,
            "_view_module": "@jupyter-widgets/base",
            "_view_module_version": "1.2.0",
            "_view_name": "StyleView",
            "bar_color": null,
            "description_width": ""
          }
        },
        "d821691ac820474e8f484cda4022e68e": {
          "model_module": "@jupyter-widgets/base",
          "model_name": "LayoutModel",
          "model_module_version": "1.2.0",
          "state": {
            "_model_module": "@jupyter-widgets/base",
            "_model_module_version": "1.2.0",
            "_model_name": "LayoutModel",
            "_view_count": null,
            "_view_module": "@jupyter-widgets/base",
            "_view_module_version": "1.2.0",
            "_view_name": "LayoutView",
            "align_content": null,
            "align_items": null,
            "align_self": null,
            "border": null,
            "bottom": null,
            "display": null,
            "flex": null,
            "flex_flow": null,
            "grid_area": null,
            "grid_auto_columns": null,
            "grid_auto_flow": null,
            "grid_auto_rows": null,
            "grid_column": null,
            "grid_gap": null,
            "grid_row": null,
            "grid_template_areas": null,
            "grid_template_columns": null,
            "grid_template_rows": null,
            "height": null,
            "justify_content": null,
            "justify_items": null,
            "left": null,
            "margin": null,
            "max_height": null,
            "max_width": null,
            "min_height": null,
            "min_width": null,
            "object_fit": null,
            "object_position": null,
            "order": null,
            "overflow": null,
            "overflow_x": null,
            "overflow_y": null,
            "padding": null,
            "right": null,
            "top": null,
            "visibility": null,
            "width": null
          }
        },
        "fbc722b8e09e4cb3a109a62659614cb9": {
          "model_module": "@jupyter-widgets/controls",
          "model_name": "DescriptionStyleModel",
          "model_module_version": "1.5.0",
          "state": {
            "_model_module": "@jupyter-widgets/controls",
            "_model_module_version": "1.5.0",
            "_model_name": "DescriptionStyleModel",
            "_view_count": null,
            "_view_module": "@jupyter-widgets/base",
            "_view_module_version": "1.2.0",
            "_view_name": "StyleView",
            "description_width": ""
          }
        },
        "1f650f1bd9614d76a0b503c086b970aa": {
          "model_module": "@jupyter-widgets/controls",
          "model_name": "HBoxModel",
          "model_module_version": "1.5.0",
          "state": {
            "_dom_classes": [],
            "_model_module": "@jupyter-widgets/controls",
            "_model_module_version": "1.5.0",
            "_model_name": "HBoxModel",
            "_view_count": null,
            "_view_module": "@jupyter-widgets/controls",
            "_view_module_version": "1.5.0",
            "_view_name": "HBoxView",
            "box_style": "",
            "children": [
              "IPY_MODEL_34a27ca575e84b9ba5b98da5f11fda45",
              "IPY_MODEL_20e36f033f1549cca356dc5b56306033",
              "IPY_MODEL_0da15dd38f4b41f2be2cffebb6f67058"
            ],
            "layout": "IPY_MODEL_63c4c15b356c4757b183acb850a5e319"
          }
        },
        "34a27ca575e84b9ba5b98da5f11fda45": {
          "model_module": "@jupyter-widgets/controls",
          "model_name": "HTMLModel",
          "model_module_version": "1.5.0",
          "state": {
            "_dom_classes": [],
            "_model_module": "@jupyter-widgets/controls",
            "_model_module_version": "1.5.0",
            "_model_name": "HTMLModel",
            "_view_count": null,
            "_view_module": "@jupyter-widgets/controls",
            "_view_module_version": "1.5.0",
            "_view_name": "HTMLView",
            "description": "",
            "description_tooltip": null,
            "layout": "IPY_MODEL_4f8cd8f8eb9345edba24ca8ed0582f79",
            "placeholder": "​",
            "style": "IPY_MODEL_eae31c32d789439783d7e44b77276048",
            "value": "model.onnx: 100%"
          }
        },
        "20e36f033f1549cca356dc5b56306033": {
          "model_module": "@jupyter-widgets/controls",
          "model_name": "FloatProgressModel",
          "model_module_version": "1.5.0",
          "state": {
            "_dom_classes": [],
            "_model_module": "@jupyter-widgets/controls",
            "_model_module_version": "1.5.0",
            "_model_name": "FloatProgressModel",
            "_view_count": null,
            "_view_module": "@jupyter-widgets/controls",
            "_view_module_version": "1.5.0",
            "_view_name": "ProgressView",
            "bar_style": "success",
            "description": "",
            "description_tooltip": null,
            "layout": "IPY_MODEL_1b015f44cb694f59813d705101a476c7",
            "max": 90430986,
            "min": 0,
            "orientation": "horizontal",
            "style": "IPY_MODEL_cdd52ec8027843a980e9091c579fc474",
            "value": 90430986
          }
        },
        "0da15dd38f4b41f2be2cffebb6f67058": {
          "model_module": "@jupyter-widgets/controls",
          "model_name": "HTMLModel",
          "model_module_version": "1.5.0",
          "state": {
            "_dom_classes": [],
            "_model_module": "@jupyter-widgets/controls",
            "_model_module_version": "1.5.0",
            "_model_name": "HTMLModel",
            "_view_count": null,
            "_view_module": "@jupyter-widgets/controls",
            "_view_module_version": "1.5.0",
            "_view_name": "HTMLView",
            "description": "",
            "description_tooltip": null,
            "layout": "IPY_MODEL_e48a2aa378664e80876715a88c283b3e",
            "placeholder": "​",
            "style": "IPY_MODEL_d0be968c82d44622831a6d94d9324f0a",
            "value": " 90.4M/90.4M [00:00&lt;00:00, 410MB/s]"
          }
        },
        "63c4c15b356c4757b183acb850a5e319": {
          "model_module": "@jupyter-widgets/base",
          "model_name": "LayoutModel",
          "model_module_version": "1.2.0",
          "state": {
            "_model_module": "@jupyter-widgets/base",
            "_model_module_version": "1.2.0",
            "_model_name": "LayoutModel",
            "_view_count": null,
            "_view_module": "@jupyter-widgets/base",
            "_view_module_version": "1.2.0",
            "_view_name": "LayoutView",
            "align_content": null,
            "align_items": null,
            "align_self": null,
            "border": null,
            "bottom": null,
            "display": null,
            "flex": null,
            "flex_flow": null,
            "grid_area": null,
            "grid_auto_columns": null,
            "grid_auto_flow": null,
            "grid_auto_rows": null,
            "grid_column": null,
            "grid_gap": null,
            "grid_row": null,
            "grid_template_areas": null,
            "grid_template_columns": null,
            "grid_template_rows": null,
            "height": null,
            "justify_content": null,
            "justify_items": null,
            "left": null,
            "margin": null,
            "max_height": null,
            "max_width": null,
            "min_height": null,
            "min_width": null,
            "object_fit": null,
            "object_position": null,
            "order": null,
            "overflow": null,
            "overflow_x": null,
            "overflow_y": null,
            "padding": null,
            "right": null,
            "top": null,
            "visibility": null,
            "width": null
          }
        },
        "4f8cd8f8eb9345edba24ca8ed0582f79": {
          "model_module": "@jupyter-widgets/base",
          "model_name": "LayoutModel",
          "model_module_version": "1.2.0",
          "state": {
            "_model_module": "@jupyter-widgets/base",
            "_model_module_version": "1.2.0",
            "_model_name": "LayoutModel",
            "_view_count": null,
            "_view_module": "@jupyter-widgets/base",
            "_view_module_version": "1.2.0",
            "_view_name": "LayoutView",
            "align_content": null,
            "align_items": null,
            "align_self": null,
            "border": null,
            "bottom": null,
            "display": null,
            "flex": null,
            "flex_flow": null,
            "grid_area": null,
            "grid_auto_columns": null,
            "grid_auto_flow": null,
            "grid_auto_rows": null,
            "grid_column": null,
            "grid_gap": null,
            "grid_row": null,
            "grid_template_areas": null,
            "grid_template_columns": null,
            "grid_template_rows": null,
            "height": null,
            "justify_content": null,
            "justify_items": null,
            "left": null,
            "margin": null,
            "max_height": null,
            "max_width": null,
            "min_height": null,
            "min_width": null,
            "object_fit": null,
            "object_position": null,
            "order": null,
            "overflow": null,
            "overflow_x": null,
            "overflow_y": null,
            "padding": null,
            "right": null,
            "top": null,
            "visibility": null,
            "width": null
          }
        },
        "eae31c32d789439783d7e44b77276048": {
          "model_module": "@jupyter-widgets/controls",
          "model_name": "DescriptionStyleModel",
          "model_module_version": "1.5.0",
          "state": {
            "_model_module": "@jupyter-widgets/controls",
            "_model_module_version": "1.5.0",
            "_model_name": "DescriptionStyleModel",
            "_view_count": null,
            "_view_module": "@jupyter-widgets/base",
            "_view_module_version": "1.2.0",
            "_view_name": "StyleView",
            "description_width": ""
          }
        },
        "1b015f44cb694f59813d705101a476c7": {
          "model_module": "@jupyter-widgets/base",
          "model_name": "LayoutModel",
          "model_module_version": "1.2.0",
          "state": {
            "_model_module": "@jupyter-widgets/base",
            "_model_module_version": "1.2.0",
            "_model_name": "LayoutModel",
            "_view_count": null,
            "_view_module": "@jupyter-widgets/base",
            "_view_module_version": "1.2.0",
            "_view_name": "LayoutView",
            "align_content": null,
            "align_items": null,
            "align_self": null,
            "border": null,
            "bottom": null,
            "display": null,
            "flex": null,
            "flex_flow": null,
            "grid_area": null,
            "grid_auto_columns": null,
            "grid_auto_flow": null,
            "grid_auto_rows": null,
            "grid_column": null,
            "grid_gap": null,
            "grid_row": null,
            "grid_template_areas": null,
            "grid_template_columns": null,
            "grid_template_rows": null,
            "height": null,
            "justify_content": null,
            "justify_items": null,
            "left": null,
            "margin": null,
            "max_height": null,
            "max_width": null,
            "min_height": null,
            "min_width": null,
            "object_fit": null,
            "object_position": null,
            "order": null,
            "overflow": null,
            "overflow_x": null,
            "overflow_y": null,
            "padding": null,
            "right": null,
            "top": null,
            "visibility": null,
            "width": null
          }
        },
        "cdd52ec8027843a980e9091c579fc474": {
          "model_module": "@jupyter-widgets/controls",
          "model_name": "ProgressStyleModel",
          "model_module_version": "1.5.0",
          "state": {
            "_model_module": "@jupyter-widgets/controls",
            "_model_module_version": "1.5.0",
            "_model_name": "ProgressStyleModel",
            "_view_count": null,
            "_view_module": "@jupyter-widgets/base",
            "_view_module_version": "1.2.0",
            "_view_name": "StyleView",
            "bar_color": null,
            "description_width": ""
          }
        },
        "e48a2aa378664e80876715a88c283b3e": {
          "model_module": "@jupyter-widgets/base",
          "model_name": "LayoutModel",
          "model_module_version": "1.2.0",
          "state": {
            "_model_module": "@jupyter-widgets/base",
            "_model_module_version": "1.2.0",
            "_model_name": "LayoutModel",
            "_view_count": null,
            "_view_module": "@jupyter-widgets/base",
            "_view_module_version": "1.2.0",
            "_view_name": "LayoutView",
            "align_content": null,
            "align_items": null,
            "align_self": null,
            "border": null,
            "bottom": null,
            "display": null,
            "flex": null,
            "flex_flow": null,
            "grid_area": null,
            "grid_auto_columns": null,
            "grid_auto_flow": null,
            "grid_auto_rows": null,
            "grid_column": null,
            "grid_gap": null,
            "grid_row": null,
            "grid_template_areas": null,
            "grid_template_columns": null,
            "grid_template_rows": null,
            "height": null,
            "justify_content": null,
            "justify_items": null,
            "left": null,
            "margin": null,
            "max_height": null,
            "max_width": null,
            "min_height": null,
            "min_width": null,
            "object_fit": null,
            "object_position": null,
            "order": null,
            "overflow": null,
            "overflow_x": null,
            "overflow_y": null,
            "padding": null,
            "right": null,
            "top": null,
            "visibility": null,
            "width": null
          }
        },
        "d0be968c82d44622831a6d94d9324f0a": {
          "model_module": "@jupyter-widgets/controls",
          "model_name": "DescriptionStyleModel",
          "model_module_version": "1.5.0",
          "state": {
            "_model_module": "@jupyter-widgets/controls",
            "_model_module_version": "1.5.0",
            "_model_name": "DescriptionStyleModel",
            "_view_count": null,
            "_view_module": "@jupyter-widgets/base",
            "_view_module_version": "1.2.0",
            "_view_name": "StyleView",
            "description_width": ""
          }
        },
        "0d428ca7364f429b90027d77fc0889fc": {
          "model_module": "@jupyter-widgets/controls",
          "model_name": "HBoxModel",
          "model_module_version": "1.5.0",
          "state": {
            "_dom_classes": [],
            "_model_module": "@jupyter-widgets/controls",
            "_model_module_version": "1.5.0",
            "_model_name": "HBoxModel",
            "_view_count": null,
            "_view_module": "@jupyter-widgets/controls",
            "_view_module_version": "1.5.0",
            "_view_name": "HBoxView",
            "box_style": "",
            "children": [
              "IPY_MODEL_4486a8de3908472e97e8f3d49fb493c4",
              "IPY_MODEL_f797386fa54e470aa9a640c4e2938dbf",
              "IPY_MODEL_329504e85ad1442fbea7419cd6b65891"
            ],
            "layout": "IPY_MODEL_e8c4b64d9f8b4277822df78ecdd8ef2e"
          }
        },
        "4486a8de3908472e97e8f3d49fb493c4": {
          "model_module": "@jupyter-widgets/controls",
          "model_name": "HTMLModel",
          "model_module_version": "1.5.0",
          "state": {
            "_dom_classes": [],
            "_model_module": "@jupyter-widgets/controls",
            "_model_module_version": "1.5.0",
            "_model_name": "HTMLModel",
            "_view_count": null,
            "_view_module": "@jupyter-widgets/controls",
            "_view_module_version": "1.5.0",
            "_view_name": "HTMLView",
            "description": "",
            "description_tooltip": null,
            "layout": "IPY_MODEL_9543699c76b544e98f3b49ff61868f26",
            "placeholder": "​",
            "style": "IPY_MODEL_1c8b759fc7c94641a98757d7c5c68572",
            "value": "pytorch_model.bin: 100%"
          }
        },
        "f797386fa54e470aa9a640c4e2938dbf": {
          "model_module": "@jupyter-widgets/controls",
          "model_name": "FloatProgressModel",
          "model_module_version": "1.5.0",
          "state": {
            "_dom_classes": [],
            "_model_module": "@jupyter-widgets/controls",
            "_model_module_version": "1.5.0",
            "_model_name": "FloatProgressModel",
            "_view_count": null,
            "_view_module": "@jupyter-widgets/controls",
            "_view_module_version": "1.5.0",
            "_view_name": "ProgressView",
            "bar_style": "success",
            "description": "",
            "description_tooltip": null,
            "layout": "IPY_MODEL_2ea97770767a42d0847085ac86316d82",
            "max": 90888945,
            "min": 0,
            "orientation": "horizontal",
            "style": "IPY_MODEL_f37ec0bcebeb464a8eb5bb00a76569bd",
            "value": 90888945
          }
        },
        "329504e85ad1442fbea7419cd6b65891": {
          "model_module": "@jupyter-widgets/controls",
          "model_name": "HTMLModel",
          "model_module_version": "1.5.0",
          "state": {
            "_dom_classes": [],
            "_model_module": "@jupyter-widgets/controls",
            "_model_module_version": "1.5.0",
            "_model_name": "HTMLModel",
            "_view_count": null,
            "_view_module": "@jupyter-widgets/controls",
            "_view_module_version": "1.5.0",
            "_view_name": "HTMLView",
            "description": "",
            "description_tooltip": null,
            "layout": "IPY_MODEL_e2a41f94ef3b42b8afe641aa0bcc6aba",
            "placeholder": "​",
            "style": "IPY_MODEL_3f6b16c0c9c54fc180ac21197170c82b",
            "value": " 90.9M/90.9M [00:00&lt;00:00, 446MB/s]"
          }
        },
        "e8c4b64d9f8b4277822df78ecdd8ef2e": {
          "model_module": "@jupyter-widgets/base",
          "model_name": "LayoutModel",
          "model_module_version": "1.2.0",
          "state": {
            "_model_module": "@jupyter-widgets/base",
            "_model_module_version": "1.2.0",
            "_model_name": "LayoutModel",
            "_view_count": null,
            "_view_module": "@jupyter-widgets/base",
            "_view_module_version": "1.2.0",
            "_view_name": "LayoutView",
            "align_content": null,
            "align_items": null,
            "align_self": null,
            "border": null,
            "bottom": null,
            "display": null,
            "flex": null,
            "flex_flow": null,
            "grid_area": null,
            "grid_auto_columns": null,
            "grid_auto_flow": null,
            "grid_auto_rows": null,
            "grid_column": null,
            "grid_gap": null,
            "grid_row": null,
            "grid_template_areas": null,
            "grid_template_columns": null,
            "grid_template_rows": null,
            "height": null,
            "justify_content": null,
            "justify_items": null,
            "left": null,
            "margin": null,
            "max_height": null,
            "max_width": null,
            "min_height": null,
            "min_width": null,
            "object_fit": null,
            "object_position": null,
            "order": null,
            "overflow": null,
            "overflow_x": null,
            "overflow_y": null,
            "padding": null,
            "right": null,
            "top": null,
            "visibility": null,
            "width": null
          }
        },
        "9543699c76b544e98f3b49ff61868f26": {
          "model_module": "@jupyter-widgets/base",
          "model_name": "LayoutModel",
          "model_module_version": "1.2.0",
          "state": {
            "_model_module": "@jupyter-widgets/base",
            "_model_module_version": "1.2.0",
            "_model_name": "LayoutModel",
            "_view_count": null,
            "_view_module": "@jupyter-widgets/base",
            "_view_module_version": "1.2.0",
            "_view_name": "LayoutView",
            "align_content": null,
            "align_items": null,
            "align_self": null,
            "border": null,
            "bottom": null,
            "display": null,
            "flex": null,
            "flex_flow": null,
            "grid_area": null,
            "grid_auto_columns": null,
            "grid_auto_flow": null,
            "grid_auto_rows": null,
            "grid_column": null,
            "grid_gap": null,
            "grid_row": null,
            "grid_template_areas": null,
            "grid_template_columns": null,
            "grid_template_rows": null,
            "height": null,
            "justify_content": null,
            "justify_items": null,
            "left": null,
            "margin": null,
            "max_height": null,
            "max_width": null,
            "min_height": null,
            "min_width": null,
            "object_fit": null,
            "object_position": null,
            "order": null,
            "overflow": null,
            "overflow_x": null,
            "overflow_y": null,
            "padding": null,
            "right": null,
            "top": null,
            "visibility": null,
            "width": null
          }
        },
        "1c8b759fc7c94641a98757d7c5c68572": {
          "model_module": "@jupyter-widgets/controls",
          "model_name": "DescriptionStyleModel",
          "model_module_version": "1.5.0",
          "state": {
            "_model_module": "@jupyter-widgets/controls",
            "_model_module_version": "1.5.0",
            "_model_name": "DescriptionStyleModel",
            "_view_count": null,
            "_view_module": "@jupyter-widgets/base",
            "_view_module_version": "1.2.0",
            "_view_name": "StyleView",
            "description_width": ""
          }
        },
        "2ea97770767a42d0847085ac86316d82": {
          "model_module": "@jupyter-widgets/base",
          "model_name": "LayoutModel",
          "model_module_version": "1.2.0",
          "state": {
            "_model_module": "@jupyter-widgets/base",
            "_model_module_version": "1.2.0",
            "_model_name": "LayoutModel",
            "_view_count": null,
            "_view_module": "@jupyter-widgets/base",
            "_view_module_version": "1.2.0",
            "_view_name": "LayoutView",
            "align_content": null,
            "align_items": null,
            "align_self": null,
            "border": null,
            "bottom": null,
            "display": null,
            "flex": null,
            "flex_flow": null,
            "grid_area": null,
            "grid_auto_columns": null,
            "grid_auto_flow": null,
            "grid_auto_rows": null,
            "grid_column": null,
            "grid_gap": null,
            "grid_row": null,
            "grid_template_areas": null,
            "grid_template_columns": null,
            "grid_template_rows": null,
            "height": null,
            "justify_content": null,
            "justify_items": null,
            "left": null,
            "margin": null,
            "max_height": null,
            "max_width": null,
            "min_height": null,
            "min_width": null,
            "object_fit": null,
            "object_position": null,
            "order": null,
            "overflow": null,
            "overflow_x": null,
            "overflow_y": null,
            "padding": null,
            "right": null,
            "top": null,
            "visibility": null,
            "width": null
          }
        },
        "f37ec0bcebeb464a8eb5bb00a76569bd": {
          "model_module": "@jupyter-widgets/controls",
          "model_name": "ProgressStyleModel",
          "model_module_version": "1.5.0",
          "state": {
            "_model_module": "@jupyter-widgets/controls",
            "_model_module_version": "1.5.0",
            "_model_name": "ProgressStyleModel",
            "_view_count": null,
            "_view_module": "@jupyter-widgets/base",
            "_view_module_version": "1.2.0",
            "_view_name": "StyleView",
            "bar_color": null,
            "description_width": ""
          }
        },
        "e2a41f94ef3b42b8afe641aa0bcc6aba": {
          "model_module": "@jupyter-widgets/base",
          "model_name": "LayoutModel",
          "model_module_version": "1.2.0",
          "state": {
            "_model_module": "@jupyter-widgets/base",
            "_model_module_version": "1.2.0",
            "_model_name": "LayoutModel",
            "_view_count": null,
            "_view_module": "@jupyter-widgets/base",
            "_view_module_version": "1.2.0",
            "_view_name": "LayoutView",
            "align_content": null,
            "align_items": null,
            "align_self": null,
            "border": null,
            "bottom": null,
            "display": null,
            "flex": null,
            "flex_flow": null,
            "grid_area": null,
            "grid_auto_columns": null,
            "grid_auto_flow": null,
            "grid_auto_rows": null,
            "grid_column": null,
            "grid_gap": null,
            "grid_row": null,
            "grid_template_areas": null,
            "grid_template_columns": null,
            "grid_template_rows": null,
            "height": null,
            "justify_content": null,
            "justify_items": null,
            "left": null,
            "margin": null,
            "max_height": null,
            "max_width": null,
            "min_height": null,
            "min_width": null,
            "object_fit": null,
            "object_position": null,
            "order": null,
            "overflow": null,
            "overflow_x": null,
            "overflow_y": null,
            "padding": null,
            "right": null,
            "top": null,
            "visibility": null,
            "width": null
          }
        },
        "3f6b16c0c9c54fc180ac21197170c82b": {
          "model_module": "@jupyter-widgets/controls",
          "model_name": "DescriptionStyleModel",
          "model_module_version": "1.5.0",
          "state": {
            "_model_module": "@jupyter-widgets/controls",
            "_model_module_version": "1.5.0",
            "_model_name": "DescriptionStyleModel",
            "_view_count": null,
            "_view_module": "@jupyter-widgets/base",
            "_view_module_version": "1.2.0",
            "_view_name": "StyleView",
            "description_width": ""
          }
        },
        "c0615dffb73b4adba971da570dc18b05": {
          "model_module": "@jupyter-widgets/controls",
          "model_name": "HBoxModel",
          "model_module_version": "1.5.0",
          "state": {
            "_dom_classes": [],
            "_model_module": "@jupyter-widgets/controls",
            "_model_module_version": "1.5.0",
            "_model_name": "HBoxModel",
            "_view_count": null,
            "_view_module": "@jupyter-widgets/controls",
            "_view_module_version": "1.5.0",
            "_view_name": "HBoxView",
            "box_style": "",
            "children": [
              "IPY_MODEL_d82951b1d0ec454b8da87d1ddc29334b",
              "IPY_MODEL_03f24de2731a49a19c395edd3b982b90",
              "IPY_MODEL_f6daa8cc092e4c48909b25da33d14777"
            ],
            "layout": "IPY_MODEL_8bf3111304f04b7ead046e08b7be07e0"
          }
        },
        "d82951b1d0ec454b8da87d1ddc29334b": {
          "model_module": "@jupyter-widgets/controls",
          "model_name": "HTMLModel",
          "model_module_version": "1.5.0",
          "state": {
            "_dom_classes": [],
            "_model_module": "@jupyter-widgets/controls",
            "_model_module_version": "1.5.0",
            "_model_name": "HTMLModel",
            "_view_count": null,
            "_view_module": "@jupyter-widgets/controls",
            "_view_module_version": "1.5.0",
            "_view_name": "HTMLView",
            "description": "",
            "description_tooltip": null,
            "layout": "IPY_MODEL_8d5a39fd1baa446db5131e33d353cace",
            "placeholder": "​",
            "style": "IPY_MODEL_039de93477f340df959f67c4e6d2c0ae",
            "value": "sentence_bert_config.json: 100%"
          }
        },
        "03f24de2731a49a19c395edd3b982b90": {
          "model_module": "@jupyter-widgets/controls",
          "model_name": "FloatProgressModel",
          "model_module_version": "1.5.0",
          "state": {
            "_dom_classes": [],
            "_model_module": "@jupyter-widgets/controls",
            "_model_module_version": "1.5.0",
            "_model_name": "FloatProgressModel",
            "_view_count": null,
            "_view_module": "@jupyter-widgets/controls",
            "_view_module_version": "1.5.0",
            "_view_name": "ProgressView",
            "bar_style": "success",
            "description": "",
            "description_tooltip": null,
            "layout": "IPY_MODEL_59e9cd9883b94bd89bff70f33ededad4",
            "max": 53,
            "min": 0,
            "orientation": "horizontal",
            "style": "IPY_MODEL_3c340f67a0974be6b5a8a29d2553ca9c",
            "value": 53
          }
        },
        "f6daa8cc092e4c48909b25da33d14777": {
          "model_module": "@jupyter-widgets/controls",
          "model_name": "HTMLModel",
          "model_module_version": "1.5.0",
          "state": {
            "_dom_classes": [],
            "_model_module": "@jupyter-widgets/controls",
            "_model_module_version": "1.5.0",
            "_model_name": "HTMLModel",
            "_view_count": null,
            "_view_module": "@jupyter-widgets/controls",
            "_view_module_version": "1.5.0",
            "_view_name": "HTMLView",
            "description": "",
            "description_tooltip": null,
            "layout": "IPY_MODEL_09f800c0caef4d17a29e7beeb1800161",
            "placeholder": "​",
            "style": "IPY_MODEL_e070a09a5d1048d0bb0f8617d6a568be",
            "value": " 53.0/53.0 [00:00&lt;00:00, 4.41kB/s]"
          }
        },
        "8bf3111304f04b7ead046e08b7be07e0": {
          "model_module": "@jupyter-widgets/base",
          "model_name": "LayoutModel",
          "model_module_version": "1.2.0",
          "state": {
            "_model_module": "@jupyter-widgets/base",
            "_model_module_version": "1.2.0",
            "_model_name": "LayoutModel",
            "_view_count": null,
            "_view_module": "@jupyter-widgets/base",
            "_view_module_version": "1.2.0",
            "_view_name": "LayoutView",
            "align_content": null,
            "align_items": null,
            "align_self": null,
            "border": null,
            "bottom": null,
            "display": null,
            "flex": null,
            "flex_flow": null,
            "grid_area": null,
            "grid_auto_columns": null,
            "grid_auto_flow": null,
            "grid_auto_rows": null,
            "grid_column": null,
            "grid_gap": null,
            "grid_row": null,
            "grid_template_areas": null,
            "grid_template_columns": null,
            "grid_template_rows": null,
            "height": null,
            "justify_content": null,
            "justify_items": null,
            "left": null,
            "margin": null,
            "max_height": null,
            "max_width": null,
            "min_height": null,
            "min_width": null,
            "object_fit": null,
            "object_position": null,
            "order": null,
            "overflow": null,
            "overflow_x": null,
            "overflow_y": null,
            "padding": null,
            "right": null,
            "top": null,
            "visibility": null,
            "width": null
          }
        },
        "8d5a39fd1baa446db5131e33d353cace": {
          "model_module": "@jupyter-widgets/base",
          "model_name": "LayoutModel",
          "model_module_version": "1.2.0",
          "state": {
            "_model_module": "@jupyter-widgets/base",
            "_model_module_version": "1.2.0",
            "_model_name": "LayoutModel",
            "_view_count": null,
            "_view_module": "@jupyter-widgets/base",
            "_view_module_version": "1.2.0",
            "_view_name": "LayoutView",
            "align_content": null,
            "align_items": null,
            "align_self": null,
            "border": null,
            "bottom": null,
            "display": null,
            "flex": null,
            "flex_flow": null,
            "grid_area": null,
            "grid_auto_columns": null,
            "grid_auto_flow": null,
            "grid_auto_rows": null,
            "grid_column": null,
            "grid_gap": null,
            "grid_row": null,
            "grid_template_areas": null,
            "grid_template_columns": null,
            "grid_template_rows": null,
            "height": null,
            "justify_content": null,
            "justify_items": null,
            "left": null,
            "margin": null,
            "max_height": null,
            "max_width": null,
            "min_height": null,
            "min_width": null,
            "object_fit": null,
            "object_position": null,
            "order": null,
            "overflow": null,
            "overflow_x": null,
            "overflow_y": null,
            "padding": null,
            "right": null,
            "top": null,
            "visibility": null,
            "width": null
          }
        },
        "039de93477f340df959f67c4e6d2c0ae": {
          "model_module": "@jupyter-widgets/controls",
          "model_name": "DescriptionStyleModel",
          "model_module_version": "1.5.0",
          "state": {
            "_model_module": "@jupyter-widgets/controls",
            "_model_module_version": "1.5.0",
            "_model_name": "DescriptionStyleModel",
            "_view_count": null,
            "_view_module": "@jupyter-widgets/base",
            "_view_module_version": "1.2.0",
            "_view_name": "StyleView",
            "description_width": ""
          }
        },
        "59e9cd9883b94bd89bff70f33ededad4": {
          "model_module": "@jupyter-widgets/base",
          "model_name": "LayoutModel",
          "model_module_version": "1.2.0",
          "state": {
            "_model_module": "@jupyter-widgets/base",
            "_model_module_version": "1.2.0",
            "_model_name": "LayoutModel",
            "_view_count": null,
            "_view_module": "@jupyter-widgets/base",
            "_view_module_version": "1.2.0",
            "_view_name": "LayoutView",
            "align_content": null,
            "align_items": null,
            "align_self": null,
            "border": null,
            "bottom": null,
            "display": null,
            "flex": null,
            "flex_flow": null,
            "grid_area": null,
            "grid_auto_columns": null,
            "grid_auto_flow": null,
            "grid_auto_rows": null,
            "grid_column": null,
            "grid_gap": null,
            "grid_row": null,
            "grid_template_areas": null,
            "grid_template_columns": null,
            "grid_template_rows": null,
            "height": null,
            "justify_content": null,
            "justify_items": null,
            "left": null,
            "margin": null,
            "max_height": null,
            "max_width": null,
            "min_height": null,
            "min_width": null,
            "object_fit": null,
            "object_position": null,
            "order": null,
            "overflow": null,
            "overflow_x": null,
            "overflow_y": null,
            "padding": null,
            "right": null,
            "top": null,
            "visibility": null,
            "width": null
          }
        },
        "3c340f67a0974be6b5a8a29d2553ca9c": {
          "model_module": "@jupyter-widgets/controls",
          "model_name": "ProgressStyleModel",
          "model_module_version": "1.5.0",
          "state": {
            "_model_module": "@jupyter-widgets/controls",
            "_model_module_version": "1.5.0",
            "_model_name": "ProgressStyleModel",
            "_view_count": null,
            "_view_module": "@jupyter-widgets/base",
            "_view_module_version": "1.2.0",
            "_view_name": "StyleView",
            "bar_color": null,
            "description_width": ""
          }
        },
        "09f800c0caef4d17a29e7beeb1800161": {
          "model_module": "@jupyter-widgets/base",
          "model_name": "LayoutModel",
          "model_module_version": "1.2.0",
          "state": {
            "_model_module": "@jupyter-widgets/base",
            "_model_module_version": "1.2.0",
            "_model_name": "LayoutModel",
            "_view_count": null,
            "_view_module": "@jupyter-widgets/base",
            "_view_module_version": "1.2.0",
            "_view_name": "LayoutView",
            "align_content": null,
            "align_items": null,
            "align_self": null,
            "border": null,
            "bottom": null,
            "display": null,
            "flex": null,
            "flex_flow": null,
            "grid_area": null,
            "grid_auto_columns": null,
            "grid_auto_flow": null,
            "grid_auto_rows": null,
            "grid_column": null,
            "grid_gap": null,
            "grid_row": null,
            "grid_template_areas": null,
            "grid_template_columns": null,
            "grid_template_rows": null,
            "height": null,
            "justify_content": null,
            "justify_items": null,
            "left": null,
            "margin": null,
            "max_height": null,
            "max_width": null,
            "min_height": null,
            "min_width": null,
            "object_fit": null,
            "object_position": null,
            "order": null,
            "overflow": null,
            "overflow_x": null,
            "overflow_y": null,
            "padding": null,
            "right": null,
            "top": null,
            "visibility": null,
            "width": null
          }
        },
        "e070a09a5d1048d0bb0f8617d6a568be": {
          "model_module": "@jupyter-widgets/controls",
          "model_name": "DescriptionStyleModel",
          "model_module_version": "1.5.0",
          "state": {
            "_model_module": "@jupyter-widgets/controls",
            "_model_module_version": "1.5.0",
            "_model_name": "DescriptionStyleModel",
            "_view_count": null,
            "_view_module": "@jupyter-widgets/base",
            "_view_module_version": "1.2.0",
            "_view_name": "StyleView",
            "description_width": ""
          }
        },
        "62312ff8de0c437db4cd3c09d2789cf0": {
          "model_module": "@jupyter-widgets/controls",
          "model_name": "HBoxModel",
          "model_module_version": "1.5.0",
          "state": {
            "_dom_classes": [],
            "_model_module": "@jupyter-widgets/controls",
            "_model_module_version": "1.5.0",
            "_model_name": "HBoxModel",
            "_view_count": null,
            "_view_module": "@jupyter-widgets/controls",
            "_view_module_version": "1.5.0",
            "_view_name": "HBoxView",
            "box_style": "",
            "children": [
              "IPY_MODEL_99d097744bd34226b3c001e60c61ed91",
              "IPY_MODEL_33757d55f576429a81b536071b47e7ea",
              "IPY_MODEL_cd8e3874f6f1487cb3be0a0b44b4c1e0"
            ],
            "layout": "IPY_MODEL_5740b651ead141daacb941f44fdb3ebf"
          }
        },
        "99d097744bd34226b3c001e60c61ed91": {
          "model_module": "@jupyter-widgets/controls",
          "model_name": "HTMLModel",
          "model_module_version": "1.5.0",
          "state": {
            "_dom_classes": [],
            "_model_module": "@jupyter-widgets/controls",
            "_model_module_version": "1.5.0",
            "_model_name": "HTMLModel",
            "_view_count": null,
            "_view_module": "@jupyter-widgets/controls",
            "_view_module_version": "1.5.0",
            "_view_name": "HTMLView",
            "description": "",
            "description_tooltip": null,
            "layout": "IPY_MODEL_a11910af963b41788b85824b43603aae",
            "placeholder": "​",
            "style": "IPY_MODEL_db93b325bd9042a6a5ccc4c2f67527a6",
            "value": "special_tokens_map.json: 100%"
          }
        },
        "33757d55f576429a81b536071b47e7ea": {
          "model_module": "@jupyter-widgets/controls",
          "model_name": "FloatProgressModel",
          "model_module_version": "1.5.0",
          "state": {
            "_dom_classes": [],
            "_model_module": "@jupyter-widgets/controls",
            "_model_module_version": "1.5.0",
            "_model_name": "FloatProgressModel",
            "_view_count": null,
            "_view_module": "@jupyter-widgets/controls",
            "_view_module_version": "1.5.0",
            "_view_name": "ProgressView",
            "bar_style": "success",
            "description": "",
            "description_tooltip": null,
            "layout": "IPY_MODEL_078b10d8ca0c40a28d5ae0fc45c108c1",
            "max": 112,
            "min": 0,
            "orientation": "horizontal",
            "style": "IPY_MODEL_5d0cfafb6ab847e89743c439dfab3a62",
            "value": 112
          }
        },
        "cd8e3874f6f1487cb3be0a0b44b4c1e0": {
          "model_module": "@jupyter-widgets/controls",
          "model_name": "HTMLModel",
          "model_module_version": "1.5.0",
          "state": {
            "_dom_classes": [],
            "_model_module": "@jupyter-widgets/controls",
            "_model_module_version": "1.5.0",
            "_model_name": "HTMLModel",
            "_view_count": null,
            "_view_module": "@jupyter-widgets/controls",
            "_view_module_version": "1.5.0",
            "_view_name": "HTMLView",
            "description": "",
            "description_tooltip": null,
            "layout": "IPY_MODEL_06a24353b53346fcbb5cf1b52bebd3a3",
            "placeholder": "​",
            "style": "IPY_MODEL_a3302c81ee7545dea17ae74d6892986f",
            "value": " 112/112 [00:00&lt;00:00, 9.20kB/s]"
          }
        },
        "5740b651ead141daacb941f44fdb3ebf": {
          "model_module": "@jupyter-widgets/base",
          "model_name": "LayoutModel",
          "model_module_version": "1.2.0",
          "state": {
            "_model_module": "@jupyter-widgets/base",
            "_model_module_version": "1.2.0",
            "_model_name": "LayoutModel",
            "_view_count": null,
            "_view_module": "@jupyter-widgets/base",
            "_view_module_version": "1.2.0",
            "_view_name": "LayoutView",
            "align_content": null,
            "align_items": null,
            "align_self": null,
            "border": null,
            "bottom": null,
            "display": null,
            "flex": null,
            "flex_flow": null,
            "grid_area": null,
            "grid_auto_columns": null,
            "grid_auto_flow": null,
            "grid_auto_rows": null,
            "grid_column": null,
            "grid_gap": null,
            "grid_row": null,
            "grid_template_areas": null,
            "grid_template_columns": null,
            "grid_template_rows": null,
            "height": null,
            "justify_content": null,
            "justify_items": null,
            "left": null,
            "margin": null,
            "max_height": null,
            "max_width": null,
            "min_height": null,
            "min_width": null,
            "object_fit": null,
            "object_position": null,
            "order": null,
            "overflow": null,
            "overflow_x": null,
            "overflow_y": null,
            "padding": null,
            "right": null,
            "top": null,
            "visibility": null,
            "width": null
          }
        },
        "a11910af963b41788b85824b43603aae": {
          "model_module": "@jupyter-widgets/base",
          "model_name": "LayoutModel",
          "model_module_version": "1.2.0",
          "state": {
            "_model_module": "@jupyter-widgets/base",
            "_model_module_version": "1.2.0",
            "_model_name": "LayoutModel",
            "_view_count": null,
            "_view_module": "@jupyter-widgets/base",
            "_view_module_version": "1.2.0",
            "_view_name": "LayoutView",
            "align_content": null,
            "align_items": null,
            "align_self": null,
            "border": null,
            "bottom": null,
            "display": null,
            "flex": null,
            "flex_flow": null,
            "grid_area": null,
            "grid_auto_columns": null,
            "grid_auto_flow": null,
            "grid_auto_rows": null,
            "grid_column": null,
            "grid_gap": null,
            "grid_row": null,
            "grid_template_areas": null,
            "grid_template_columns": null,
            "grid_template_rows": null,
            "height": null,
            "justify_content": null,
            "justify_items": null,
            "left": null,
            "margin": null,
            "max_height": null,
            "max_width": null,
            "min_height": null,
            "min_width": null,
            "object_fit": null,
            "object_position": null,
            "order": null,
            "overflow": null,
            "overflow_x": null,
            "overflow_y": null,
            "padding": null,
            "right": null,
            "top": null,
            "visibility": null,
            "width": null
          }
        },
        "db93b325bd9042a6a5ccc4c2f67527a6": {
          "model_module": "@jupyter-widgets/controls",
          "model_name": "DescriptionStyleModel",
          "model_module_version": "1.5.0",
          "state": {
            "_model_module": "@jupyter-widgets/controls",
            "_model_module_version": "1.5.0",
            "_model_name": "DescriptionStyleModel",
            "_view_count": null,
            "_view_module": "@jupyter-widgets/base",
            "_view_module_version": "1.2.0",
            "_view_name": "StyleView",
            "description_width": ""
          }
        },
        "078b10d8ca0c40a28d5ae0fc45c108c1": {
          "model_module": "@jupyter-widgets/base",
          "model_name": "LayoutModel",
          "model_module_version": "1.2.0",
          "state": {
            "_model_module": "@jupyter-widgets/base",
            "_model_module_version": "1.2.0",
            "_model_name": "LayoutModel",
            "_view_count": null,
            "_view_module": "@jupyter-widgets/base",
            "_view_module_version": "1.2.0",
            "_view_name": "LayoutView",
            "align_content": null,
            "align_items": null,
            "align_self": null,
            "border": null,
            "bottom": null,
            "display": null,
            "flex": null,
            "flex_flow": null,
            "grid_area": null,
            "grid_auto_columns": null,
            "grid_auto_flow": null,
            "grid_auto_rows": null,
            "grid_column": null,
            "grid_gap": null,
            "grid_row": null,
            "grid_template_areas": null,
            "grid_template_columns": null,
            "grid_template_rows": null,
            "height": null,
            "justify_content": null,
            "justify_items": null,
            "left": null,
            "margin": null,
            "max_height": null,
            "max_width": null,
            "min_height": null,
            "min_width": null,
            "object_fit": null,
            "object_position": null,
            "order": null,
            "overflow": null,
            "overflow_x": null,
            "overflow_y": null,
            "padding": null,
            "right": null,
            "top": null,
            "visibility": null,
            "width": null
          }
        },
        "5d0cfafb6ab847e89743c439dfab3a62": {
          "model_module": "@jupyter-widgets/controls",
          "model_name": "ProgressStyleModel",
          "model_module_version": "1.5.0",
          "state": {
            "_model_module": "@jupyter-widgets/controls",
            "_model_module_version": "1.5.0",
            "_model_name": "ProgressStyleModel",
            "_view_count": null,
            "_view_module": "@jupyter-widgets/base",
            "_view_module_version": "1.2.0",
            "_view_name": "StyleView",
            "bar_color": null,
            "description_width": ""
          }
        },
        "06a24353b53346fcbb5cf1b52bebd3a3": {
          "model_module": "@jupyter-widgets/base",
          "model_name": "LayoutModel",
          "model_module_version": "1.2.0",
          "state": {
            "_model_module": "@jupyter-widgets/base",
            "_model_module_version": "1.2.0",
            "_model_name": "LayoutModel",
            "_view_count": null,
            "_view_module": "@jupyter-widgets/base",
            "_view_module_version": "1.2.0",
            "_view_name": "LayoutView",
            "align_content": null,
            "align_items": null,
            "align_self": null,
            "border": null,
            "bottom": null,
            "display": null,
            "flex": null,
            "flex_flow": null,
            "grid_area": null,
            "grid_auto_columns": null,
            "grid_auto_flow": null,
            "grid_auto_rows": null,
            "grid_column": null,
            "grid_gap": null,
            "grid_row": null,
            "grid_template_areas": null,
            "grid_template_columns": null,
            "grid_template_rows": null,
            "height": null,
            "justify_content": null,
            "justify_items": null,
            "left": null,
            "margin": null,
            "max_height": null,
            "max_width": null,
            "min_height": null,
            "min_width": null,
            "object_fit": null,
            "object_position": null,
            "order": null,
            "overflow": null,
            "overflow_x": null,
            "overflow_y": null,
            "padding": null,
            "right": null,
            "top": null,
            "visibility": null,
            "width": null
          }
        },
        "a3302c81ee7545dea17ae74d6892986f": {
          "model_module": "@jupyter-widgets/controls",
          "model_name": "DescriptionStyleModel",
          "model_module_version": "1.5.0",
          "state": {
            "_model_module": "@jupyter-widgets/controls",
            "_model_module_version": "1.5.0",
            "_model_name": "DescriptionStyleModel",
            "_view_count": null,
            "_view_module": "@jupyter-widgets/base",
            "_view_module_version": "1.2.0",
            "_view_name": "StyleView",
            "description_width": ""
          }
        },
        "0f2f705c57cf4750a274f5f83c0f7d9c": {
          "model_module": "@jupyter-widgets/controls",
          "model_name": "HBoxModel",
          "model_module_version": "1.5.0",
          "state": {
            "_dom_classes": [],
            "_model_module": "@jupyter-widgets/controls",
            "_model_module_version": "1.5.0",
            "_model_name": "HBoxModel",
            "_view_count": null,
            "_view_module": "@jupyter-widgets/controls",
            "_view_module_version": "1.5.0",
            "_view_name": "HBoxView",
            "box_style": "",
            "children": [
              "IPY_MODEL_c801e6c87d4f46719ce10a9778ca34f0",
              "IPY_MODEL_5425a45b248c475db424cee49954e847",
              "IPY_MODEL_fc7470b1f5d34c948a23b2e1df013274"
            ],
            "layout": "IPY_MODEL_30cc50f1cb274d489758a5a3a14b881d"
          }
        },
        "c801e6c87d4f46719ce10a9778ca34f0": {
          "model_module": "@jupyter-widgets/controls",
          "model_name": "HTMLModel",
          "model_module_version": "1.5.0",
          "state": {
            "_dom_classes": [],
            "_model_module": "@jupyter-widgets/controls",
            "_model_module_version": "1.5.0",
            "_model_name": "HTMLModel",
            "_view_count": null,
            "_view_module": "@jupyter-widgets/controls",
            "_view_module_version": "1.5.0",
            "_view_name": "HTMLView",
            "description": "",
            "description_tooltip": null,
            "layout": "IPY_MODEL_c1fd81ad4eda405cacc3e9b13d26d4ec",
            "placeholder": "​",
            "style": "IPY_MODEL_78198967b1814401bd15a0f0b3d32370",
            "value": "tokenizer.json: 100%"
          }
        },
        "5425a45b248c475db424cee49954e847": {
          "model_module": "@jupyter-widgets/controls",
          "model_name": "FloatProgressModel",
          "model_module_version": "1.5.0",
          "state": {
            "_dom_classes": [],
            "_model_module": "@jupyter-widgets/controls",
            "_model_module_version": "1.5.0",
            "_model_name": "FloatProgressModel",
            "_view_count": null,
            "_view_module": "@jupyter-widgets/controls",
            "_view_module_version": "1.5.0",
            "_view_name": "ProgressView",
            "bar_style": "success",
            "description": "",
            "description_tooltip": null,
            "layout": "IPY_MODEL_679daeb911244ac7bacd13a4682c8dda",
            "max": 466247,
            "min": 0,
            "orientation": "horizontal",
            "style": "IPY_MODEL_1dec4910e2634e5f836d9df88a9689de",
            "value": 466247
          }
        },
        "fc7470b1f5d34c948a23b2e1df013274": {
          "model_module": "@jupyter-widgets/controls",
          "model_name": "HTMLModel",
          "model_module_version": "1.5.0",
          "state": {
            "_dom_classes": [],
            "_model_module": "@jupyter-widgets/controls",
            "_model_module_version": "1.5.0",
            "_model_name": "HTMLModel",
            "_view_count": null,
            "_view_module": "@jupyter-widgets/controls",
            "_view_module_version": "1.5.0",
            "_view_name": "HTMLView",
            "description": "",
            "description_tooltip": null,
            "layout": "IPY_MODEL_e3c7f367f0a3405b9d1be16ff7ec66bc",
            "placeholder": "​",
            "style": "IPY_MODEL_f68f48006c3149a391e5dac5e18d8314",
            "value": " 466k/466k [00:00&lt;00:00, 2.14MB/s]"
          }
        },
        "30cc50f1cb274d489758a5a3a14b881d": {
          "model_module": "@jupyter-widgets/base",
          "model_name": "LayoutModel",
          "model_module_version": "1.2.0",
          "state": {
            "_model_module": "@jupyter-widgets/base",
            "_model_module_version": "1.2.0",
            "_model_name": "LayoutModel",
            "_view_count": null,
            "_view_module": "@jupyter-widgets/base",
            "_view_module_version": "1.2.0",
            "_view_name": "LayoutView",
            "align_content": null,
            "align_items": null,
            "align_self": null,
            "border": null,
            "bottom": null,
            "display": null,
            "flex": null,
            "flex_flow": null,
            "grid_area": null,
            "grid_auto_columns": null,
            "grid_auto_flow": null,
            "grid_auto_rows": null,
            "grid_column": null,
            "grid_gap": null,
            "grid_row": null,
            "grid_template_areas": null,
            "grid_template_columns": null,
            "grid_template_rows": null,
            "height": null,
            "justify_content": null,
            "justify_items": null,
            "left": null,
            "margin": null,
            "max_height": null,
            "max_width": null,
            "min_height": null,
            "min_width": null,
            "object_fit": null,
            "object_position": null,
            "order": null,
            "overflow": null,
            "overflow_x": null,
            "overflow_y": null,
            "padding": null,
            "right": null,
            "top": null,
            "visibility": null,
            "width": null
          }
        },
        "c1fd81ad4eda405cacc3e9b13d26d4ec": {
          "model_module": "@jupyter-widgets/base",
          "model_name": "LayoutModel",
          "model_module_version": "1.2.0",
          "state": {
            "_model_module": "@jupyter-widgets/base",
            "_model_module_version": "1.2.0",
            "_model_name": "LayoutModel",
            "_view_count": null,
            "_view_module": "@jupyter-widgets/base",
            "_view_module_version": "1.2.0",
            "_view_name": "LayoutView",
            "align_content": null,
            "align_items": null,
            "align_self": null,
            "border": null,
            "bottom": null,
            "display": null,
            "flex": null,
            "flex_flow": null,
            "grid_area": null,
            "grid_auto_columns": null,
            "grid_auto_flow": null,
            "grid_auto_rows": null,
            "grid_column": null,
            "grid_gap": null,
            "grid_row": null,
            "grid_template_areas": null,
            "grid_template_columns": null,
            "grid_template_rows": null,
            "height": null,
            "justify_content": null,
            "justify_items": null,
            "left": null,
            "margin": null,
            "max_height": null,
            "max_width": null,
            "min_height": null,
            "min_width": null,
            "object_fit": null,
            "object_position": null,
            "order": null,
            "overflow": null,
            "overflow_x": null,
            "overflow_y": null,
            "padding": null,
            "right": null,
            "top": null,
            "visibility": null,
            "width": null
          }
        },
        "78198967b1814401bd15a0f0b3d32370": {
          "model_module": "@jupyter-widgets/controls",
          "model_name": "DescriptionStyleModel",
          "model_module_version": "1.5.0",
          "state": {
            "_model_module": "@jupyter-widgets/controls",
            "_model_module_version": "1.5.0",
            "_model_name": "DescriptionStyleModel",
            "_view_count": null,
            "_view_module": "@jupyter-widgets/base",
            "_view_module_version": "1.2.0",
            "_view_name": "StyleView",
            "description_width": ""
          }
        },
        "679daeb911244ac7bacd13a4682c8dda": {
          "model_module": "@jupyter-widgets/base",
          "model_name": "LayoutModel",
          "model_module_version": "1.2.0",
          "state": {
            "_model_module": "@jupyter-widgets/base",
            "_model_module_version": "1.2.0",
            "_model_name": "LayoutModel",
            "_view_count": null,
            "_view_module": "@jupyter-widgets/base",
            "_view_module_version": "1.2.0",
            "_view_name": "LayoutView",
            "align_content": null,
            "align_items": null,
            "align_self": null,
            "border": null,
            "bottom": null,
            "display": null,
            "flex": null,
            "flex_flow": null,
            "grid_area": null,
            "grid_auto_columns": null,
            "grid_auto_flow": null,
            "grid_auto_rows": null,
            "grid_column": null,
            "grid_gap": null,
            "grid_row": null,
            "grid_template_areas": null,
            "grid_template_columns": null,
            "grid_template_rows": null,
            "height": null,
            "justify_content": null,
            "justify_items": null,
            "left": null,
            "margin": null,
            "max_height": null,
            "max_width": null,
            "min_height": null,
            "min_width": null,
            "object_fit": null,
            "object_position": null,
            "order": null,
            "overflow": null,
            "overflow_x": null,
            "overflow_y": null,
            "padding": null,
            "right": null,
            "top": null,
            "visibility": null,
            "width": null
          }
        },
        "1dec4910e2634e5f836d9df88a9689de": {
          "model_module": "@jupyter-widgets/controls",
          "model_name": "ProgressStyleModel",
          "model_module_version": "1.5.0",
          "state": {
            "_model_module": "@jupyter-widgets/controls",
            "_model_module_version": "1.5.0",
            "_model_name": "ProgressStyleModel",
            "_view_count": null,
            "_view_module": "@jupyter-widgets/base",
            "_view_module_version": "1.2.0",
            "_view_name": "StyleView",
            "bar_color": null,
            "description_width": ""
          }
        },
        "e3c7f367f0a3405b9d1be16ff7ec66bc": {
          "model_module": "@jupyter-widgets/base",
          "model_name": "LayoutModel",
          "model_module_version": "1.2.0",
          "state": {
            "_model_module": "@jupyter-widgets/base",
            "_model_module_version": "1.2.0",
            "_model_name": "LayoutModel",
            "_view_count": null,
            "_view_module": "@jupyter-widgets/base",
            "_view_module_version": "1.2.0",
            "_view_name": "LayoutView",
            "align_content": null,
            "align_items": null,
            "align_self": null,
            "border": null,
            "bottom": null,
            "display": null,
            "flex": null,
            "flex_flow": null,
            "grid_area": null,
            "grid_auto_columns": null,
            "grid_auto_flow": null,
            "grid_auto_rows": null,
            "grid_column": null,
            "grid_gap": null,
            "grid_row": null,
            "grid_template_areas": null,
            "grid_template_columns": null,
            "grid_template_rows": null,
            "height": null,
            "justify_content": null,
            "justify_items": null,
            "left": null,
            "margin": null,
            "max_height": null,
            "max_width": null,
            "min_height": null,
            "min_width": null,
            "object_fit": null,
            "object_position": null,
            "order": null,
            "overflow": null,
            "overflow_x": null,
            "overflow_y": null,
            "padding": null,
            "right": null,
            "top": null,
            "visibility": null,
            "width": null
          }
        },
        "f68f48006c3149a391e5dac5e18d8314": {
          "model_module": "@jupyter-widgets/controls",
          "model_name": "DescriptionStyleModel",
          "model_module_version": "1.5.0",
          "state": {
            "_model_module": "@jupyter-widgets/controls",
            "_model_module_version": "1.5.0",
            "_model_name": "DescriptionStyleModel",
            "_view_count": null,
            "_view_module": "@jupyter-widgets/base",
            "_view_module_version": "1.2.0",
            "_view_name": "StyleView",
            "description_width": ""
          }
        },
        "5efef358a5de438988f58351317bbbf1": {
          "model_module": "@jupyter-widgets/controls",
          "model_name": "HBoxModel",
          "model_module_version": "1.5.0",
          "state": {
            "_dom_classes": [],
            "_model_module": "@jupyter-widgets/controls",
            "_model_module_version": "1.5.0",
            "_model_name": "HBoxModel",
            "_view_count": null,
            "_view_module": "@jupyter-widgets/controls",
            "_view_module_version": "1.5.0",
            "_view_name": "HBoxView",
            "box_style": "",
            "children": [
              "IPY_MODEL_5ddaefc08b9d4185b3a00a2e18d3d84e",
              "IPY_MODEL_b990b9631a5c48f3907771aac57a5a03",
              "IPY_MODEL_6e585bc6d2fc417f882f571ed7623f27"
            ],
            "layout": "IPY_MODEL_bf6f96383a8347aabcf5be9f0f658823"
          }
        },
        "5ddaefc08b9d4185b3a00a2e18d3d84e": {
          "model_module": "@jupyter-widgets/controls",
          "model_name": "HTMLModel",
          "model_module_version": "1.5.0",
          "state": {
            "_dom_classes": [],
            "_model_module": "@jupyter-widgets/controls",
            "_model_module_version": "1.5.0",
            "_model_name": "HTMLModel",
            "_view_count": null,
            "_view_module": "@jupyter-widgets/controls",
            "_view_module_version": "1.5.0",
            "_view_name": "HTMLView",
            "description": "",
            "description_tooltip": null,
            "layout": "IPY_MODEL_20a05c99562b4ac598aafc7345e444ca",
            "placeholder": "​",
            "style": "IPY_MODEL_6adddf86696a45cf8061c81e587881be",
            "value": "tokenizer_config.json: 100%"
          }
        },
        "b990b9631a5c48f3907771aac57a5a03": {
          "model_module": "@jupyter-widgets/controls",
          "model_name": "FloatProgressModel",
          "model_module_version": "1.5.0",
          "state": {
            "_dom_classes": [],
            "_model_module": "@jupyter-widgets/controls",
            "_model_module_version": "1.5.0",
            "_model_name": "FloatProgressModel",
            "_view_count": null,
            "_view_module": "@jupyter-widgets/controls",
            "_view_module_version": "1.5.0",
            "_view_name": "ProgressView",
            "bar_style": "success",
            "description": "",
            "description_tooltip": null,
            "layout": "IPY_MODEL_f44329e7afcf4bd08ea9c45e55c84a6e",
            "max": 350,
            "min": 0,
            "orientation": "horizontal",
            "style": "IPY_MODEL_0c6bb7cdbbe44073a9b3c24ba28d2175",
            "value": 350
          }
        },
        "6e585bc6d2fc417f882f571ed7623f27": {
          "model_module": "@jupyter-widgets/controls",
          "model_name": "HTMLModel",
          "model_module_version": "1.5.0",
          "state": {
            "_dom_classes": [],
            "_model_module": "@jupyter-widgets/controls",
            "_model_module_version": "1.5.0",
            "_model_name": "HTMLModel",
            "_view_count": null,
            "_view_module": "@jupyter-widgets/controls",
            "_view_module_version": "1.5.0",
            "_view_name": "HTMLView",
            "description": "",
            "description_tooltip": null,
            "layout": "IPY_MODEL_766b3271e27b4777a21b320ffd00a797",
            "placeholder": "​",
            "style": "IPY_MODEL_431952ef459149c8840ae55a9ceeb55f",
            "value": " 350/350 [00:00&lt;00:00, 33.8kB/s]"
          }
        },
        "bf6f96383a8347aabcf5be9f0f658823": {
          "model_module": "@jupyter-widgets/base",
          "model_name": "LayoutModel",
          "model_module_version": "1.2.0",
          "state": {
            "_model_module": "@jupyter-widgets/base",
            "_model_module_version": "1.2.0",
            "_model_name": "LayoutModel",
            "_view_count": null,
            "_view_module": "@jupyter-widgets/base",
            "_view_module_version": "1.2.0",
            "_view_name": "LayoutView",
            "align_content": null,
            "align_items": null,
            "align_self": null,
            "border": null,
            "bottom": null,
            "display": null,
            "flex": null,
            "flex_flow": null,
            "grid_area": null,
            "grid_auto_columns": null,
            "grid_auto_flow": null,
            "grid_auto_rows": null,
            "grid_column": null,
            "grid_gap": null,
            "grid_row": null,
            "grid_template_areas": null,
            "grid_template_columns": null,
            "grid_template_rows": null,
            "height": null,
            "justify_content": null,
            "justify_items": null,
            "left": null,
            "margin": null,
            "max_height": null,
            "max_width": null,
            "min_height": null,
            "min_width": null,
            "object_fit": null,
            "object_position": null,
            "order": null,
            "overflow": null,
            "overflow_x": null,
            "overflow_y": null,
            "padding": null,
            "right": null,
            "top": null,
            "visibility": null,
            "width": null
          }
        },
        "20a05c99562b4ac598aafc7345e444ca": {
          "model_module": "@jupyter-widgets/base",
          "model_name": "LayoutModel",
          "model_module_version": "1.2.0",
          "state": {
            "_model_module": "@jupyter-widgets/base",
            "_model_module_version": "1.2.0",
            "_model_name": "LayoutModel",
            "_view_count": null,
            "_view_module": "@jupyter-widgets/base",
            "_view_module_version": "1.2.0",
            "_view_name": "LayoutView",
            "align_content": null,
            "align_items": null,
            "align_self": null,
            "border": null,
            "bottom": null,
            "display": null,
            "flex": null,
            "flex_flow": null,
            "grid_area": null,
            "grid_auto_columns": null,
            "grid_auto_flow": null,
            "grid_auto_rows": null,
            "grid_column": null,
            "grid_gap": null,
            "grid_row": null,
            "grid_template_areas": null,
            "grid_template_columns": null,
            "grid_template_rows": null,
            "height": null,
            "justify_content": null,
            "justify_items": null,
            "left": null,
            "margin": null,
            "max_height": null,
            "max_width": null,
            "min_height": null,
            "min_width": null,
            "object_fit": null,
            "object_position": null,
            "order": null,
            "overflow": null,
            "overflow_x": null,
            "overflow_y": null,
            "padding": null,
            "right": null,
            "top": null,
            "visibility": null,
            "width": null
          }
        },
        "6adddf86696a45cf8061c81e587881be": {
          "model_module": "@jupyter-widgets/controls",
          "model_name": "DescriptionStyleModel",
          "model_module_version": "1.5.0",
          "state": {
            "_model_module": "@jupyter-widgets/controls",
            "_model_module_version": "1.5.0",
            "_model_name": "DescriptionStyleModel",
            "_view_count": null,
            "_view_module": "@jupyter-widgets/base",
            "_view_module_version": "1.2.0",
            "_view_name": "StyleView",
            "description_width": ""
          }
        },
        "f44329e7afcf4bd08ea9c45e55c84a6e": {
          "model_module": "@jupyter-widgets/base",
          "model_name": "LayoutModel",
          "model_module_version": "1.2.0",
          "state": {
            "_model_module": "@jupyter-widgets/base",
            "_model_module_version": "1.2.0",
            "_model_name": "LayoutModel",
            "_view_count": null,
            "_view_module": "@jupyter-widgets/base",
            "_view_module_version": "1.2.0",
            "_view_name": "LayoutView",
            "align_content": null,
            "align_items": null,
            "align_self": null,
            "border": null,
            "bottom": null,
            "display": null,
            "flex": null,
            "flex_flow": null,
            "grid_area": null,
            "grid_auto_columns": null,
            "grid_auto_flow": null,
            "grid_auto_rows": null,
            "grid_column": null,
            "grid_gap": null,
            "grid_row": null,
            "grid_template_areas": null,
            "grid_template_columns": null,
            "grid_template_rows": null,
            "height": null,
            "justify_content": null,
            "justify_items": null,
            "left": null,
            "margin": null,
            "max_height": null,
            "max_width": null,
            "min_height": null,
            "min_width": null,
            "object_fit": null,
            "object_position": null,
            "order": null,
            "overflow": null,
            "overflow_x": null,
            "overflow_y": null,
            "padding": null,
            "right": null,
            "top": null,
            "visibility": null,
            "width": null
          }
        },
        "0c6bb7cdbbe44073a9b3c24ba28d2175": {
          "model_module": "@jupyter-widgets/controls",
          "model_name": "ProgressStyleModel",
          "model_module_version": "1.5.0",
          "state": {
            "_model_module": "@jupyter-widgets/controls",
            "_model_module_version": "1.5.0",
            "_model_name": "ProgressStyleModel",
            "_view_count": null,
            "_view_module": "@jupyter-widgets/base",
            "_view_module_version": "1.2.0",
            "_view_name": "StyleView",
            "bar_color": null,
            "description_width": ""
          }
        },
        "766b3271e27b4777a21b320ffd00a797": {
          "model_module": "@jupyter-widgets/base",
          "model_name": "LayoutModel",
          "model_module_version": "1.2.0",
          "state": {
            "_model_module": "@jupyter-widgets/base",
            "_model_module_version": "1.2.0",
            "_model_name": "LayoutModel",
            "_view_count": null,
            "_view_module": "@jupyter-widgets/base",
            "_view_module_version": "1.2.0",
            "_view_name": "LayoutView",
            "align_content": null,
            "align_items": null,
            "align_self": null,
            "border": null,
            "bottom": null,
            "display": null,
            "flex": null,
            "flex_flow": null,
            "grid_area": null,
            "grid_auto_columns": null,
            "grid_auto_flow": null,
            "grid_auto_rows": null,
            "grid_column": null,
            "grid_gap": null,
            "grid_row": null,
            "grid_template_areas": null,
            "grid_template_columns": null,
            "grid_template_rows": null,
            "height": null,
            "justify_content": null,
            "justify_items": null,
            "left": null,
            "margin": null,
            "max_height": null,
            "max_width": null,
            "min_height": null,
            "min_width": null,
            "object_fit": null,
            "object_position": null,
            "order": null,
            "overflow": null,
            "overflow_x": null,
            "overflow_y": null,
            "padding": null,
            "right": null,
            "top": null,
            "visibility": null,
            "width": null
          }
        },
        "431952ef459149c8840ae55a9ceeb55f": {
          "model_module": "@jupyter-widgets/controls",
          "model_name": "DescriptionStyleModel",
          "model_module_version": "1.5.0",
          "state": {
            "_model_module": "@jupyter-widgets/controls",
            "_model_module_version": "1.5.0",
            "_model_name": "DescriptionStyleModel",
            "_view_count": null,
            "_view_module": "@jupyter-widgets/base",
            "_view_module_version": "1.2.0",
            "_view_name": "StyleView",
            "description_width": ""
          }
        },
        "e957e8009d5a4a05ae50c1048f708652": {
          "model_module": "@jupyter-widgets/controls",
          "model_name": "HBoxModel",
          "model_module_version": "1.5.0",
          "state": {
            "_dom_classes": [],
            "_model_module": "@jupyter-widgets/controls",
            "_model_module_version": "1.5.0",
            "_model_name": "HBoxModel",
            "_view_count": null,
            "_view_module": "@jupyter-widgets/controls",
            "_view_module_version": "1.5.0",
            "_view_name": "HBoxView",
            "box_style": "",
            "children": [
              "IPY_MODEL_85e27ec9d4e1449a941ca6e77fc9c425",
              "IPY_MODEL_eaf8cc40406b4a4c9f92d5278bb7c571",
              "IPY_MODEL_f7f85f45b7344afaa52a27cbfaf48fc0"
            ],
            "layout": "IPY_MODEL_d69bddf0d87e418b9762b2420f16e7e4"
          }
        },
        "85e27ec9d4e1449a941ca6e77fc9c425": {
          "model_module": "@jupyter-widgets/controls",
          "model_name": "HTMLModel",
          "model_module_version": "1.5.0",
          "state": {
            "_dom_classes": [],
            "_model_module": "@jupyter-widgets/controls",
            "_model_module_version": "1.5.0",
            "_model_name": "HTMLModel",
            "_view_count": null,
            "_view_module": "@jupyter-widgets/controls",
            "_view_module_version": "1.5.0",
            "_view_name": "HTMLView",
            "description": "",
            "description_tooltip": null,
            "layout": "IPY_MODEL_43ed78a304aa4445a19b26d70994c22b",
            "placeholder": "​",
            "style": "IPY_MODEL_407b61484332416197384cc20af743ce",
            "value": "train_script.py: 100%"
          }
        },
        "eaf8cc40406b4a4c9f92d5278bb7c571": {
          "model_module": "@jupyter-widgets/controls",
          "model_name": "FloatProgressModel",
          "model_module_version": "1.5.0",
          "state": {
            "_dom_classes": [],
            "_model_module": "@jupyter-widgets/controls",
            "_model_module_version": "1.5.0",
            "_model_name": "FloatProgressModel",
            "_view_count": null,
            "_view_module": "@jupyter-widgets/controls",
            "_view_module_version": "1.5.0",
            "_view_name": "ProgressView",
            "bar_style": "success",
            "description": "",
            "description_tooltip": null,
            "layout": "IPY_MODEL_cf98e53b18f8409ba880f5dae4a7286a",
            "max": 13156,
            "min": 0,
            "orientation": "horizontal",
            "style": "IPY_MODEL_230d40072327423fa3d10c2bbf00037e",
            "value": 13156
          }
        },
        "f7f85f45b7344afaa52a27cbfaf48fc0": {
          "model_module": "@jupyter-widgets/controls",
          "model_name": "HTMLModel",
          "model_module_version": "1.5.0",
          "state": {
            "_dom_classes": [],
            "_model_module": "@jupyter-widgets/controls",
            "_model_module_version": "1.5.0",
            "_model_name": "HTMLModel",
            "_view_count": null,
            "_view_module": "@jupyter-widgets/controls",
            "_view_module_version": "1.5.0",
            "_view_name": "HTMLView",
            "description": "",
            "description_tooltip": null,
            "layout": "IPY_MODEL_6464591739134d7ead30481ace426c41",
            "placeholder": "​",
            "style": "IPY_MODEL_2016e1cf44984f1aa53a2f299d44b9b4",
            "value": " 13.2k/13.2k [00:00&lt;00:00, 1.23MB/s]"
          }
        },
        "d69bddf0d87e418b9762b2420f16e7e4": {
          "model_module": "@jupyter-widgets/base",
          "model_name": "LayoutModel",
          "model_module_version": "1.2.0",
          "state": {
            "_model_module": "@jupyter-widgets/base",
            "_model_module_version": "1.2.0",
            "_model_name": "LayoutModel",
            "_view_count": null,
            "_view_module": "@jupyter-widgets/base",
            "_view_module_version": "1.2.0",
            "_view_name": "LayoutView",
            "align_content": null,
            "align_items": null,
            "align_self": null,
            "border": null,
            "bottom": null,
            "display": null,
            "flex": null,
            "flex_flow": null,
            "grid_area": null,
            "grid_auto_columns": null,
            "grid_auto_flow": null,
            "grid_auto_rows": null,
            "grid_column": null,
            "grid_gap": null,
            "grid_row": null,
            "grid_template_areas": null,
            "grid_template_columns": null,
            "grid_template_rows": null,
            "height": null,
            "justify_content": null,
            "justify_items": null,
            "left": null,
            "margin": null,
            "max_height": null,
            "max_width": null,
            "min_height": null,
            "min_width": null,
            "object_fit": null,
            "object_position": null,
            "order": null,
            "overflow": null,
            "overflow_x": null,
            "overflow_y": null,
            "padding": null,
            "right": null,
            "top": null,
            "visibility": null,
            "width": null
          }
        },
        "43ed78a304aa4445a19b26d70994c22b": {
          "model_module": "@jupyter-widgets/base",
          "model_name": "LayoutModel",
          "model_module_version": "1.2.0",
          "state": {
            "_model_module": "@jupyter-widgets/base",
            "_model_module_version": "1.2.0",
            "_model_name": "LayoutModel",
            "_view_count": null,
            "_view_module": "@jupyter-widgets/base",
            "_view_module_version": "1.2.0",
            "_view_name": "LayoutView",
            "align_content": null,
            "align_items": null,
            "align_self": null,
            "border": null,
            "bottom": null,
            "display": null,
            "flex": null,
            "flex_flow": null,
            "grid_area": null,
            "grid_auto_columns": null,
            "grid_auto_flow": null,
            "grid_auto_rows": null,
            "grid_column": null,
            "grid_gap": null,
            "grid_row": null,
            "grid_template_areas": null,
            "grid_template_columns": null,
            "grid_template_rows": null,
            "height": null,
            "justify_content": null,
            "justify_items": null,
            "left": null,
            "margin": null,
            "max_height": null,
            "max_width": null,
            "min_height": null,
            "min_width": null,
            "object_fit": null,
            "object_position": null,
            "order": null,
            "overflow": null,
            "overflow_x": null,
            "overflow_y": null,
            "padding": null,
            "right": null,
            "top": null,
            "visibility": null,
            "width": null
          }
        },
        "407b61484332416197384cc20af743ce": {
          "model_module": "@jupyter-widgets/controls",
          "model_name": "DescriptionStyleModel",
          "model_module_version": "1.5.0",
          "state": {
            "_model_module": "@jupyter-widgets/controls",
            "_model_module_version": "1.5.0",
            "_model_name": "DescriptionStyleModel",
            "_view_count": null,
            "_view_module": "@jupyter-widgets/base",
            "_view_module_version": "1.2.0",
            "_view_name": "StyleView",
            "description_width": ""
          }
        },
        "cf98e53b18f8409ba880f5dae4a7286a": {
          "model_module": "@jupyter-widgets/base",
          "model_name": "LayoutModel",
          "model_module_version": "1.2.0",
          "state": {
            "_model_module": "@jupyter-widgets/base",
            "_model_module_version": "1.2.0",
            "_model_name": "LayoutModel",
            "_view_count": null,
            "_view_module": "@jupyter-widgets/base",
            "_view_module_version": "1.2.0",
            "_view_name": "LayoutView",
            "align_content": null,
            "align_items": null,
            "align_self": null,
            "border": null,
            "bottom": null,
            "display": null,
            "flex": null,
            "flex_flow": null,
            "grid_area": null,
            "grid_auto_columns": null,
            "grid_auto_flow": null,
            "grid_auto_rows": null,
            "grid_column": null,
            "grid_gap": null,
            "grid_row": null,
            "grid_template_areas": null,
            "grid_template_columns": null,
            "grid_template_rows": null,
            "height": null,
            "justify_content": null,
            "justify_items": null,
            "left": null,
            "margin": null,
            "max_height": null,
            "max_width": null,
            "min_height": null,
            "min_width": null,
            "object_fit": null,
            "object_position": null,
            "order": null,
            "overflow": null,
            "overflow_x": null,
            "overflow_y": null,
            "padding": null,
            "right": null,
            "top": null,
            "visibility": null,
            "width": null
          }
        },
        "230d40072327423fa3d10c2bbf00037e": {
          "model_module": "@jupyter-widgets/controls",
          "model_name": "ProgressStyleModel",
          "model_module_version": "1.5.0",
          "state": {
            "_model_module": "@jupyter-widgets/controls",
            "_model_module_version": "1.5.0",
            "_model_name": "ProgressStyleModel",
            "_view_count": null,
            "_view_module": "@jupyter-widgets/base",
            "_view_module_version": "1.2.0",
            "_view_name": "StyleView",
            "bar_color": null,
            "description_width": ""
          }
        },
        "6464591739134d7ead30481ace426c41": {
          "model_module": "@jupyter-widgets/base",
          "model_name": "LayoutModel",
          "model_module_version": "1.2.0",
          "state": {
            "_model_module": "@jupyter-widgets/base",
            "_model_module_version": "1.2.0",
            "_model_name": "LayoutModel",
            "_view_count": null,
            "_view_module": "@jupyter-widgets/base",
            "_view_module_version": "1.2.0",
            "_view_name": "LayoutView",
            "align_content": null,
            "align_items": null,
            "align_self": null,
            "border": null,
            "bottom": null,
            "display": null,
            "flex": null,
            "flex_flow": null,
            "grid_area": null,
            "grid_auto_columns": null,
            "grid_auto_flow": null,
            "grid_auto_rows": null,
            "grid_column": null,
            "grid_gap": null,
            "grid_row": null,
            "grid_template_areas": null,
            "grid_template_columns": null,
            "grid_template_rows": null,
            "height": null,
            "justify_content": null,
            "justify_items": null,
            "left": null,
            "margin": null,
            "max_height": null,
            "max_width": null,
            "min_height": null,
            "min_width": null,
            "object_fit": null,
            "object_position": null,
            "order": null,
            "overflow": null,
            "overflow_x": null,
            "overflow_y": null,
            "padding": null,
            "right": null,
            "top": null,
            "visibility": null,
            "width": null
          }
        },
        "2016e1cf44984f1aa53a2f299d44b9b4": {
          "model_module": "@jupyter-widgets/controls",
          "model_name": "DescriptionStyleModel",
          "model_module_version": "1.5.0",
          "state": {
            "_model_module": "@jupyter-widgets/controls",
            "_model_module_version": "1.5.0",
            "_model_name": "DescriptionStyleModel",
            "_view_count": null,
            "_view_module": "@jupyter-widgets/base",
            "_view_module_version": "1.2.0",
            "_view_name": "StyleView",
            "description_width": ""
          }
        },
        "8673a2ffedcc467da9fe1305a8e4bb2d": {
          "model_module": "@jupyter-widgets/controls",
          "model_name": "HBoxModel",
          "model_module_version": "1.5.0",
          "state": {
            "_dom_classes": [],
            "_model_module": "@jupyter-widgets/controls",
            "_model_module_version": "1.5.0",
            "_model_name": "HBoxModel",
            "_view_count": null,
            "_view_module": "@jupyter-widgets/controls",
            "_view_module_version": "1.5.0",
            "_view_name": "HBoxView",
            "box_style": "",
            "children": [
              "IPY_MODEL_49bb28323c4c47a8a0418f980429f576",
              "IPY_MODEL_8a3cf62f3f5647ff816fdea912401ef5",
              "IPY_MODEL_ca10500255c54f09a9d7ad4ac2cf1327"
            ],
            "layout": "IPY_MODEL_23957a6786124d839c1f8bd622792d20"
          }
        },
        "49bb28323c4c47a8a0418f980429f576": {
          "model_module": "@jupyter-widgets/controls",
          "model_name": "HTMLModel",
          "model_module_version": "1.5.0",
          "state": {
            "_dom_classes": [],
            "_model_module": "@jupyter-widgets/controls",
            "_model_module_version": "1.5.0",
            "_model_name": "HTMLModel",
            "_view_count": null,
            "_view_module": "@jupyter-widgets/controls",
            "_view_module_version": "1.5.0",
            "_view_name": "HTMLView",
            "description": "",
            "description_tooltip": null,
            "layout": "IPY_MODEL_a37ebe0518fd483f9c550c8a9be0bfc9",
            "placeholder": "​",
            "style": "IPY_MODEL_f5554c507cb14b8fba578459dd7f652c",
            "value": "vocab.txt: 100%"
          }
        },
        "8a3cf62f3f5647ff816fdea912401ef5": {
          "model_module": "@jupyter-widgets/controls",
          "model_name": "FloatProgressModel",
          "model_module_version": "1.5.0",
          "state": {
            "_dom_classes": [],
            "_model_module": "@jupyter-widgets/controls",
            "_model_module_version": "1.5.0",
            "_model_name": "FloatProgressModel",
            "_view_count": null,
            "_view_module": "@jupyter-widgets/controls",
            "_view_module_version": "1.5.0",
            "_view_name": "ProgressView",
            "bar_style": "success",
            "description": "",
            "description_tooltip": null,
            "layout": "IPY_MODEL_10b82a2ea0484c2d851cb590223099fd",
            "max": 231508,
            "min": 0,
            "orientation": "horizontal",
            "style": "IPY_MODEL_d701396dc3524dab8d51d41e485685a5",
            "value": 231508
          }
        },
        "ca10500255c54f09a9d7ad4ac2cf1327": {
          "model_module": "@jupyter-widgets/controls",
          "model_name": "HTMLModel",
          "model_module_version": "1.5.0",
          "state": {
            "_dom_classes": [],
            "_model_module": "@jupyter-widgets/controls",
            "_model_module_version": "1.5.0",
            "_model_name": "HTMLModel",
            "_view_count": null,
            "_view_module": "@jupyter-widgets/controls",
            "_view_module_version": "1.5.0",
            "_view_name": "HTMLView",
            "description": "",
            "description_tooltip": null,
            "layout": "IPY_MODEL_8b30e0a7cbee4fee8c34c06b4d5757c5",
            "placeholder": "​",
            "style": "IPY_MODEL_7ece043062db40cda0a8fcec498b1d63",
            "value": " 232k/232k [00:00&lt;00:00, 15.6MB/s]"
          }
        },
        "23957a6786124d839c1f8bd622792d20": {
          "model_module": "@jupyter-widgets/base",
          "model_name": "LayoutModel",
          "model_module_version": "1.2.0",
          "state": {
            "_model_module": "@jupyter-widgets/base",
            "_model_module_version": "1.2.0",
            "_model_name": "LayoutModel",
            "_view_count": null,
            "_view_module": "@jupyter-widgets/base",
            "_view_module_version": "1.2.0",
            "_view_name": "LayoutView",
            "align_content": null,
            "align_items": null,
            "align_self": null,
            "border": null,
            "bottom": null,
            "display": null,
            "flex": null,
            "flex_flow": null,
            "grid_area": null,
            "grid_auto_columns": null,
            "grid_auto_flow": null,
            "grid_auto_rows": null,
            "grid_column": null,
            "grid_gap": null,
            "grid_row": null,
            "grid_template_areas": null,
            "grid_template_columns": null,
            "grid_template_rows": null,
            "height": null,
            "justify_content": null,
            "justify_items": null,
            "left": null,
            "margin": null,
            "max_height": null,
            "max_width": null,
            "min_height": null,
            "min_width": null,
            "object_fit": null,
            "object_position": null,
            "order": null,
            "overflow": null,
            "overflow_x": null,
            "overflow_y": null,
            "padding": null,
            "right": null,
            "top": null,
            "visibility": null,
            "width": null
          }
        },
        "a37ebe0518fd483f9c550c8a9be0bfc9": {
          "model_module": "@jupyter-widgets/base",
          "model_name": "LayoutModel",
          "model_module_version": "1.2.0",
          "state": {
            "_model_module": "@jupyter-widgets/base",
            "_model_module_version": "1.2.0",
            "_model_name": "LayoutModel",
            "_view_count": null,
            "_view_module": "@jupyter-widgets/base",
            "_view_module_version": "1.2.0",
            "_view_name": "LayoutView",
            "align_content": null,
            "align_items": null,
            "align_self": null,
            "border": null,
            "bottom": null,
            "display": null,
            "flex": null,
            "flex_flow": null,
            "grid_area": null,
            "grid_auto_columns": null,
            "grid_auto_flow": null,
            "grid_auto_rows": null,
            "grid_column": null,
            "grid_gap": null,
            "grid_row": null,
            "grid_template_areas": null,
            "grid_template_columns": null,
            "grid_template_rows": null,
            "height": null,
            "justify_content": null,
            "justify_items": null,
            "left": null,
            "margin": null,
            "max_height": null,
            "max_width": null,
            "min_height": null,
            "min_width": null,
            "object_fit": null,
            "object_position": null,
            "order": null,
            "overflow": null,
            "overflow_x": null,
            "overflow_y": null,
            "padding": null,
            "right": null,
            "top": null,
            "visibility": null,
            "width": null
          }
        },
        "f5554c507cb14b8fba578459dd7f652c": {
          "model_module": "@jupyter-widgets/controls",
          "model_name": "DescriptionStyleModel",
          "model_module_version": "1.5.0",
          "state": {
            "_model_module": "@jupyter-widgets/controls",
            "_model_module_version": "1.5.0",
            "_model_name": "DescriptionStyleModel",
            "_view_count": null,
            "_view_module": "@jupyter-widgets/base",
            "_view_module_version": "1.2.0",
            "_view_name": "StyleView",
            "description_width": ""
          }
        },
        "10b82a2ea0484c2d851cb590223099fd": {
          "model_module": "@jupyter-widgets/base",
          "model_name": "LayoutModel",
          "model_module_version": "1.2.0",
          "state": {
            "_model_module": "@jupyter-widgets/base",
            "_model_module_version": "1.2.0",
            "_model_name": "LayoutModel",
            "_view_count": null,
            "_view_module": "@jupyter-widgets/base",
            "_view_module_version": "1.2.0",
            "_view_name": "LayoutView",
            "align_content": null,
            "align_items": null,
            "align_self": null,
            "border": null,
            "bottom": null,
            "display": null,
            "flex": null,
            "flex_flow": null,
            "grid_area": null,
            "grid_auto_columns": null,
            "grid_auto_flow": null,
            "grid_auto_rows": null,
            "grid_column": null,
            "grid_gap": null,
            "grid_row": null,
            "grid_template_areas": null,
            "grid_template_columns": null,
            "grid_template_rows": null,
            "height": null,
            "justify_content": null,
            "justify_items": null,
            "left": null,
            "margin": null,
            "max_height": null,
            "max_width": null,
            "min_height": null,
            "min_width": null,
            "object_fit": null,
            "object_position": null,
            "order": null,
            "overflow": null,
            "overflow_x": null,
            "overflow_y": null,
            "padding": null,
            "right": null,
            "top": null,
            "visibility": null,
            "width": null
          }
        },
        "d701396dc3524dab8d51d41e485685a5": {
          "model_module": "@jupyter-widgets/controls",
          "model_name": "ProgressStyleModel",
          "model_module_version": "1.5.0",
          "state": {
            "_model_module": "@jupyter-widgets/controls",
            "_model_module_version": "1.5.0",
            "_model_name": "ProgressStyleModel",
            "_view_count": null,
            "_view_module": "@jupyter-widgets/base",
            "_view_module_version": "1.2.0",
            "_view_name": "StyleView",
            "bar_color": null,
            "description_width": ""
          }
        },
        "8b30e0a7cbee4fee8c34c06b4d5757c5": {
          "model_module": "@jupyter-widgets/base",
          "model_name": "LayoutModel",
          "model_module_version": "1.2.0",
          "state": {
            "_model_module": "@jupyter-widgets/base",
            "_model_module_version": "1.2.0",
            "_model_name": "LayoutModel",
            "_view_count": null,
            "_view_module": "@jupyter-widgets/base",
            "_view_module_version": "1.2.0",
            "_view_name": "LayoutView",
            "align_content": null,
            "align_items": null,
            "align_self": null,
            "border": null,
            "bottom": null,
            "display": null,
            "flex": null,
            "flex_flow": null,
            "grid_area": null,
            "grid_auto_columns": null,
            "grid_auto_flow": null,
            "grid_auto_rows": null,
            "grid_column": null,
            "grid_gap": null,
            "grid_row": null,
            "grid_template_areas": null,
            "grid_template_columns": null,
            "grid_template_rows": null,
            "height": null,
            "justify_content": null,
            "justify_items": null,
            "left": null,
            "margin": null,
            "max_height": null,
            "max_width": null,
            "min_height": null,
            "min_width": null,
            "object_fit": null,
            "object_position": null,
            "order": null,
            "overflow": null,
            "overflow_x": null,
            "overflow_y": null,
            "padding": null,
            "right": null,
            "top": null,
            "visibility": null,
            "width": null
          }
        },
        "7ece043062db40cda0a8fcec498b1d63": {
          "model_module": "@jupyter-widgets/controls",
          "model_name": "DescriptionStyleModel",
          "model_module_version": "1.5.0",
          "state": {
            "_model_module": "@jupyter-widgets/controls",
            "_model_module_version": "1.5.0",
            "_model_name": "DescriptionStyleModel",
            "_view_count": null,
            "_view_module": "@jupyter-widgets/base",
            "_view_module_version": "1.2.0",
            "_view_name": "StyleView",
            "description_width": ""
          }
        },
        "058699b9b9754c3e9cffcc40155bda70": {
          "model_module": "@jupyter-widgets/controls",
          "model_name": "HBoxModel",
          "model_module_version": "1.5.0",
          "state": {
            "_dom_classes": [],
            "_model_module": "@jupyter-widgets/controls",
            "_model_module_version": "1.5.0",
            "_model_name": "HBoxModel",
            "_view_count": null,
            "_view_module": "@jupyter-widgets/controls",
            "_view_module_version": "1.5.0",
            "_view_name": "HBoxView",
            "box_style": "",
            "children": [
              "IPY_MODEL_7615fdcb9f8f46d0a4b168b071b33af6",
              "IPY_MODEL_d7baa46ecc3e4df883b9863e247ee9d9",
              "IPY_MODEL_f23c49eec74240faa1d6e52af0a4fd2e"
            ],
            "layout": "IPY_MODEL_6c856c144e444c49a87533751496d77c"
          }
        },
        "7615fdcb9f8f46d0a4b168b071b33af6": {
          "model_module": "@jupyter-widgets/controls",
          "model_name": "HTMLModel",
          "model_module_version": "1.5.0",
          "state": {
            "_dom_classes": [],
            "_model_module": "@jupyter-widgets/controls",
            "_model_module_version": "1.5.0",
            "_model_name": "HTMLModel",
            "_view_count": null,
            "_view_module": "@jupyter-widgets/controls",
            "_view_module_version": "1.5.0",
            "_view_name": "HTMLView",
            "description": "",
            "description_tooltip": null,
            "layout": "IPY_MODEL_6d76849585ed49448be5649e0f0c1a12",
            "placeholder": "​",
            "style": "IPY_MODEL_3c0368fbc9264ab5834a3f1131cf38d9",
            "value": "modules.json: 100%"
          }
        },
        "d7baa46ecc3e4df883b9863e247ee9d9": {
          "model_module": "@jupyter-widgets/controls",
          "model_name": "FloatProgressModel",
          "model_module_version": "1.5.0",
          "state": {
            "_dom_classes": [],
            "_model_module": "@jupyter-widgets/controls",
            "_model_module_version": "1.5.0",
            "_model_name": "FloatProgressModel",
            "_view_count": null,
            "_view_module": "@jupyter-widgets/controls",
            "_view_module_version": "1.5.0",
            "_view_name": "ProgressView",
            "bar_style": "success",
            "description": "",
            "description_tooltip": null,
            "layout": "IPY_MODEL_c23726ef541940a0a878245b798bc905",
            "max": 349,
            "min": 0,
            "orientation": "horizontal",
            "style": "IPY_MODEL_f4ed138b986c465b86505c7619115519",
            "value": 349
          }
        },
        "f23c49eec74240faa1d6e52af0a4fd2e": {
          "model_module": "@jupyter-widgets/controls",
          "model_name": "HTMLModel",
          "model_module_version": "1.5.0",
          "state": {
            "_dom_classes": [],
            "_model_module": "@jupyter-widgets/controls",
            "_model_module_version": "1.5.0",
            "_model_name": "HTMLModel",
            "_view_count": null,
            "_view_module": "@jupyter-widgets/controls",
            "_view_module_version": "1.5.0",
            "_view_name": "HTMLView",
            "description": "",
            "description_tooltip": null,
            "layout": "IPY_MODEL_40ca64a66a8d4d35963c601df8fe6b11",
            "placeholder": "​",
            "style": "IPY_MODEL_ff88c5de4020406a948000933a0dd0e1",
            "value": " 349/349 [00:00&lt;00:00, 32.6kB/s]"
          }
        },
        "6c856c144e444c49a87533751496d77c": {
          "model_module": "@jupyter-widgets/base",
          "model_name": "LayoutModel",
          "model_module_version": "1.2.0",
          "state": {
            "_model_module": "@jupyter-widgets/base",
            "_model_module_version": "1.2.0",
            "_model_name": "LayoutModel",
            "_view_count": null,
            "_view_module": "@jupyter-widgets/base",
            "_view_module_version": "1.2.0",
            "_view_name": "LayoutView",
            "align_content": null,
            "align_items": null,
            "align_self": null,
            "border": null,
            "bottom": null,
            "display": null,
            "flex": null,
            "flex_flow": null,
            "grid_area": null,
            "grid_auto_columns": null,
            "grid_auto_flow": null,
            "grid_auto_rows": null,
            "grid_column": null,
            "grid_gap": null,
            "grid_row": null,
            "grid_template_areas": null,
            "grid_template_columns": null,
            "grid_template_rows": null,
            "height": null,
            "justify_content": null,
            "justify_items": null,
            "left": null,
            "margin": null,
            "max_height": null,
            "max_width": null,
            "min_height": null,
            "min_width": null,
            "object_fit": null,
            "object_position": null,
            "order": null,
            "overflow": null,
            "overflow_x": null,
            "overflow_y": null,
            "padding": null,
            "right": null,
            "top": null,
            "visibility": null,
            "width": null
          }
        },
        "6d76849585ed49448be5649e0f0c1a12": {
          "model_module": "@jupyter-widgets/base",
          "model_name": "LayoutModel",
          "model_module_version": "1.2.0",
          "state": {
            "_model_module": "@jupyter-widgets/base",
            "_model_module_version": "1.2.0",
            "_model_name": "LayoutModel",
            "_view_count": null,
            "_view_module": "@jupyter-widgets/base",
            "_view_module_version": "1.2.0",
            "_view_name": "LayoutView",
            "align_content": null,
            "align_items": null,
            "align_self": null,
            "border": null,
            "bottom": null,
            "display": null,
            "flex": null,
            "flex_flow": null,
            "grid_area": null,
            "grid_auto_columns": null,
            "grid_auto_flow": null,
            "grid_auto_rows": null,
            "grid_column": null,
            "grid_gap": null,
            "grid_row": null,
            "grid_template_areas": null,
            "grid_template_columns": null,
            "grid_template_rows": null,
            "height": null,
            "justify_content": null,
            "justify_items": null,
            "left": null,
            "margin": null,
            "max_height": null,
            "max_width": null,
            "min_height": null,
            "min_width": null,
            "object_fit": null,
            "object_position": null,
            "order": null,
            "overflow": null,
            "overflow_x": null,
            "overflow_y": null,
            "padding": null,
            "right": null,
            "top": null,
            "visibility": null,
            "width": null
          }
        },
        "3c0368fbc9264ab5834a3f1131cf38d9": {
          "model_module": "@jupyter-widgets/controls",
          "model_name": "DescriptionStyleModel",
          "model_module_version": "1.5.0",
          "state": {
            "_model_module": "@jupyter-widgets/controls",
            "_model_module_version": "1.5.0",
            "_model_name": "DescriptionStyleModel",
            "_view_count": null,
            "_view_module": "@jupyter-widgets/base",
            "_view_module_version": "1.2.0",
            "_view_name": "StyleView",
            "description_width": ""
          }
        },
        "c23726ef541940a0a878245b798bc905": {
          "model_module": "@jupyter-widgets/base",
          "model_name": "LayoutModel",
          "model_module_version": "1.2.0",
          "state": {
            "_model_module": "@jupyter-widgets/base",
            "_model_module_version": "1.2.0",
            "_model_name": "LayoutModel",
            "_view_count": null,
            "_view_module": "@jupyter-widgets/base",
            "_view_module_version": "1.2.0",
            "_view_name": "LayoutView",
            "align_content": null,
            "align_items": null,
            "align_self": null,
            "border": null,
            "bottom": null,
            "display": null,
            "flex": null,
            "flex_flow": null,
            "grid_area": null,
            "grid_auto_columns": null,
            "grid_auto_flow": null,
            "grid_auto_rows": null,
            "grid_column": null,
            "grid_gap": null,
            "grid_row": null,
            "grid_template_areas": null,
            "grid_template_columns": null,
            "grid_template_rows": null,
            "height": null,
            "justify_content": null,
            "justify_items": null,
            "left": null,
            "margin": null,
            "max_height": null,
            "max_width": null,
            "min_height": null,
            "min_width": null,
            "object_fit": null,
            "object_position": null,
            "order": null,
            "overflow": null,
            "overflow_x": null,
            "overflow_y": null,
            "padding": null,
            "right": null,
            "top": null,
            "visibility": null,
            "width": null
          }
        },
        "f4ed138b986c465b86505c7619115519": {
          "model_module": "@jupyter-widgets/controls",
          "model_name": "ProgressStyleModel",
          "model_module_version": "1.5.0",
          "state": {
            "_model_module": "@jupyter-widgets/controls",
            "_model_module_version": "1.5.0",
            "_model_name": "ProgressStyleModel",
            "_view_count": null,
            "_view_module": "@jupyter-widgets/base",
            "_view_module_version": "1.2.0",
            "_view_name": "StyleView",
            "bar_color": null,
            "description_width": ""
          }
        },
        "40ca64a66a8d4d35963c601df8fe6b11": {
          "model_module": "@jupyter-widgets/base",
          "model_name": "LayoutModel",
          "model_module_version": "1.2.0",
          "state": {
            "_model_module": "@jupyter-widgets/base",
            "_model_module_version": "1.2.0",
            "_model_name": "LayoutModel",
            "_view_count": null,
            "_view_module": "@jupyter-widgets/base",
            "_view_module_version": "1.2.0",
            "_view_name": "LayoutView",
            "align_content": null,
            "align_items": null,
            "align_self": null,
            "border": null,
            "bottom": null,
            "display": null,
            "flex": null,
            "flex_flow": null,
            "grid_area": null,
            "grid_auto_columns": null,
            "grid_auto_flow": null,
            "grid_auto_rows": null,
            "grid_column": null,
            "grid_gap": null,
            "grid_row": null,
            "grid_template_areas": null,
            "grid_template_columns": null,
            "grid_template_rows": null,
            "height": null,
            "justify_content": null,
            "justify_items": null,
            "left": null,
            "margin": null,
            "max_height": null,
            "max_width": null,
            "min_height": null,
            "min_width": null,
            "object_fit": null,
            "object_position": null,
            "order": null,
            "overflow": null,
            "overflow_x": null,
            "overflow_y": null,
            "padding": null,
            "right": null,
            "top": null,
            "visibility": null,
            "width": null
          }
        },
        "ff88c5de4020406a948000933a0dd0e1": {
          "model_module": "@jupyter-widgets/controls",
          "model_name": "DescriptionStyleModel",
          "model_module_version": "1.5.0",
          "state": {
            "_model_module": "@jupyter-widgets/controls",
            "_model_module_version": "1.5.0",
            "_model_name": "DescriptionStyleModel",
            "_view_count": null,
            "_view_module": "@jupyter-widgets/base",
            "_view_module_version": "1.2.0",
            "_view_name": "StyleView",
            "description_width": ""
          }
        }
      }
    }
  },
  "nbformat_minor": 0,
  "nbformat": 4,
  "cells": [
    {
      "cell_type": "markdown",
      "source": [
        "# Overview\n",
        "\n",
        "- Use [Langchain](https://python.langchain.com/en/latest/index.html) to <font color='orange'> build a chatbot that can answer questions about books or any pdf files.\n",
        "- **<font color='orange'>Flexible and customizable RAG pipeline (Retrieval Augmented Generation)</font>**\n",
        "- Experiment with various LLMs (Large Language Models)\n",
        "- Use [FAISS vector store](https://python.langchain.com/docs/integrations/vectorstores/faiss) to store text embeddings created with [Sentence Transformers](https://huggingface.co/sentence-transformers/all-MiniLM-L6-v2) from 🤗. FAISS runs on GPU and it is much faster than Chroma\n",
        "- Use [Retrieval chain](https://python.langchain.com/docs/modules/data_connection/retrievers/) to retrieve relevant passages from embedded text\n",
        "- Summarize retrieved passages\n",
        "- Leverage Kaggle dual GPU (2 * T4) with [Hugging Face Accelerate](https://huggingface.co/docs/accelerate/index)\n",
        "- Chat UI with [Gradio](https://www.gradio.app/guides/quickstart)\n",
        "\n",
        "**<font color='green'>No need to create any API key to use this notebook! Everything is open source.</font>**\n",
        "\n",
        "\n",
        "### Models\n",
        "\n",
        "- [TheBloke/wizardLM-7B-HF](https://huggingface.co/TheBloke/wizardLM-7B-HF)\n",
        "- [daryl149/llama-2-7b-chat-hf](https://huggingface.co/daryl149/llama-2-7b-chat-hf)\n",
        "- [daryl149/llama-2-13b-chat-hf](https://huggingface.co/daryl149/llama-2-13b-chat-hf)\n",
        "- [mistralai/Mistral-7B-Instruct-v0.2](https://huggingface.co/mistralai/Mistral-7B-Instruct-v0.2)"
      ],
      "metadata": {
        "id": "RhqJ2Sh5XPnz"
      }
    },
    {
      "cell_type": "code",
      "source": [
        "! nvidia-smi -L"
      ],
      "metadata": {
        "execution": {
          "iopub.status.busy": "2024-06-12T16:14:40.276203Z",
          "iopub.execute_input": "2024-06-12T16:14:40.276476Z",
          "iopub.status.idle": "2024-06-12T16:14:41.248224Z",
          "shell.execute_reply.started": "2024-06-12T16:14:40.276451Z",
          "shell.execute_reply": "2024-06-12T16:14:41.247111Z"
        },
        "trusted": true,
        "id": "oWOJRWXwXPn1",
        "outputId": "0023aeab-1c5a-414f-cd3d-af7dd3d5aa4f",
        "colab": {
          "base_uri": "https://localhost:8080/"
        }
      },
      "execution_count": null,
      "outputs": [
        {
          "output_type": "stream",
          "name": "stdout",
          "text": [
            "GPU 0: NVIDIA L4 (UUID: GPU-7dc4bdbf-a8b9-57a5-1d20-e0e81a474c74)\n"
          ]
        }
      ]
    },
    {
      "cell_type": "markdown",
      "source": [
        "# Installs"
      ],
      "metadata": {
        "id": "YOcBAneaXPn2"
      }
    },
    {
      "cell_type": "code",
      "source": [
        "#The NVIDIA System Management Interface (nvidia-smi) is a command line utility, based on top of the NVIDIA Management Library (NVML), intended to aid in the management and monitoring of NVIDIA GPU devices.\n",
        "#Sentence Transformers (a.k.a. SBERT) is the go-to Python module for accessing, using, and training state-of-the-art text and image embedding models.\n",
        "#LangChain is a framework for developing applications powered by large language models (LLMs).\n",
        "#tiktoken is a fast open-source tokenizer by OpenAI.\n",
        "#pypdf. pypdf is a free and open-source pure-python PDF library capable of splitting, merging, cropping, and transforming the pages of PDF files.\n",
        "#Faiss is a library for efficient similarity search and clustering of dense vectors. It contains algorithms that search in sets of vectors of any size.\n",
        "#Instructor-embedding: an instruction-finetuned text embedding model that can generate text embeddings tailored to any task (e.g., classification, retrieval, clustering, text evaluation, etc.) and domains (e.g., science, finance, etc.) by simply providing the task instruction, without any finetuning.\n",
        "#A Transformer is a type of deep learning architecture that uses an attention mechanism to process text sequences.\n",
        "#Accelerate was created for PyTorch users who like to write the training loop of PyTorch models but are reluctant to write and maintain the boilerplate code needed to use multi-GPUs/TPU/fp16.\n",
        "#Bitsandbytes is a lightweight wrapper around CUDA custom functions, in particular 8-bit optimizers and quantization functions.\n",
        "#LangChain Community contains third-party integrations that implement the base interfaces defined in LangChain Core, making them ready-to-use in any LangChain application."
      ],
      "metadata": {
        "execution": {
          "iopub.status.busy": "2024-06-12T16:15:05.399672Z",
          "iopub.execute_input": "2024-06-12T16:15:05.400280Z",
          "iopub.status.idle": "2024-06-12T16:15:05.405478Z",
          "shell.execute_reply.started": "2024-06-12T16:15:05.400241Z",
          "shell.execute_reply": "2024-06-12T16:15:05.404438Z"
        },
        "trusted": true,
        "id": "iz4SMzuFXPn2"
      },
      "execution_count": null,
      "outputs": []
    },
    {
      "cell_type": "code",
      "source": [
        "\n",
        "# Clear the output to keep the notebook clean\n",
        "from IPython.display import clear_output\n",
        "clear_output()\n"
      ],
      "metadata": {
        "execution": {
          "iopub.status.busy": "2024-06-12T16:15:31.923298Z",
          "iopub.execute_input": "2024-06-12T16:15:31.923707Z",
          "iopub.status.idle": "2024-06-12T16:15:31.929452Z",
          "shell.execute_reply.started": "2024-06-12T16:15:31.923672Z",
          "shell.execute_reply": "2024-06-12T16:15:31.928532Z"
        },
        "trusted": true,
        "id": "byLdnazjXPn3"
      },
      "execution_count": null,
      "outputs": []
    },
    {
      "cell_type": "code",
      "source": [
        "\n",
        "# Install the desired version of sentence_transformers within the virtual environment\n",
        "!pip install sentence_transformers==2.2.2\n"
      ],
      "metadata": {
        "execution": {
          "iopub.status.busy": "2024-06-12T16:15:08.066288Z",
          "iopub.execute_input": "2024-06-12T16:15:08.067108Z",
          "iopub.status.idle": "2024-06-12T16:15:24.046901Z",
          "shell.execute_reply.started": "2024-06-12T16:15:08.067075Z",
          "shell.execute_reply": "2024-06-12T16:15:24.045962Z"
        },
        "trusted": true,
        "id": "PdgW2ycPXPn2",
        "outputId": "4a1971e9-5b11-4a4b-956c-d69b74d54dc9",
        "colab": {
          "base_uri": "https://localhost:8080/"
        }
      },
      "execution_count": null,
      "outputs": [
        {
          "output_type": "stream",
          "name": "stdout",
          "text": [
            "Collecting sentence_transformers==2.2.2\n",
            "  Using cached sentence-transformers-2.2.2.tar.gz (85 kB)\n",
            "  Preparing metadata (setup.py) ... \u001b[?25l\u001b[?25hdone\n",
            "Requirement already satisfied: transformers<5.0.0,>=4.6.0 in /usr/local/lib/python3.10/dist-packages (from sentence_transformers==2.2.2) (4.41.2)\n",
            "Requirement already satisfied: tqdm in /usr/local/lib/python3.10/dist-packages (from sentence_transformers==2.2.2) (4.66.4)\n",
            "Requirement already satisfied: torch>=1.6.0 in /usr/local/lib/python3.10/dist-packages (from sentence_transformers==2.2.2) (2.3.0+cu121)\n",
            "Requirement already satisfied: torchvision in /usr/local/lib/python3.10/dist-packages (from sentence_transformers==2.2.2) (0.18.0+cu121)\n",
            "Requirement already satisfied: numpy in /usr/local/lib/python3.10/dist-packages (from sentence_transformers==2.2.2) (1.25.2)\n",
            "Requirement already satisfied: scikit-learn in /usr/local/lib/python3.10/dist-packages (from sentence_transformers==2.2.2) (1.2.2)\n",
            "Requirement already satisfied: scipy in /usr/local/lib/python3.10/dist-packages (from sentence_transformers==2.2.2) (1.11.4)\n",
            "Requirement already satisfied: nltk in /usr/local/lib/python3.10/dist-packages (from sentence_transformers==2.2.2) (3.8.1)\n",
            "Requirement already satisfied: sentencepiece in /usr/local/lib/python3.10/dist-packages (from sentence_transformers==2.2.2) (0.1.99)\n",
            "Requirement already satisfied: huggingface-hub>=0.4.0 in /usr/local/lib/python3.10/dist-packages (from sentence_transformers==2.2.2) (0.23.4)\n",
            "Requirement already satisfied: filelock in /usr/local/lib/python3.10/dist-packages (from huggingface-hub>=0.4.0->sentence_transformers==2.2.2) (3.15.1)\n",
            "Requirement already satisfied: fsspec>=2023.5.0 in /usr/local/lib/python3.10/dist-packages (from huggingface-hub>=0.4.0->sentence_transformers==2.2.2) (2023.6.0)\n",
            "Requirement already satisfied: packaging>=20.9 in /usr/local/lib/python3.10/dist-packages (from huggingface-hub>=0.4.0->sentence_transformers==2.2.2) (24.1)\n",
            "Requirement already satisfied: pyyaml>=5.1 in /usr/local/lib/python3.10/dist-packages (from huggingface-hub>=0.4.0->sentence_transformers==2.2.2) (6.0.1)\n",
            "Requirement already satisfied: requests in /usr/local/lib/python3.10/dist-packages (from huggingface-hub>=0.4.0->sentence_transformers==2.2.2) (2.31.0)\n",
            "Requirement already satisfied: typing-extensions>=3.7.4.3 in /usr/local/lib/python3.10/dist-packages (from huggingface-hub>=0.4.0->sentence_transformers==2.2.2) (4.12.2)\n",
            "Requirement already satisfied: sympy in /usr/local/lib/python3.10/dist-packages (from torch>=1.6.0->sentence_transformers==2.2.2) (1.12.1)\n",
            "Requirement already satisfied: networkx in /usr/local/lib/python3.10/dist-packages (from torch>=1.6.0->sentence_transformers==2.2.2) (3.3)\n",
            "Requirement already satisfied: jinja2 in /usr/local/lib/python3.10/dist-packages (from torch>=1.6.0->sentence_transformers==2.2.2) (3.1.4)\n",
            "Collecting nvidia-cuda-nvrtc-cu12==12.1.105 (from torch>=1.6.0->sentence_transformers==2.2.2)\n",
            "  Using cached nvidia_cuda_nvrtc_cu12-12.1.105-py3-none-manylinux1_x86_64.whl (23.7 MB)\n",
            "Collecting nvidia-cuda-runtime-cu12==12.1.105 (from torch>=1.6.0->sentence_transformers==2.2.2)\n",
            "  Using cached nvidia_cuda_runtime_cu12-12.1.105-py3-none-manylinux1_x86_64.whl (823 kB)\n",
            "Collecting nvidia-cuda-cupti-cu12==12.1.105 (from torch>=1.6.0->sentence_transformers==2.2.2)\n",
            "  Using cached nvidia_cuda_cupti_cu12-12.1.105-py3-none-manylinux1_x86_64.whl (14.1 MB)\n",
            "Collecting nvidia-cudnn-cu12==8.9.2.26 (from torch>=1.6.0->sentence_transformers==2.2.2)\n",
            "  Using cached nvidia_cudnn_cu12-8.9.2.26-py3-none-manylinux1_x86_64.whl (731.7 MB)\n",
            "Collecting nvidia-cublas-cu12==12.1.3.1 (from torch>=1.6.0->sentence_transformers==2.2.2)\n",
            "  Using cached nvidia_cublas_cu12-12.1.3.1-py3-none-manylinux1_x86_64.whl (410.6 MB)\n",
            "Collecting nvidia-cufft-cu12==11.0.2.54 (from torch>=1.6.0->sentence_transformers==2.2.2)\n",
            "  Using cached nvidia_cufft_cu12-11.0.2.54-py3-none-manylinux1_x86_64.whl (121.6 MB)\n",
            "Collecting nvidia-curand-cu12==10.3.2.106 (from torch>=1.6.0->sentence_transformers==2.2.2)\n",
            "  Using cached nvidia_curand_cu12-10.3.2.106-py3-none-manylinux1_x86_64.whl (56.5 MB)\n",
            "Collecting nvidia-cusolver-cu12==11.4.5.107 (from torch>=1.6.0->sentence_transformers==2.2.2)\n",
            "  Using cached nvidia_cusolver_cu12-11.4.5.107-py3-none-manylinux1_x86_64.whl (124.2 MB)\n",
            "Collecting nvidia-cusparse-cu12==12.1.0.106 (from torch>=1.6.0->sentence_transformers==2.2.2)\n",
            "  Using cached nvidia_cusparse_cu12-12.1.0.106-py3-none-manylinux1_x86_64.whl (196.0 MB)\n",
            "Collecting nvidia-nccl-cu12==2.20.5 (from torch>=1.6.0->sentence_transformers==2.2.2)\n",
            "  Using cached nvidia_nccl_cu12-2.20.5-py3-none-manylinux2014_x86_64.whl (176.2 MB)\n",
            "Collecting nvidia-nvtx-cu12==12.1.105 (from torch>=1.6.0->sentence_transformers==2.2.2)\n",
            "  Using cached nvidia_nvtx_cu12-12.1.105-py3-none-manylinux1_x86_64.whl (99 kB)\n",
            "Requirement already satisfied: triton==2.3.0 in /usr/local/lib/python3.10/dist-packages (from torch>=1.6.0->sentence_transformers==2.2.2) (2.3.0)\n",
            "Collecting nvidia-nvjitlink-cu12 (from nvidia-cusolver-cu12==11.4.5.107->torch>=1.6.0->sentence_transformers==2.2.2)\n",
            "  Downloading nvidia_nvjitlink_cu12-12.5.40-py3-none-manylinux2014_x86_64.whl (21.3 MB)\n",
            "\u001b[2K     \u001b[90m━━━━━━━━━━━━━━━━━━━━━━━━━━━━━━━━━━━━━━━━\u001b[0m \u001b[32m21.3/21.3 MB\u001b[0m \u001b[31m69.1 MB/s\u001b[0m eta \u001b[36m0:00:00\u001b[0m\n",
            "\u001b[?25hRequirement already satisfied: regex!=2019.12.17 in /usr/local/lib/python3.10/dist-packages (from transformers<5.0.0,>=4.6.0->sentence_transformers==2.2.2) (2024.5.15)\n",
            "Requirement already satisfied: tokenizers<0.20,>=0.19 in /usr/local/lib/python3.10/dist-packages (from transformers<5.0.0,>=4.6.0->sentence_transformers==2.2.2) (0.19.1)\n",
            "Requirement already satisfied: safetensors>=0.4.1 in /usr/local/lib/python3.10/dist-packages (from transformers<5.0.0,>=4.6.0->sentence_transformers==2.2.2) (0.4.3)\n",
            "Requirement already satisfied: click in /usr/local/lib/python3.10/dist-packages (from nltk->sentence_transformers==2.2.2) (8.1.7)\n",
            "Requirement already satisfied: joblib in /usr/local/lib/python3.10/dist-packages (from nltk->sentence_transformers==2.2.2) (1.4.2)\n",
            "Requirement already satisfied: threadpoolctl>=2.0.0 in /usr/local/lib/python3.10/dist-packages (from scikit-learn->sentence_transformers==2.2.2) (3.5.0)\n",
            "Requirement already satisfied: pillow!=8.3.*,>=5.3.0 in /usr/local/lib/python3.10/dist-packages (from torchvision->sentence_transformers==2.2.2) (9.4.0)\n",
            "Requirement already satisfied: MarkupSafe>=2.0 in /usr/local/lib/python3.10/dist-packages (from jinja2->torch>=1.6.0->sentence_transformers==2.2.2) (2.1.5)\n",
            "Requirement already satisfied: charset-normalizer<4,>=2 in /usr/local/lib/python3.10/dist-packages (from requests->huggingface-hub>=0.4.0->sentence_transformers==2.2.2) (3.3.2)\n",
            "Requirement already satisfied: idna<4,>=2.5 in /usr/local/lib/python3.10/dist-packages (from requests->huggingface-hub>=0.4.0->sentence_transformers==2.2.2) (3.7)\n",
            "Requirement already satisfied: urllib3<3,>=1.21.1 in /usr/local/lib/python3.10/dist-packages (from requests->huggingface-hub>=0.4.0->sentence_transformers==2.2.2) (2.0.7)\n",
            "Requirement already satisfied: certifi>=2017.4.17 in /usr/local/lib/python3.10/dist-packages (from requests->huggingface-hub>=0.4.0->sentence_transformers==2.2.2) (2024.6.2)\n",
            "Requirement already satisfied: mpmath<1.4.0,>=1.1.0 in /usr/local/lib/python3.10/dist-packages (from sympy->torch>=1.6.0->sentence_transformers==2.2.2) (1.3.0)\n",
            "Building wheels for collected packages: sentence_transformers\n",
            "  Building wheel for sentence_transformers (setup.py) ... \u001b[?25l\u001b[?25hdone\n",
            "  Created wheel for sentence_transformers: filename=sentence_transformers-2.2.2-py3-none-any.whl size=125924 sha256=a04cfa943a96e52844f7af70bc2addd7231181191a777354a8daed67f27e7d59\n",
            "  Stored in directory: /root/.cache/pip/wheels/62/f2/10/1e606fd5f02395388f74e7462910fe851042f97238cbbd902f\n",
            "Successfully built sentence_transformers\n",
            "Installing collected packages: nvidia-nvtx-cu12, nvidia-nvjitlink-cu12, nvidia-nccl-cu12, nvidia-curand-cu12, nvidia-cufft-cu12, nvidia-cuda-runtime-cu12, nvidia-cuda-nvrtc-cu12, nvidia-cuda-cupti-cu12, nvidia-cublas-cu12, nvidia-cusparse-cu12, nvidia-cudnn-cu12, nvidia-cusolver-cu12, sentence_transformers\n",
            "Successfully installed nvidia-cublas-cu12-12.1.3.1 nvidia-cuda-cupti-cu12-12.1.105 nvidia-cuda-nvrtc-cu12-12.1.105 nvidia-cuda-runtime-cu12-12.1.105 nvidia-cudnn-cu12-8.9.2.26 nvidia-cufft-cu12-11.0.2.54 nvidia-curand-cu12-10.3.2.106 nvidia-cusolver-cu12-11.4.5.107 nvidia-cusparse-cu12-12.1.0.106 nvidia-nccl-cu12-2.20.5 nvidia-nvjitlink-cu12-12.5.40 nvidia-nvtx-cu12-12.1.105 sentence_transformers-2.2.2\n"
          ]
        }
      ]
    },
    {
      "cell_type": "code",
      "source": [
        "! pip install -qq -U langchain"
      ],
      "metadata": {
        "execution": {
          "iopub.status.busy": "2024-06-12T16:16:04.862907Z",
          "iopub.execute_input": "2024-06-12T16:16:04.863783Z",
          "iopub.status.idle": "2024-06-12T16:16:17.422919Z",
          "shell.execute_reply.started": "2024-06-12T16:16:04.863747Z",
          "shell.execute_reply": "2024-06-12T16:16:17.421442Z"
        },
        "trusted": true,
        "id": "r9sURY_gXPn3",
        "colab": {
          "base_uri": "https://localhost:8080/"
        },
        "outputId": "0ba6f472-89e6-446c-e974-e1242823c719"
      },
      "execution_count": null,
      "outputs": [
        {
          "output_type": "stream",
          "name": "stdout",
          "text": [
            "\u001b[2K     \u001b[90m━━━━━━━━━━━━━━━━━━━━━━━━━━━━━━━━━━━━━━━━\u001b[0m \u001b[32m974.6/974.6 kB\u001b[0m \u001b[31m18.9 MB/s\u001b[0m eta \u001b[36m0:00:00\u001b[0m\n",
            "\u001b[2K     \u001b[90m━━━━━━━━━━━━━━━━━━━━━━━━━━━━━━━━━━━━━━━━\u001b[0m \u001b[32m321.8/321.8 kB\u001b[0m \u001b[31m35.5 MB/s\u001b[0m eta \u001b[36m0:00:00\u001b[0m\n",
            "\u001b[2K     \u001b[90m━━━━━━━━━━━━━━━━━━━━━━━━━━━━━━━━━━━━━━━━\u001b[0m \u001b[32m127.1/127.1 kB\u001b[0m \u001b[31m19.6 MB/s\u001b[0m eta \u001b[36m0:00:00\u001b[0m\n",
            "\u001b[2K     \u001b[90m━━━━━━━━━━━━━━━━━━━━━━━━━━━━━━━━━━━━━━━━\u001b[0m \u001b[32m145.0/145.0 kB\u001b[0m \u001b[31m20.8 MB/s\u001b[0m eta \u001b[36m0:00:00\u001b[0m\n",
            "\u001b[?25h"
          ]
        }
      ]
    },
    {
      "cell_type": "code",
      "source": [
        "! pip install -qq -U tiktoken"
      ],
      "metadata": {
        "execution": {
          "iopub.status.busy": "2024-06-12T16:16:21.337035Z",
          "iopub.execute_input": "2024-06-12T16:16:21.337722Z",
          "iopub.status.idle": "2024-06-12T16:16:33.812602Z",
          "shell.execute_reply.started": "2024-06-12T16:16:21.337686Z",
          "shell.execute_reply": "2024-06-12T16:16:33.811389Z"
        },
        "trusted": true,
        "id": "WhRgEIpLXPn3",
        "colab": {
          "base_uri": "https://localhost:8080/"
        },
        "outputId": "bf66cfc4-2efe-4c06-c78b-3d7fd30201f4"
      },
      "execution_count": null,
      "outputs": [
        {
          "output_type": "stream",
          "name": "stdout",
          "text": [
            "\u001b[?25l     \u001b[90m━━━━━━━━━━━━━━━━━━━━━━━━━━━━━━━━━━━━━━━━\u001b[0m \u001b[32m0.0/1.1 MB\u001b[0m \u001b[31m?\u001b[0m eta \u001b[36m-:--:--\u001b[0m\r\u001b[2K     \u001b[91m━━━━━━━━━━━━━━━━━━━━━━\u001b[0m\u001b[90m╺\u001b[0m\u001b[90m━━━━━━━━━━━━━━━━━\u001b[0m \u001b[32m0.6/1.1 MB\u001b[0m \u001b[31m17.9 MB/s\u001b[0m eta \u001b[36m0:00:01\u001b[0m\r\u001b[2K     \u001b[90m━━━━━━━━━━━━━━━━━━━━━━━━━━━━━━━━━━━━━━━━\u001b[0m \u001b[32m1.1/1.1 MB\u001b[0m \u001b[31m21.5 MB/s\u001b[0m eta \u001b[36m0:00:00\u001b[0m\n",
            "\u001b[?25h"
          ]
        }
      ]
    },
    {
      "cell_type": "code",
      "source": [
        "! pip install -qq -U pypdf"
      ],
      "metadata": {
        "execution": {
          "iopub.status.busy": "2024-06-12T16:16:38.519049Z",
          "iopub.execute_input": "2024-06-12T16:16:38.519416Z",
          "iopub.status.idle": "2024-06-12T16:16:50.707221Z",
          "shell.execute_reply.started": "2024-06-12T16:16:38.519383Z",
          "shell.execute_reply": "2024-06-12T16:16:50.705948Z"
        },
        "trusted": true,
        "id": "tCI7niO3XPn3",
        "colab": {
          "base_uri": "https://localhost:8080/"
        },
        "outputId": "12f21081-ee33-4cb6-97f7-d99f7bfb7a4e"
      },
      "execution_count": null,
      "outputs": [
        {
          "output_type": "stream",
          "name": "stdout",
          "text": [
            "\u001b[?25l     \u001b[90m━━━━━━━━━━━━━━━━━━━━━━━━━━━━━━━━━━━━━━━━\u001b[0m \u001b[32m0.0/290.4 kB\u001b[0m \u001b[31m?\u001b[0m eta \u001b[36m-:--:--\u001b[0m\r\u001b[2K     \u001b[91m━━━━━━━━━━━━━━━━━━━━━━━━━━━━━━━━━━━━━━━\u001b[0m\u001b[90m╺\u001b[0m \u001b[32m286.7/290.4 kB\u001b[0m \u001b[31m11.6 MB/s\u001b[0m eta \u001b[36m0:00:01\u001b[0m\r\u001b[2K     \u001b[90m━━━━━━━━━━━━━━━━━━━━━━━━━━━━━━━━━━━━━━━━\u001b[0m \u001b[32m290.4/290.4 kB\u001b[0m \u001b[31m8.8 MB/s\u001b[0m eta \u001b[36m0:00:00\u001b[0m\n",
            "\u001b[?25h"
          ]
        }
      ]
    },
    {
      "cell_type": "code",
      "source": [
        "! pip install -qq -U faiss-gpu"
      ],
      "metadata": {
        "execution": {
          "iopub.status.busy": "2024-06-12T16:16:53.203439Z",
          "iopub.execute_input": "2024-06-12T16:16:53.204228Z",
          "iopub.status.idle": "2024-06-12T16:17:08.026848Z",
          "shell.execute_reply.started": "2024-06-12T16:16:53.204194Z",
          "shell.execute_reply": "2024-06-12T16:17:08.025670Z"
        },
        "trusted": true,
        "id": "f4f1qDrRXPn3",
        "colab": {
          "base_uri": "https://localhost:8080/"
        },
        "outputId": "77884e01-4753-4941-f28c-69269f175d16"
      },
      "execution_count": null,
      "outputs": [
        {
          "output_type": "stream",
          "name": "stdout",
          "text": [
            "\u001b[2K     \u001b[90m━━━━━━━━━━━━━━━━━━━━━━━━━━━━━━━━━━━━━━━━\u001b[0m \u001b[32m85.5/85.5 MB\u001b[0m \u001b[31m19.9 MB/s\u001b[0m eta \u001b[36m0:00:00\u001b[0m\n",
            "\u001b[?25h"
          ]
        }
      ]
    },
    {
      "cell_type": "code",
      "source": [
        "! pip install -qq -U InstructorEmbedding"
      ],
      "metadata": {
        "execution": {
          "iopub.status.busy": "2024-06-12T16:17:10.729875Z",
          "iopub.execute_input": "2024-06-12T16:17:10.730236Z",
          "iopub.status.idle": "2024-06-12T16:17:23.013261Z",
          "shell.execute_reply.started": "2024-06-12T16:17:10.730204Z",
          "shell.execute_reply": "2024-06-12T16:17:23.012149Z"
        },
        "trusted": true,
        "id": "PCnOfMG2XPn3"
      },
      "execution_count": null,
      "outputs": []
    },
    {
      "cell_type": "code",
      "source": [
        "! pip install -qq -U transformers"
      ],
      "metadata": {
        "execution": {
          "iopub.status.busy": "2024-06-12T16:17:26.097566Z",
          "iopub.execute_input": "2024-06-12T16:17:26.098260Z",
          "iopub.status.idle": "2024-06-12T16:17:38.404839Z",
          "shell.execute_reply.started": "2024-06-12T16:17:26.098225Z",
          "shell.execute_reply": "2024-06-12T16:17:38.403635Z"
        },
        "trusted": true,
        "id": "jqjCeTeBXPn4"
      },
      "execution_count": null,
      "outputs": []
    },
    {
      "cell_type": "code",
      "source": [
        "! pip install -qq -U accelerate"
      ],
      "metadata": {
        "execution": {
          "iopub.status.busy": "2024-06-12T16:17:42.536094Z",
          "iopub.execute_input": "2024-06-12T16:17:42.536873Z",
          "iopub.status.idle": "2024-06-12T16:17:55.442020Z",
          "shell.execute_reply.started": "2024-06-12T16:17:42.536838Z",
          "shell.execute_reply": "2024-06-12T16:17:55.440994Z"
        },
        "trusted": true,
        "id": "Ah62l3XcXPn4",
        "colab": {
          "base_uri": "https://localhost:8080/"
        },
        "outputId": "56703e94-0997-4d18-b164-17f1a9358cfa"
      },
      "execution_count": null,
      "outputs": [
        {
          "output_type": "stream",
          "name": "stdout",
          "text": [
            "\u001b[?25l     \u001b[90m━━━━━━━━━━━━━━━━━━━━━━━━━━━━━━━━━━━━━━━━\u001b[0m \u001b[32m0.0/309.4 kB\u001b[0m \u001b[31m?\u001b[0m eta \u001b[36m-:--:--\u001b[0m\r\u001b[2K     \u001b[91m━━━━━━━━━━━━━━━━━━━━━━\u001b[0m\u001b[91m╸\u001b[0m\u001b[90m━━━━━━━━━━━━━━━━━\u001b[0m \u001b[32m174.1/309.4 kB\u001b[0m \u001b[31m5.8 MB/s\u001b[0m eta \u001b[36m0:00:01\u001b[0m\r\u001b[2K     \u001b[90m━━━━━━━━━━━━━━━━━━━━━━━━━━━━━━━━━━━━━━━━\u001b[0m \u001b[32m309.4/309.4 kB\u001b[0m \u001b[31m7.3 MB/s\u001b[0m eta \u001b[36m0:00:00\u001b[0m\n",
            "\u001b[?25h"
          ]
        }
      ]
    },
    {
      "cell_type": "code",
      "source": [
        "! pip install -qq -U bitsandbytes"
      ],
      "metadata": {
        "execution": {
          "iopub.status.busy": "2024-06-12T16:17:57.604194Z",
          "iopub.execute_input": "2024-06-12T16:17:57.604556Z",
          "iopub.status.idle": "2024-06-12T16:18:13.671038Z",
          "shell.execute_reply.started": "2024-06-12T16:17:57.604523Z",
          "shell.execute_reply": "2024-06-12T16:18:13.669852Z"
        },
        "trusted": true,
        "id": "R4nszDtgXPn4",
        "colab": {
          "base_uri": "https://localhost:8080/"
        },
        "outputId": "5601b9dd-d956-4edc-91af-ea34adf41d2e"
      },
      "execution_count": null,
      "outputs": [
        {
          "output_type": "stream",
          "name": "stdout",
          "text": [
            "\u001b[2K     \u001b[90m━━━━━━━━━━━━━━━━━━━━━━━━━━━━━━━━━━━━━━━━\u001b[0m \u001b[32m119.8/119.8 MB\u001b[0m \u001b[31m13.8 MB/s\u001b[0m eta \u001b[36m0:00:00\u001b[0m\n",
            "\u001b[?25h"
          ]
        }
      ]
    },
    {
      "cell_type": "code",
      "source": [
        "!pip install -U langchain-community"
      ],
      "metadata": {
        "execution": {
          "iopub.status.busy": "2024-06-12T16:18:20.477642Z",
          "iopub.execute_input": "2024-06-12T16:18:20.478274Z",
          "iopub.status.idle": "2024-06-12T16:18:34.755361Z",
          "shell.execute_reply.started": "2024-06-12T16:18:20.478240Z",
          "shell.execute_reply": "2024-06-12T16:18:34.754430Z"
        },
        "trusted": true,
        "id": "NrBABCiiXPn4",
        "outputId": "d3f14887-e764-43a2-a797-738372881ec9",
        "colab": {
          "base_uri": "https://localhost:8080/"
        }
      },
      "execution_count": null,
      "outputs": [
        {
          "output_type": "stream",
          "name": "stdout",
          "text": [
            "Collecting langchain-community\n",
            "  Downloading langchain_community-0.2.5-py3-none-any.whl (2.2 MB)\n",
            "\u001b[?25l     \u001b[90m━━━━━━━━━━━━━━━━━━━━━━━━━━━━━━━━━━━━━━━━\u001b[0m \u001b[32m0.0/2.2 MB\u001b[0m \u001b[31m?\u001b[0m eta \u001b[36m-:--:--\u001b[0m\r\u001b[2K     \u001b[91m━━━━━━\u001b[0m\u001b[91m╸\u001b[0m\u001b[90m━━━━━━━━━━━━━━━━━━━━━━━━━━━━━━━━━\u001b[0m \u001b[32m0.4/2.2 MB\u001b[0m \u001b[31m10.6 MB/s\u001b[0m eta \u001b[36m0:00:01\u001b[0m\r\u001b[2K     \u001b[91m━━━━━━━━━━━━━━━━━━━━━━━━━━━━━\u001b[0m\u001b[90m╺\u001b[0m\u001b[90m━━━━━━━━━━\u001b[0m \u001b[32m1.6/2.2 MB\u001b[0m \u001b[31m23.7 MB/s\u001b[0m eta \u001b[36m0:00:01\u001b[0m\r\u001b[2K     \u001b[90m━━━━━━━━━━━━━━━━━━━━━━━━━━━━━━━━━━━━━━━━\u001b[0m \u001b[32m2.2/2.2 MB\u001b[0m \u001b[31m22.7 MB/s\u001b[0m eta \u001b[36m0:00:00\u001b[0m\n",
            "\u001b[?25hRequirement already satisfied: PyYAML>=5.3 in /usr/local/lib/python3.10/dist-packages (from langchain-community) (6.0.1)\n",
            "Requirement already satisfied: SQLAlchemy<3,>=1.4 in /usr/local/lib/python3.10/dist-packages (from langchain-community) (2.0.30)\n",
            "Requirement already satisfied: aiohttp<4.0.0,>=3.8.3 in /usr/local/lib/python3.10/dist-packages (from langchain-community) (3.9.5)\n",
            "Collecting dataclasses-json<0.7,>=0.5.7 (from langchain-community)\n",
            "  Downloading dataclasses_json-0.6.7-py3-none-any.whl (28 kB)\n",
            "Requirement already satisfied: langchain<0.3.0,>=0.2.5 in /usr/local/lib/python3.10/dist-packages (from langchain-community) (0.2.5)\n",
            "Requirement already satisfied: langchain-core<0.3.0,>=0.2.7 in /usr/local/lib/python3.10/dist-packages (from langchain-community) (0.2.9)\n",
            "Requirement already satisfied: langsmith<0.2.0,>=0.1.0 in /usr/local/lib/python3.10/dist-packages (from langchain-community) (0.1.81)\n",
            "Requirement already satisfied: numpy<2,>=1 in /usr/local/lib/python3.10/dist-packages (from langchain-community) (1.25.2)\n",
            "Requirement already satisfied: requests<3,>=2 in /usr/local/lib/python3.10/dist-packages (from langchain-community) (2.31.0)\n",
            "Requirement already satisfied: tenacity<9.0.0,>=8.1.0 in /usr/local/lib/python3.10/dist-packages (from langchain-community) (8.4.1)\n",
            "Requirement already satisfied: aiosignal>=1.1.2 in /usr/local/lib/python3.10/dist-packages (from aiohttp<4.0.0,>=3.8.3->langchain-community) (1.3.1)\n",
            "Requirement already satisfied: attrs>=17.3.0 in /usr/local/lib/python3.10/dist-packages (from aiohttp<4.0.0,>=3.8.3->langchain-community) (23.2.0)\n",
            "Requirement already satisfied: frozenlist>=1.1.1 in /usr/local/lib/python3.10/dist-packages (from aiohttp<4.0.0,>=3.8.3->langchain-community) (1.4.1)\n",
            "Requirement already satisfied: multidict<7.0,>=4.5 in /usr/local/lib/python3.10/dist-packages (from aiohttp<4.0.0,>=3.8.3->langchain-community) (6.0.5)\n",
            "Requirement already satisfied: yarl<2.0,>=1.0 in /usr/local/lib/python3.10/dist-packages (from aiohttp<4.0.0,>=3.8.3->langchain-community) (1.9.4)\n",
            "Requirement already satisfied: async-timeout<5.0,>=4.0 in /usr/local/lib/python3.10/dist-packages (from aiohttp<4.0.0,>=3.8.3->langchain-community) (4.0.3)\n",
            "Collecting marshmallow<4.0.0,>=3.18.0 (from dataclasses-json<0.7,>=0.5.7->langchain-community)\n",
            "  Downloading marshmallow-3.21.3-py3-none-any.whl (49 kB)\n",
            "\u001b[2K     \u001b[90m━━━━━━━━━━━━━━━━━━━━━━━━━━━━━━━━━━━━━━━━\u001b[0m \u001b[32m49.2/49.2 kB\u001b[0m \u001b[31m8.1 MB/s\u001b[0m eta \u001b[36m0:00:00\u001b[0m\n",
            "\u001b[?25hCollecting typing-inspect<1,>=0.4.0 (from dataclasses-json<0.7,>=0.5.7->langchain-community)\n",
            "  Downloading typing_inspect-0.9.0-py3-none-any.whl (8.8 kB)\n",
            "Requirement already satisfied: langchain-text-splitters<0.3.0,>=0.2.0 in /usr/local/lib/python3.10/dist-packages (from langchain<0.3.0,>=0.2.5->langchain-community) (0.2.1)\n",
            "Requirement already satisfied: pydantic<3,>=1 in /usr/local/lib/python3.10/dist-packages (from langchain<0.3.0,>=0.2.5->langchain-community) (2.7.4)\n",
            "Requirement already satisfied: jsonpatch<2.0,>=1.33 in /usr/local/lib/python3.10/dist-packages (from langchain-core<0.3.0,>=0.2.7->langchain-community) (1.33)\n",
            "Requirement already satisfied: packaging<25,>=23.2 in /usr/local/lib/python3.10/dist-packages (from langchain-core<0.3.0,>=0.2.7->langchain-community) (24.1)\n",
            "Requirement already satisfied: orjson<4.0.0,>=3.9.14 in /usr/local/lib/python3.10/dist-packages (from langsmith<0.2.0,>=0.1.0->langchain-community) (3.10.5)\n",
            "Requirement already satisfied: charset-normalizer<4,>=2 in /usr/local/lib/python3.10/dist-packages (from requests<3,>=2->langchain-community) (3.3.2)\n",
            "Requirement already satisfied: idna<4,>=2.5 in /usr/local/lib/python3.10/dist-packages (from requests<3,>=2->langchain-community) (3.7)\n",
            "Requirement already satisfied: urllib3<3,>=1.21.1 in /usr/local/lib/python3.10/dist-packages (from requests<3,>=2->langchain-community) (2.0.7)\n",
            "Requirement already satisfied: certifi>=2017.4.17 in /usr/local/lib/python3.10/dist-packages (from requests<3,>=2->langchain-community) (2024.6.2)\n",
            "Requirement already satisfied: typing-extensions>=4.6.0 in /usr/local/lib/python3.10/dist-packages (from SQLAlchemy<3,>=1.4->langchain-community) (4.12.2)\n",
            "Requirement already satisfied: greenlet!=0.4.17 in /usr/local/lib/python3.10/dist-packages (from SQLAlchemy<3,>=1.4->langchain-community) (3.0.3)\n",
            "Requirement already satisfied: jsonpointer>=1.9 in /usr/local/lib/python3.10/dist-packages (from jsonpatch<2.0,>=1.33->langchain-core<0.3.0,>=0.2.7->langchain-community) (3.0.0)\n",
            "Requirement already satisfied: annotated-types>=0.4.0 in /usr/local/lib/python3.10/dist-packages (from pydantic<3,>=1->langchain<0.3.0,>=0.2.5->langchain-community) (0.7.0)\n",
            "Requirement already satisfied: pydantic-core==2.18.4 in /usr/local/lib/python3.10/dist-packages (from pydantic<3,>=1->langchain<0.3.0,>=0.2.5->langchain-community) (2.18.4)\n",
            "Collecting mypy-extensions>=0.3.0 (from typing-inspect<1,>=0.4.0->dataclasses-json<0.7,>=0.5.7->langchain-community)\n",
            "  Downloading mypy_extensions-1.0.0-py3-none-any.whl (4.7 kB)\n",
            "Installing collected packages: mypy-extensions, marshmallow, typing-inspect, dataclasses-json, langchain-community\n",
            "Successfully installed dataclasses-json-0.6.7 langchain-community-0.2.5 marshmallow-3.21.3 mypy-extensions-1.0.0 typing-inspect-0.9.0\n"
          ]
        }
      ]
    },
    {
      "cell_type": "markdown",
      "source": [
        "# Imports"
      ],
      "metadata": {
        "id": "ho_qQkXpXPn4"
      }
    },
    {
      "cell_type": "code",
      "source": [
        "%%time\n",
        "\n",
        "import warnings\n",
        "warnings.filterwarnings(\"ignore\")"
      ],
      "metadata": {
        "execution": {
          "iopub.status.busy": "2024-06-12T16:18:41.728290Z",
          "iopub.execute_input": "2024-06-12T16:18:41.728705Z",
          "iopub.status.idle": "2024-06-12T16:18:41.734735Z",
          "shell.execute_reply.started": "2024-06-12T16:18:41.728672Z",
          "shell.execute_reply": "2024-06-12T16:18:41.733896Z"
        },
        "trusted": true,
        "id": "k-izXEn8XPn4",
        "outputId": "9d675eb5-b9c4-417d-a63c-342e9078a70f",
        "colab": {
          "base_uri": "https://localhost:8080/"
        }
      },
      "execution_count": null,
      "outputs": [
        {
          "output_type": "stream",
          "name": "stdout",
          "text": [
            "CPU times: user 0 ns, sys: 34 µs, total: 34 µs\n",
            "Wall time: 36.2 µs\n"
          ]
        }
      ]
    },
    {
      "cell_type": "code",
      "source": [
        "# Importing the os module for interacting with the operating system\n",
        "import os\n",
        "\n",
        "# Importing the glob module to find all the pathnames matching a specified pattern\n",
        "import glob\n",
        "\n",
        "# Importing the textwrap module for formatting text\n",
        "import textwrap\n",
        "\n",
        "# Importing the time module to handle time-related tasks\n",
        "import time\n",
        "\n",
        "# Importing the langchain module for building language model chains\n",
        "import langchain\n"
      ],
      "metadata": {
        "execution": {
          "iopub.status.busy": "2024-06-12T16:18:44.828602Z",
          "iopub.execute_input": "2024-06-12T16:18:44.828948Z",
          "iopub.status.idle": "2024-06-12T16:18:44.860840Z",
          "shell.execute_reply.started": "2024-06-12T16:18:44.828920Z",
          "shell.execute_reply": "2024-06-12T16:18:44.859977Z"
        },
        "trusted": true,
        "id": "wQS9hUyyXPn4"
      },
      "execution_count": null,
      "outputs": []
    },
    {
      "cell_type": "code",
      "source": [
        "# Importing PyPDFLoader for loading PDF documents\n",
        "from langchain.document_loaders import PyPDFLoader\n",
        "\n",
        "# Importing DirectoryLoader for loading all documents from a directory\n",
        "from langchain.document_loaders import DirectoryLoader\n"
      ],
      "metadata": {
        "execution": {
          "iopub.status.busy": "2024-06-12T16:18:48.049622Z",
          "iopub.execute_input": "2024-06-12T16:18:48.050401Z",
          "iopub.status.idle": "2024-06-12T16:18:48.444801Z",
          "shell.execute_reply.started": "2024-06-12T16:18:48.050365Z",
          "shell.execute_reply": "2024-06-12T16:18:48.444072Z"
        },
        "trusted": true,
        "id": "uB_abi2yXPn5"
      },
      "execution_count": null,
      "outputs": []
    },
    {
      "cell_type": "code",
      "source": [
        "### Importing modules for text splitting\n",
        "from langchain.text_splitter import RecursiveCharacterTextSplitter\n",
        "\n",
        "### Importing modules for prompts and LLM chains\n",
        "from langchain import PromptTemplate, LLMChain\n"
      ],
      "metadata": {
        "execution": {
          "iopub.status.busy": "2024-06-12T16:18:52.263742Z",
          "iopub.execute_input": "2024-06-12T16:18:52.264466Z",
          "iopub.status.idle": "2024-06-12T16:18:52.575465Z",
          "shell.execute_reply.started": "2024-06-12T16:18:52.264432Z",
          "shell.execute_reply": "2024-06-12T16:18:52.574647Z"
        },
        "trusted": true,
        "id": "XvKViDlOXPn5"
      },
      "execution_count": null,
      "outputs": []
    },
    {
      "cell_type": "code",
      "source": [
        "### Importing modules for vector stores\n",
        "from langchain.vectorstores import FAISS\n",
        "\n",
        "### Importing modules for models\n",
        "from langchain.llms import HuggingFacePipeline\n",
        "from langchain.embeddings import HuggingFaceInstructEmbeddings\n",
        "\n",
        "### Importing modules for retrievers\n",
        "from langchain.chains import RetrievalQA\n"
      ],
      "metadata": {
        "execution": {
          "iopub.status.busy": "2024-06-12T16:18:55.750947Z",
          "iopub.execute_input": "2024-06-12T16:18:55.751529Z",
          "iopub.status.idle": "2024-06-12T16:18:55.838851Z",
          "shell.execute_reply.started": "2024-06-12T16:18:55.751496Z",
          "shell.execute_reply": "2024-06-12T16:18:55.838161Z"
        },
        "trusted": true,
        "id": "a5oOhNMhXPn5"
      },
      "execution_count": null,
      "outputs": []
    },
    {
      "cell_type": "code",
      "source": [
        "# Importing the torch module for working with PyTorch, an open source machine learning library\n",
        "import torch\n",
        "\n",
        "# Importing the transformers module for working with Transformer models\n",
        "import transformers\n",
        "\n",
        "# Importing specific classes and functions from the transformers module\n",
        "from transformers import (\n",
        "    AutoTokenizer,        # For loading pre-trained tokenizers\n",
        "    AutoModelForCausalLM, # For loading pre-trained causal language models\n",
        "    BitsAndBytesConfig,   # For configuring quantization settings for models\n",
        "    pipeline              # For creating inference pipelines\n",
        ")\n",
        "\n",
        "# Clearing the output (commonly used in Jupyter notebooks)\n",
        "from IPython.display import clear_output\n",
        "clear_output()\n"
      ],
      "metadata": {
        "execution": {
          "iopub.status.busy": "2024-06-12T16:18:59.513796Z",
          "iopub.execute_input": "2024-06-12T16:18:59.514227Z",
          "iopub.status.idle": "2024-06-12T16:19:18.714757Z",
          "shell.execute_reply.started": "2024-06-12T16:18:59.514201Z",
          "shell.execute_reply": "2024-06-12T16:19:18.713819Z"
        },
        "trusted": true,
        "id": "wP79kBEtXPn5"
      },
      "execution_count": null,
      "outputs": []
    },
    {
      "cell_type": "code",
      "source": [
        "# Printing the versions of the imported libraries\n",
        "print('langchain:', langchain.__version__)\n",
        "print('torch:', torch.__version__)\n",
        "print('transformers:', transformers.__version__)"
      ],
      "metadata": {
        "execution": {
          "iopub.status.busy": "2024-06-12T16:19:23.298209Z",
          "iopub.execute_input": "2024-06-12T16:19:23.299225Z",
          "iopub.status.idle": "2024-06-12T16:19:23.304216Z",
          "shell.execute_reply.started": "2024-06-12T16:19:23.299193Z",
          "shell.execute_reply": "2024-06-12T16:19:23.303275Z"
        },
        "trusted": true,
        "id": "NxX8HlOqXPn5",
        "outputId": "e065d2d6-60b6-4577-9c19-8ca492e83b40",
        "colab": {
          "base_uri": "https://localhost:8080/"
        }
      },
      "execution_count": null,
      "outputs": [
        {
          "output_type": "stream",
          "name": "stdout",
          "text": [
            "langchain: 0.2.5\n",
            "torch: 2.3.0+cu121\n",
            "transformers: 4.41.2\n"
          ]
        }
      ]
    },
    {
      "cell_type": "code",
      "source": [
        "# Finding and sorting all the file paths in the specified directory\n",
        "sorted(glob.glob('/content/books/*'))"
      ],
      "metadata": {
        "execution": {
          "iopub.status.busy": "2024-06-12T16:19:37.707023Z",
          "iopub.execute_input": "2024-06-12T16:19:37.707700Z",
          "iopub.status.idle": "2024-06-12T16:19:37.721093Z",
          "shell.execute_reply.started": "2024-06-12T16:19:37.707667Z",
          "shell.execute_reply": "2024-06-12T16:19:37.720159Z"
        },
        "trusted": true,
        "id": "rmBImunwXPn5",
        "outputId": "6a8ab6f3-01b4-4868-d8d8-3f062a9db8b5",
        "colab": {
          "base_uri": "https://localhost:8080/"
        }
      },
      "execution_count": null,
      "outputs": [
        {
          "output_type": "execute_result",
          "data": {
            "text/plain": [
              "['/content/books/Inferno-Dan-Brown.pdf',\n",
              " '/content/books/The Da Vinci Code Dan Brown.pdf',\n",
              " '/content/books/harry-potter-chamber-of-secret-3.pdf',\n",
              " '/content/books/harry-potter-sorcerers-stone.pdf']"
            ]
          },
          "metadata": {},
          "execution_count": 21
        }
      ]
    },
    {
      "cell_type": "markdown",
      "source": [
        "# CFG\n",
        "\n",
        "- CFG class enables easy and organized experimentation"
      ],
      "metadata": {
        "id": "HxrcYn7xXPn5"
      }
    },
    {
      "cell_type": "code",
      "source": [
        "class CFG:\n",
        "    # LLMs\n",
        "    model_name = 'llama2-13b-chat' # wizardlm, llama2-7b-chat, llama2-13b-chat, mistral-7B\n",
        "    temperature = 0\n",
        "    top_p = 0.95\n",
        "    repetition_penalty = 1.15\n",
        "\n",
        "    # splitting\n",
        "    split_chunk_size = 800\n",
        "    split_overlap = 0\n",
        "\n",
        "    # embeddings\n",
        "    embeddings_model_repo = 'sentence-transformers/all-MiniLM-L6-v2'\n",
        "\n",
        "    # similar passages\n",
        "    k = 6\n",
        "\n",
        "    # paths\n",
        "    PDFs_path = '/content/books/'\n",
        "    Embeddings_path =  './faiss-hp-sentence-transformers'\n",
        "    Output_folder = './books-output-vectordb'"
      ],
      "metadata": {
        "execution": {
          "iopub.status.busy": "2024-06-12T16:21:25.997296Z",
          "iopub.execute_input": "2024-06-12T16:21:25.997730Z",
          "iopub.status.idle": "2024-06-12T16:21:26.005008Z",
          "shell.execute_reply.started": "2024-06-12T16:21:25.997686Z",
          "shell.execute_reply": "2024-06-12T16:21:26.003989Z"
        },
        "trusted": true,
        "id": "15Gj33zkXPn5"
      },
      "execution_count": null,
      "outputs": []
    },
    {
      "cell_type": "markdown",
      "source": [
        "# Define model"
      ],
      "metadata": {
        "id": "pfvsmazrXPn6"
      }
    },
    {
      "cell_type": "code",
      "source": [
        "def get_model(model = CFG.model_name):\n",
        "\n",
        "    print('\\nDownloading model: ', model, '\\n\\n')\n",
        "\n",
        "    if model == 'wizardlm':\n",
        "        model_repo = 'TheBloke/wizardLM-7B-HF'\n",
        "\n",
        "        tokenizer = AutoTokenizer.from_pretrained(model_repo)\n",
        "\n",
        "        bnb_config = BitsAndBytesConfig(\n",
        "            load_in_4bit = True,\n",
        "            bnb_4bit_quant_type = \"nf4\",\n",
        "            bnb_4bit_compute_dtype = torch.float16,\n",
        "            bnb_4bit_use_double_quant = True,\n",
        "        )\n",
        "\n",
        "        model = AutoModelForCausalLM.from_pretrained(\n",
        "            model_repo,\n",
        "            quantization_config = bnb_config,\n",
        "            device_map = 'auto',\n",
        "            low_cpu_mem_usage = True\n",
        "        )\n",
        "\n",
        "        max_len = 1024\n",
        "\n",
        "    elif model == 'llama2-7b-chat':\n",
        "        model_repo = 'daryl149/llama-2-7b-chat-hf'\n",
        "\n",
        "        tokenizer = AutoTokenizer.from_pretrained(model_repo, use_fast=True)\n",
        "\n",
        "        bnb_config = BitsAndBytesConfig(\n",
        "            load_in_4bit = True,\n",
        "            bnb_4bit_quant_type = \"nf4\",\n",
        "            bnb_4bit_compute_dtype = torch.float16,\n",
        "            bnb_4bit_use_double_quant = True,\n",
        "        )\n",
        "\n",
        "        model = AutoModelForCausalLM.from_pretrained(\n",
        "            model_repo,\n",
        "            quantization_config = bnb_config,\n",
        "            device_map = 'auto',\n",
        "            low_cpu_mem_usage = True,\n",
        "            trust_remote_code = True\n",
        "        )\n",
        "\n",
        "        max_len = 2048\n",
        "\n",
        "    elif model == 'llama2-13b-chat':\n",
        "        model_repo = 'daryl149/llama-2-13b-chat-hf'\n",
        "\n",
        "        tokenizer = AutoTokenizer.from_pretrained(model_repo, use_fast=True)\n",
        "\n",
        "        bnb_config = BitsAndBytesConfig(\n",
        "            load_in_4bit = True,\n",
        "            bnb_4bit_quant_type = \"nf4\",\n",
        "            bnb_4bit_compute_dtype = torch.float16,\n",
        "            bnb_4bit_use_double_quant = True,\n",
        "        )\n",
        "\n",
        "        model = AutoModelForCausalLM.from_pretrained(\n",
        "            model_repo,\n",
        "            quantization_config = bnb_config,\n",
        "            device_map = 'auto',\n",
        "            low_cpu_mem_usage = True,\n",
        "            trust_remote_code = True\n",
        "        )\n",
        "\n",
        "        max_len = 2048 # 8192\n",
        "\n",
        "    elif model == 'mistral-7B':\n",
        "        model_repo = 'mistralai/Mistral-7B-v0.1'\n",
        "\n",
        "        tokenizer = AutoTokenizer.from_pretrained(model_repo)\n",
        "\n",
        "        bnb_config = BitsAndBytesConfig(\n",
        "            load_in_4bit = True,\n",
        "            bnb_4bit_quant_type = \"nf4\",\n",
        "            bnb_4bit_compute_dtype = torch.float16,\n",
        "            bnb_4bit_use_double_quant = True,\n",
        "        )\n",
        "\n",
        "        model = AutoModelForCausalLM.from_pretrained(\n",
        "            model_repo,\n",
        "            quantization_config = bnb_config,\n",
        "            device_map = 'auto',\n",
        "            low_cpu_mem_usage = True,\n",
        "        )\n",
        "\n",
        "        max_len = 1024\n",
        "\n",
        "    else:\n",
        "        print(\"Not implemented model (tokenizer and backbone)\")\n",
        "\n",
        "    return tokenizer, model, max_len"
      ],
      "metadata": {
        "execution": {
          "iopub.status.busy": "2024-06-12T16:21:35.168513Z",
          "iopub.execute_input": "2024-06-12T16:21:35.169146Z",
          "iopub.status.idle": "2024-06-12T16:21:35.180886Z",
          "shell.execute_reply.started": "2024-06-12T16:21:35.169116Z",
          "shell.execute_reply": "2024-06-12T16:21:35.179962Z"
        },
        "trusted": true,
        "id": "VblpNk9oXPn6"
      },
      "execution_count": null,
      "outputs": []
    },
    {
      "cell_type": "code",
      "source": [
        "%%time\n",
        "\n",
        "tokenizer, model, max_len = get_model(model = CFG.model_name)\n",
        "\n",
        "clear_output()"
      ],
      "metadata": {
        "_kg_hide-output": false,
        "execution": {
          "iopub.status.busy": "2024-06-12T16:21:42.838536Z",
          "iopub.execute_input": "2024-06-12T16:21:42.839400Z",
          "iopub.status.idle": "2024-06-12T16:35:12.243249Z",
          "shell.execute_reply.started": "2024-06-12T16:21:42.839362Z",
          "shell.execute_reply": "2024-06-12T16:35:12.242396Z"
        },
        "trusted": true,
        "id": "zd2fEzFAXPn6",
        "outputId": "696d36e7-c8d6-4496-ab1d-a78076277886",
        "colab": {
          "base_uri": "https://localhost:8080/",
          "height": 118,
          "referenced_widgets": [
            "87992e952d914308b1ebfcfc284b93b8",
            "53934c5b0064455b8663738cb8fd360a",
            "728529ffd7164ca2b6fb0b7951ab7b21",
            "6c21422cccea4342a3fc35c711d690d4",
            "456a32b83b4e4938b61df4bbfb677731",
            "5fd208ce07f040b48d93768707172070",
            "0d8c66b93f704fefbaca0d17b9f71181",
            "e53fbaae8a194d4ebd1d7870d7704cab",
            "8b0e5cdbf38d41f283f39ceb21d1e86e",
            "e81df1eda4964dfba06d819a084c2adc",
            "8fd5b511542e4cfb8b5248e9cc7a9a8c"
          ]
        }
      },
      "execution_count": null,
      "outputs": [
        {
          "output_type": "stream",
          "name": "stdout",
          "text": [
            "CPU times: user 8.32 s, sys: 4.48 s, total: 12.8 s\n",
            "Wall time: 35.9 s\n"
          ]
        }
      ]
    },
    {
      "cell_type": "code",
      "source": [
        "model.eval()"
      ],
      "metadata": {
        "_kg_hide-output": true,
        "execution": {
          "iopub.status.busy": "2024-06-12T16:35:22.957521Z",
          "iopub.execute_input": "2024-06-12T16:35:22.957901Z",
          "iopub.status.idle": "2024-06-12T16:35:22.971000Z",
          "shell.execute_reply.started": "2024-06-12T16:35:22.957873Z",
          "shell.execute_reply": "2024-06-12T16:35:22.970054Z"
        },
        "trusted": true,
        "id": "8SPl5_tMXPn6",
        "outputId": "8ed8320b-c0fe-483c-bc84-b92c4490541e",
        "colab": {
          "base_uri": "https://localhost:8080/"
        }
      },
      "execution_count": null,
      "outputs": [
        {
          "output_type": "execute_result",
          "data": {
            "text/plain": [
              "LlamaForCausalLM(\n",
              "  (model): LlamaModel(\n",
              "    (embed_tokens): Embedding(32000, 5120, padding_idx=0)\n",
              "    (layers): ModuleList(\n",
              "      (0-39): 40 x LlamaDecoderLayer(\n",
              "        (self_attn): LlamaSdpaAttention(\n",
              "          (q_proj): Linear4bit(in_features=5120, out_features=5120, bias=False)\n",
              "          (k_proj): Linear4bit(in_features=5120, out_features=5120, bias=False)\n",
              "          (v_proj): Linear4bit(in_features=5120, out_features=5120, bias=False)\n",
              "          (o_proj): Linear4bit(in_features=5120, out_features=5120, bias=False)\n",
              "          (rotary_emb): LlamaRotaryEmbedding()\n",
              "        )\n",
              "        (mlp): LlamaMLP(\n",
              "          (gate_proj): Linear4bit(in_features=5120, out_features=13824, bias=False)\n",
              "          (up_proj): Linear4bit(in_features=5120, out_features=13824, bias=False)\n",
              "          (down_proj): Linear4bit(in_features=13824, out_features=5120, bias=False)\n",
              "          (act_fn): SiLU()\n",
              "        )\n",
              "        (input_layernorm): LlamaRMSNorm()\n",
              "        (post_attention_layernorm): LlamaRMSNorm()\n",
              "      )\n",
              "    )\n",
              "    (norm): LlamaRMSNorm()\n",
              "  )\n",
              "  (lm_head): Linear(in_features=5120, out_features=32000, bias=False)\n",
              ")"
            ]
          },
          "metadata": {},
          "execution_count": 64
        }
      ]
    },
    {
      "cell_type": "code",
      "source": [
        "### check how Accelerate split the model across the available devices (GPUs)\n",
        "model.hf_device_map"
      ],
      "metadata": {
        "_kg_hide-output": true,
        "execution": {
          "iopub.status.busy": "2024-06-12T16:35:26.917624Z",
          "iopub.execute_input": "2024-06-12T16:35:26.918210Z",
          "iopub.status.idle": "2024-06-12T16:35:26.925330Z",
          "shell.execute_reply.started": "2024-06-12T16:35:26.918178Z",
          "shell.execute_reply": "2024-06-12T16:35:26.924435Z"
        },
        "trusted": true,
        "id": "Gdu0RkJoXPn6",
        "outputId": "df2697cc-b76a-4000-8050-fe65d251f921",
        "colab": {
          "base_uri": "https://localhost:8080/"
        }
      },
      "execution_count": null,
      "outputs": [
        {
          "output_type": "execute_result",
          "data": {
            "text/plain": [
              "{'': 0}"
            ]
          },
          "metadata": {},
          "execution_count": 65
        }
      ]
    },
    {
      "cell_type": "markdown",
      "source": [
        "# 🤗 pipeline\n",
        "\n",
        "- Hugging Face pipeline"
      ],
      "metadata": {
        "id": "iujAK1SSXPn6"
      }
    },
    {
      "cell_type": "code",
      "source": [
        "### hugging face pipeline\n",
        "pipe = pipeline(\n",
        "    task = \"text-generation\",\n",
        "    model = model,\n",
        "    tokenizer = tokenizer,\n",
        "    pad_token_id = tokenizer.eos_token_id,\n",
        "#     do_sample = True,\n",
        "    max_length = max_len,\n",
        "    temperature = CFG.temperature,\n",
        "    top_p = CFG.top_p,\n",
        "    repetition_penalty = CFG.repetition_penalty\n",
        ")\n",
        "\n",
        "### langchain pipeline\n",
        "llm = HuggingFacePipeline(pipeline = pipe)"
      ],
      "metadata": {
        "execution": {
          "iopub.status.busy": "2024-06-12T16:35:37.421643Z",
          "iopub.execute_input": "2024-06-12T16:35:37.422445Z",
          "iopub.status.idle": "2024-06-12T16:35:37.429386Z",
          "shell.execute_reply.started": "2024-06-12T16:35:37.422405Z",
          "shell.execute_reply": "2024-06-12T16:35:37.428337Z"
        },
        "trusted": true,
        "id": "uWcuvnckXPn7",
        "colab": {
          "base_uri": "https://localhost:8080/"
        },
        "outputId": "a7e08c3e-3cc5-49bb-877a-3d7d98475ee3"
      },
      "execution_count": null,
      "outputs": [
        {
          "output_type": "stream",
          "name": "stderr",
          "text": [
            "/usr/local/lib/python3.10/dist-packages/langchain_core/_api/deprecation.py:139: LangChainDeprecationWarning: The class `HuggingFacePipeline` was deprecated in LangChain 0.0.37 and will be removed in 0.3. An updated version of the class exists in the langchain-huggingface package and should be used instead. To use it run `pip install -U langchain-huggingface` and import as `from langchain_huggingface import HuggingFacePipeline`.\n",
            "  warn_deprecated(\n"
          ]
        }
      ]
    },
    {
      "cell_type": "code",
      "source": [
        "llm"
      ],
      "metadata": {
        "execution": {
          "iopub.status.busy": "2024-06-12T16:35:40.396548Z",
          "iopub.execute_input": "2024-06-12T16:35:40.397454Z",
          "iopub.status.idle": "2024-06-12T16:35:40.404170Z",
          "shell.execute_reply.started": "2024-06-12T16:35:40.397424Z",
          "shell.execute_reply": "2024-06-12T16:35:40.403271Z"
        },
        "trusted": true,
        "id": "FnimeoOqXPn7",
        "outputId": "332d0d2c-090a-40c3-df1c-c899609bfc8c",
        "colab": {
          "base_uri": "https://localhost:8080/"
        }
      },
      "execution_count": null,
      "outputs": [
        {
          "output_type": "execute_result",
          "data": {
            "text/plain": [
              "HuggingFacePipeline(pipeline=<transformers.pipelines.text_generation.TextGenerationPipeline object at 0x7f5a3496fb80>)"
            ]
          },
          "metadata": {},
          "execution_count": 28
        }
      ]
    },
    {
      "cell_type": "code",
      "source": [
        "%%time\n",
        "### testing model, not using the harry potter books yet\n",
        "### answer is not necessarily related to harry potter\n",
        "query = \"Give me 5 examples of cool potions and explain what they do\"\n",
        "llm.invoke(query)"
      ],
      "metadata": {
        "execution": {
          "iopub.status.busy": "2024-06-12T16:35:43.987018Z",
          "iopub.execute_input": "2024-06-12T16:35:43.987765Z",
          "iopub.status.idle": "2024-06-12T16:36:17.294922Z",
          "shell.execute_reply.started": "2024-06-12T16:35:43.987729Z",
          "shell.execute_reply": "2024-06-12T16:36:17.293959Z"
        },
        "trusted": true,
        "id": "aJnsn12VXPn7",
        "outputId": "b283719f-31c6-4d11-ce0a-a6ca0563caac",
        "colab": {
          "base_uri": "https://localhost:8080/",
          "height": 229
        }
      },
      "execution_count": null,
      "outputs": [
        {
          "output_type": "stream",
          "name": "stderr",
          "text": [
            "Truncation was not explicitly activated but `max_length` is provided a specific value, please use `truncation=True` to explicitly truncate examples to max length. Defaulting to 'longest_first' truncation strategy. If you encode pairs of sequences (GLUE-style) with the tokenizer you can select this strategy more precisely by providing a specific strategy to `truncation`.\n"
          ]
        },
        {
          "output_type": "stream",
          "name": "stdout",
          "text": [
            "CPU times: user 31.5 s, sys: 245 ms, total: 31.7 s\n",
            "Wall time: 32.3 s\n"
          ]
        },
        {
          "output_type": "execute_result",
          "data": {
            "text/plain": [
              "'Give me 5 examples of cool potions and explain what they do.\\n\\nSure thing! Here are five examples of cool potions that you might find in a fantasy world, along with their effects:\\n\\n1. Potion of Healing: This potion restores health to the drinker, healing wounds and injuries. It might also grant temporary immunity to future damage or disease.\\n2. Potion of Strength: This potion grants the drinker increased physical strength and endurance for a short period of time, allowing them to lift heavier objects, run faster, and fight longer.\\n3. Potion of Speed: This potion allows the drinker to move at incredible speeds for a short period of time, making it easier to escape danger or chase down enemies.\\n4. Potion of Invisibility: This potion makes the drinker temporarily invisible, allowing them to sneak past guards, avoid detection by monsters, or steal valuable items without being caught.\\n5. Potion of Flight: This potion gives the drinker the ability to fly for a short period of time, allowing them to traverse long distances quickly, reach high places, or escape from dangerous situations.\\n\\nThese are just a few examples of the many cool potions that you might find in a fantasy world. Depending on the setting and the story, there could be countless other types of potions with different effects, such as potions of teleportation, potions of illusion, or potions of transformation. The possibilities are endless!'"
            ],
            "application/vnd.google.colaboratory.intrinsic+json": {
              "type": "string"
            }
          },
          "metadata": {},
          "execution_count": 29
        }
      ]
    },
    {
      "cell_type": "markdown",
      "source": [
        "# 🦜🔗 Langchain\n",
        "\n",
        "- Multiple document retriever with LangChain"
      ],
      "metadata": {
        "id": "LNDsuNsSXPn7"
      }
    },
    {
      "cell_type": "code",
      "source": [
        "CFG.model_name"
      ],
      "metadata": {
        "execution": {
          "iopub.status.busy": "2024-06-12T16:36:56.378350Z",
          "iopub.execute_input": "2024-06-12T16:36:56.378859Z",
          "iopub.status.idle": "2024-06-12T16:36:56.386279Z",
          "shell.execute_reply.started": "2024-06-12T16:36:56.378824Z",
          "shell.execute_reply": "2024-06-12T16:36:56.385283Z"
        },
        "trusted": true,
        "id": "fclYMgjyXPn7",
        "outputId": "a5994347-d89a-4df3-e418-1144e9017b12",
        "colab": {
          "base_uri": "https://localhost:8080/",
          "height": 35
        }
      },
      "execution_count": null,
      "outputs": [
        {
          "output_type": "execute_result",
          "data": {
            "text/plain": [
              "'llama2-13b-chat'"
            ],
            "application/vnd.google.colaboratory.intrinsic+json": {
              "type": "string"
            }
          },
          "metadata": {},
          "execution_count": 30
        }
      ]
    },
    {
      "cell_type": "markdown",
      "source": [
        "# Loader\n",
        "\n",
        "- [Directory loader](https://python.langchain.com/docs/modules/data_connection/document_loaders/file_directory) for multiple files\n",
        "- This step is not necessary if you are just loading the vector database\n",
        "- This step is necessary if you are creating embeddings. In this case you need to:\n",
        "    - load de PDF files\n",
        "    - split into chunks\n",
        "    - create embeddings\n",
        "    - save the embeddings in a vector store\n",
        "    - After that you can just load the saved embeddings to do similarity search with the user query, and then use the LLM to answer the question\n",
        "    \n",
        "You can comment out this section if you use the embeddings I already created."
      ],
      "metadata": {
        "id": "rydRnmdSXPn7"
      }
    },
    {
      "cell_type": "code",
      "source": [
        "%%time\n",
        "\n",
        "loader = DirectoryLoader(\n",
        "    CFG.PDFs_path,\n",
        "    glob=\"./*.pdf\",\n",
        "    loader_cls=PyPDFLoader,\n",
        "    show_progress=True,\n",
        "    use_multithreading=True\n",
        ")\n",
        "\n",
        "documents = loader.load()"
      ],
      "metadata": {
        "execution": {
          "iopub.status.busy": "2024-06-12T16:37:02.276117Z",
          "iopub.execute_input": "2024-06-12T16:37:02.276971Z",
          "iopub.status.idle": "2024-06-12T16:38:55.737776Z",
          "shell.execute_reply.started": "2024-06-12T16:37:02.276935Z",
          "shell.execute_reply": "2024-06-12T16:38:55.736853Z"
        },
        "trusted": true,
        "id": "XamL27TWXPn8",
        "outputId": "40acee8a-1516-41fb-b6e5-12a933f739c9",
        "colab": {
          "base_uri": "https://localhost:8080/"
        }
      },
      "execution_count": null,
      "outputs": [
        {
          "output_type": "stream",
          "name": "stderr",
          "text": [
            "100%|██████████| 4/4 [01:10<00:00, 17.61s/it]"
          ]
        },
        {
          "output_type": "stream",
          "name": "stdout",
          "text": [
            "CPU times: user 1min 10s, sys: 533 ms, total: 1min 11s\n",
            "Wall time: 1min 10s\n"
          ]
        },
        {
          "output_type": "stream",
          "name": "stderr",
          "text": [
            "\n"
          ]
        }
      ]
    },
    {
      "cell_type": "code",
      "source": [
        "print(f'We have {len(documents)} pages in total')"
      ],
      "metadata": {
        "execution": {
          "iopub.status.busy": "2024-06-12T16:39:01.659073Z",
          "iopub.execute_input": "2024-06-12T16:39:01.659962Z",
          "iopub.status.idle": "2024-06-12T16:39:01.664598Z",
          "shell.execute_reply.started": "2024-06-12T16:39:01.659928Z",
          "shell.execute_reply": "2024-06-12T16:39:01.663692Z"
        },
        "trusted": true,
        "id": "5ajgMDBnXPn8",
        "outputId": "aa6a12e4-c776-4630-bd79-66d1f0e9864a",
        "colab": {
          "base_uri": "https://localhost:8080/"
        }
      },
      "execution_count": null,
      "outputs": [
        {
          "output_type": "stream",
          "name": "stdout",
          "text": [
            "We have 1278 pages in total\n"
          ]
        }
      ]
    },
    {
      "cell_type": "code",
      "source": [
        "documents[8].page_content"
      ],
      "metadata": {
        "execution": {
          "iopub.status.busy": "2024-06-12T16:39:05.199298Z",
          "iopub.execute_input": "2024-06-12T16:39:05.200370Z",
          "iopub.status.idle": "2024-06-12T16:39:05.206018Z",
          "shell.execute_reply.started": "2024-06-12T16:39:05.200336Z",
          "shell.execute_reply": "2024-06-12T16:39:05.205096Z"
        },
        "trusted": true,
        "id": "Sop1dlQrXPn8",
        "outputId": "e99d5f92-b17b-4338-8525-54d817c42b0b",
        "colab": {
          "base_uri": "https://localhost:8080/",
          "height": 157
        }
      },
      "execution_count": null,
      "outputs": [
        {
          "output_type": "execute_result",
          "data": {
            "text/plain": [
              "'Groaning in disbelief, he picked up. \"Yes?\"\\nAs expected, it was the concierge. \"Mr. Langdon, again my apologies. I am calling to inform you \\nthat your guest is now en route to your room. I thought I should alert you.\"\\nLangdon was wide awake now. \"You sent someone to my room?\"\\n\"I apologize, monsieur, but a man like this... I cannot presume the authority to stop him.\"\\n\"Who exactly is he?\"\\nBut the concierge was gone.\\nAlmost immediately, a heavy fist pounded on Langdon\\'s door.\\nUncertain, Langdon slid off the bed, feeling his toes sink deep into the savonniere carpet. He donned the hotel bathrobe and moved toward the door. \"Who is it?\"\\n\"Mr. Langdon? I need to speak with you.\" The man\\'s English was accented—a sharp, authoritative bark. \"My name is Lieutenant Jerome Collet. Direction Centrale Police Judiciaire.\"\\nLangdon paused. The Judicial Police? The DCPJ was the rough equivalent of the U.S. FBI.\\nLeaving the security chain in place, Langdon opened the door a few inches. The face staring back at him was thin and washed out. The man was exceptionally lean, dressed in an official-looking blue uniform.\\n\"May I come in?\" the agent asked.\\nLangdon hesitated, feeling uncertain as the stranger\\'s sallow eyes studied him. \"What is this all about?\"\\n\"My capitaine requires your expertise in a private matter.\"\\n\"Now?\" Langdon managed. \"It\\'s after midnight.\"\\n\"Am I correct that you were scheduled to meet with the curator of the Louvre this evening?\"\\nLangdon felt a sudden surge of uneasiness. He and the revered curator Jacques Saunière had been slated to meet for drinks after Langdon\\'s lecture tonight, but Saunière had never shown up. \"Yes. How did you know that?\"\\n\"We found your name in his daily planner.\"'"
            ],
            "application/vnd.google.colaboratory.intrinsic+json": {
              "type": "string"
            }
          },
          "metadata": {},
          "execution_count": 33
        }
      ]
    },
    {
      "cell_type": "markdown",
      "source": [
        "# Splitter\n",
        "\n",
        "- Splitting the text into chunks so its passages are easily searchable for similarity\n",
        "- This step is also only necessary if you are creating the embeddings\n",
        "- [RecursiveCharacterTextSplitter](https://python.langchain.com/en/latest/reference/modules/document_loaders.html?highlight=RecursiveCharacterTextSplitter#langchain.document_loaders.MWDumpLoader)"
      ],
      "metadata": {
        "id": "U98WnnBgXPn8"
      }
    },
    {
      "cell_type": "code",
      "source": [
        "text_splitter = RecursiveCharacterTextSplitter(\n",
        "    chunk_size = CFG.split_chunk_size,\n",
        "    chunk_overlap = CFG.split_overlap\n",
        ")\n",
        "\n",
        "texts = text_splitter.split_documents(documents)\n",
        "\n",
        "print(f'We have created {len(texts)} chunks from {len(documents)} pages')"
      ],
      "metadata": {
        "execution": {
          "iopub.status.busy": "2024-06-12T16:39:13.735737Z",
          "iopub.execute_input": "2024-06-12T16:39:13.736084Z",
          "iopub.status.idle": "2024-06-12T16:39:13.958036Z",
          "shell.execute_reply.started": "2024-06-12T16:39:13.736055Z",
          "shell.execute_reply": "2024-06-12T16:39:13.957150Z"
        },
        "trusted": true,
        "id": "3B5IoedJXPn8",
        "outputId": "ba6e599f-437d-42d1-d583-35d175d88eae",
        "colab": {
          "base_uri": "https://localhost:8080/"
        }
      },
      "execution_count": null,
      "outputs": [
        {
          "output_type": "stream",
          "name": "stdout",
          "text": [
            "We have created 4626 chunks from 1278 pages\n"
          ]
        }
      ]
    },
    {
      "cell_type": "markdown",
      "source": [
        "# Create Embeddings\n",
        "\n",
        "\n",
        "- Embedd and store the texts in a Vector database (FAISS)\n",
        "- [LangChain Vector Stores docs](https://python.langchain.com/docs/modules/data_connection/vectorstores/)\n",
        "- [FAISS - langchain](https://python.langchain.com/docs/integrations/vectorstores/faiss)\n",
        "- [Sentence-BERT: Sentence Embeddings using Siamese BERT-Networks - paper Aug/2019](https://arxiv.org/pdf/1908.10084.pdf)\n",
        "- [This is a nice 4 minutes video about vector stores](https://www.youtube.com/watch?v=dN0lsF2cvm4)\n",
        "\n",
        "___\n",
        "\n",
        "- If you use Chroma vector store it will take ~35 min to create embeddings\n",
        "- If you use FAISS vector store on GPU it will take just ~3 min\n",
        "\n",
        "___\n",
        "\n",
        "We need to create the embeddings only once, and then we can just load the vector store and query the database using similarity search.\n",
        "\n",
        "Loading the embeddings takes only a few seconds.\n",
        "\n",
        "I uploaded the embeddings to a Kaggle Dataset so we just load it from [here](https://www.kaggle.com/datasets/hinepo/faiss-hp-sentence-transformers)."
      ],
      "metadata": {
        "id": "57lHasnyXPn8"
      }
    },
    {
      "cell_type": "code",
      "source": [
        "%%time\n",
        "\n",
        "### we create the embeddings only if they do not exist yet\n",
        "if not os.path.exists(CFG.Embeddings_path + '/index.faiss'):\n",
        "\n",
        "    ### download embeddings model\n",
        "    embeddings = HuggingFaceInstructEmbeddings(\n",
        "        model_name = CFG.embeddings_model_repo,\n",
        "        model_kwargs = {\"device\": \"cuda\"}\n",
        "    )\n",
        "\n",
        "    ### create embeddings and DB\n",
        "    vectordb = FAISS.from_documents(\n",
        "        documents = texts,\n",
        "        embedding = embeddings\n",
        "    )\n",
        "\n",
        "    ### persist vector database\n",
        "    vectordb.save_local(f\"{CFG.Output_folder}/faiss_index_hp\") # save in output folder\n",
        "#     vectordb.save_local(f\"{CFG.Embeddings_path}/faiss_index_hp\") # save in input folder"
      ],
      "metadata": {
        "execution": {
          "iopub.status.busy": "2024-06-12T16:40:06.708459Z",
          "iopub.execute_input": "2024-06-12T16:40:06.708810Z",
          "iopub.status.idle": "2024-06-12T16:40:24.998595Z",
          "shell.execute_reply.started": "2024-06-12T16:40:06.708783Z",
          "shell.execute_reply": "2024-06-12T16:40:24.997643Z"
        },
        "trusted": true,
        "id": "c831VCUcXPn9",
        "outputId": "dccfa4c5-c1a5-43f5-db83-03f39a300453",
        "colab": {
          "base_uri": "https://localhost:8080/",
          "height": 598,
          "referenced_widgets": [
            "c7a3c7a42539423087ea8d4197829fa4",
            "abd383a46a7e4814b93e9a982944bbf2",
            "bff35a5efa484d57addbc06d10582778",
            "76d5e7c7f18542428f73c613f685b332",
            "74598a4f63754263b789cad7a3320744",
            "c7cb76e6458b483d92df2451f061774a",
            "975007d51bcc4ebf986277aea67c9fe7",
            "b86377330714479ba3acf6e3a7b92279",
            "6bcdca50ffdd46d4b697628e7b0e18d0",
            "4875b5017d564dfb851cc84ea14f6880",
            "901609662c5747d281590934a75edb5b",
            "00fa85390aa241a7a95286125d858155",
            "421e39aeb61a423aaba88a4d911cf98d",
            "90141aed0592453bad7ef5822a25f789",
            "95cbafa19e2c40f681facacaa2ec57b8",
            "7cf4f2f1623648a694751f4557f3a410",
            "f0fc26d505154596b60f1b05bead40b9",
            "9baff606006f41d1823c8601a51161de",
            "8be8fef5f8df44c4b93a68734749da6f",
            "2176f0f6f84f46e0a34873b4428a4f8a",
            "c75406cea367418a919ff1a37085a905",
            "53c0b87da13f4270abde3534d746bb08",
            "24d705a441d84cd1b8fdc25cbf1914be",
            "b73cedcfe52f4770a70c1872057408ed",
            "4fa689a57caf4d1c97cfe769c15564f2",
            "2bedb624581f49ee865ec2094779adbf",
            "686fd40cf879482789290680de6fb4cc",
            "821a14f14f5940ffb7d58782377c1a7b",
            "1d2538414d264064846448ee0372e2b3",
            "fc08676c73d74d81a3cdcf020ba577f7",
            "74810321c96e43e2800e916dcf8fd79d",
            "a39ed3d6c8314cb2a5fa0970d21968d7",
            "21ac5338af8f4d37b73f018eb31f252c",
            "dc134bbf274346f7bb98298c0a15f046",
            "eb95147f5ead4b76a375a8f2aedc52f0",
            "8438653b37fd4daea6431e65a2c51d1a",
            "c7299f4003d847b886dcb10c6b01bcd4",
            "8b1c9fc5462e40f1a7433e9771f2c088",
            "f12b39ed723c4b5093cd75679f558762",
            "374869ae43234569af82b4dcba370dfb",
            "eed3314a049a4e18be8938858a42e15c",
            "864cf580a3e64c9891201f56894118fd",
            "d2e86e8b323a441eb232c3d3bb3e5100",
            "83a5462fc6e340f58852485b236e7853",
            "402fe6b23b2c4eddba9df7a575ee95a5",
            "309b550b687b4b1e9e264893b8338b5e",
            "8ddd345f520844ff99ee0585a9637d00",
            "4c5eca5f92f94071a8b84c47afc2c35f",
            "8e77d334fc3b443b91ad13e05c1d914a",
            "e22d1d757df14b16b354178e8647a739",
            "62ca3442c2e44657aedd836fae1db399",
            "8165928f13b54b3d90c4d3b6d1325dae",
            "fa10935cb9ab4c50a93aa9273adabecf",
            "d89903cb4336475d92e7e6167432e728",
            "70fe999fee0e4e3bbc45a4ff6e86ee62",
            "575d70cc8dcd4b8cb854e61342e7542b",
            "fd23e7d32992439c850e9ff80d1020ea",
            "6fa440be16cf4d78922c00181076946c",
            "70515b22d65e4b7892f4441b84e1716b",
            "4d6226dfe23040dcba7a79862e4bbf6e",
            "a50d035c1e30454facbde4f80dda9cc0",
            "87de8c0cfb604ba9a0a55aeccf3badcd",
            "c5d2e3e20cd84aca84eb4b365808fd78",
            "713f93d847624a86a095ca99646b59c4",
            "5783b33e18534067ad4389c37913843f",
            "e6e4f3cbb8424469a24d3fa1d01af712",
            "add78f0b39cf4031802581de8f635ac9",
            "0c315ba05d284763bd680793c272efbc",
            "5136f9130ca04cd086e98e59c1ee9b8e",
            "ceff45bee09c4d8ba35546ba214a2f94",
            "46e492794f784ee4adde69e5e8c492b8",
            "9d55440e1d2f494eb635b579d6cfaec7",
            "251e6e305505461198b3c9be277a85c7",
            "c8a3681399034995a5f5d89dc86f266e",
            "7d4cc38becf44beab64b8ad0df87d076",
            "d821691ac820474e8f484cda4022e68e",
            "fbc722b8e09e4cb3a109a62659614cb9",
            "1f650f1bd9614d76a0b503c086b970aa",
            "34a27ca575e84b9ba5b98da5f11fda45",
            "20e36f033f1549cca356dc5b56306033",
            "0da15dd38f4b41f2be2cffebb6f67058",
            "63c4c15b356c4757b183acb850a5e319",
            "4f8cd8f8eb9345edba24ca8ed0582f79",
            "eae31c32d789439783d7e44b77276048",
            "1b015f44cb694f59813d705101a476c7",
            "cdd52ec8027843a980e9091c579fc474",
            "e48a2aa378664e80876715a88c283b3e",
            "d0be968c82d44622831a6d94d9324f0a",
            "0d428ca7364f429b90027d77fc0889fc",
            "4486a8de3908472e97e8f3d49fb493c4",
            "f797386fa54e470aa9a640c4e2938dbf",
            "329504e85ad1442fbea7419cd6b65891",
            "e8c4b64d9f8b4277822df78ecdd8ef2e",
            "9543699c76b544e98f3b49ff61868f26",
            "1c8b759fc7c94641a98757d7c5c68572",
            "2ea97770767a42d0847085ac86316d82",
            "f37ec0bcebeb464a8eb5bb00a76569bd",
            "e2a41f94ef3b42b8afe641aa0bcc6aba",
            "3f6b16c0c9c54fc180ac21197170c82b",
            "c0615dffb73b4adba971da570dc18b05",
            "d82951b1d0ec454b8da87d1ddc29334b",
            "03f24de2731a49a19c395edd3b982b90",
            "f6daa8cc092e4c48909b25da33d14777",
            "8bf3111304f04b7ead046e08b7be07e0",
            "8d5a39fd1baa446db5131e33d353cace",
            "039de93477f340df959f67c4e6d2c0ae",
            "59e9cd9883b94bd89bff70f33ededad4",
            "3c340f67a0974be6b5a8a29d2553ca9c",
            "09f800c0caef4d17a29e7beeb1800161",
            "e070a09a5d1048d0bb0f8617d6a568be",
            "62312ff8de0c437db4cd3c09d2789cf0",
            "99d097744bd34226b3c001e60c61ed91",
            "33757d55f576429a81b536071b47e7ea",
            "cd8e3874f6f1487cb3be0a0b44b4c1e0",
            "5740b651ead141daacb941f44fdb3ebf",
            "a11910af963b41788b85824b43603aae",
            "db93b325bd9042a6a5ccc4c2f67527a6",
            "078b10d8ca0c40a28d5ae0fc45c108c1",
            "5d0cfafb6ab847e89743c439dfab3a62",
            "06a24353b53346fcbb5cf1b52bebd3a3",
            "a3302c81ee7545dea17ae74d6892986f",
            "0f2f705c57cf4750a274f5f83c0f7d9c",
            "c801e6c87d4f46719ce10a9778ca34f0",
            "5425a45b248c475db424cee49954e847",
            "fc7470b1f5d34c948a23b2e1df013274",
            "30cc50f1cb274d489758a5a3a14b881d",
            "c1fd81ad4eda405cacc3e9b13d26d4ec",
            "78198967b1814401bd15a0f0b3d32370",
            "679daeb911244ac7bacd13a4682c8dda",
            "1dec4910e2634e5f836d9df88a9689de",
            "e3c7f367f0a3405b9d1be16ff7ec66bc",
            "f68f48006c3149a391e5dac5e18d8314",
            "5efef358a5de438988f58351317bbbf1",
            "5ddaefc08b9d4185b3a00a2e18d3d84e",
            "b990b9631a5c48f3907771aac57a5a03",
            "6e585bc6d2fc417f882f571ed7623f27",
            "bf6f96383a8347aabcf5be9f0f658823",
            "20a05c99562b4ac598aafc7345e444ca",
            "6adddf86696a45cf8061c81e587881be",
            "f44329e7afcf4bd08ea9c45e55c84a6e",
            "0c6bb7cdbbe44073a9b3c24ba28d2175",
            "766b3271e27b4777a21b320ffd00a797",
            "431952ef459149c8840ae55a9ceeb55f",
            "e957e8009d5a4a05ae50c1048f708652",
            "85e27ec9d4e1449a941ca6e77fc9c425",
            "eaf8cc40406b4a4c9f92d5278bb7c571",
            "f7f85f45b7344afaa52a27cbfaf48fc0",
            "d69bddf0d87e418b9762b2420f16e7e4",
            "43ed78a304aa4445a19b26d70994c22b",
            "407b61484332416197384cc20af743ce",
            "cf98e53b18f8409ba880f5dae4a7286a",
            "230d40072327423fa3d10c2bbf00037e",
            "6464591739134d7ead30481ace426c41",
            "2016e1cf44984f1aa53a2f299d44b9b4",
            "8673a2ffedcc467da9fe1305a8e4bb2d",
            "49bb28323c4c47a8a0418f980429f576",
            "8a3cf62f3f5647ff816fdea912401ef5",
            "ca10500255c54f09a9d7ad4ac2cf1327",
            "23957a6786124d839c1f8bd622792d20",
            "a37ebe0518fd483f9c550c8a9be0bfc9",
            "f5554c507cb14b8fba578459dd7f652c",
            "10b82a2ea0484c2d851cb590223099fd",
            "d701396dc3524dab8d51d41e485685a5",
            "8b30e0a7cbee4fee8c34c06b4d5757c5",
            "7ece043062db40cda0a8fcec498b1d63",
            "058699b9b9754c3e9cffcc40155bda70",
            "7615fdcb9f8f46d0a4b168b071b33af6",
            "d7baa46ecc3e4df883b9863e247ee9d9",
            "f23c49eec74240faa1d6e52af0a4fd2e",
            "6c856c144e444c49a87533751496d77c",
            "6d76849585ed49448be5649e0f0c1a12",
            "3c0368fbc9264ab5834a3f1131cf38d9",
            "c23726ef541940a0a878245b798bc905",
            "f4ed138b986c465b86505c7619115519",
            "40ca64a66a8d4d35963c601df8fe6b11",
            "ff88c5de4020406a948000933a0dd0e1"
          ]
        }
      },
      "execution_count": null,
      "outputs": [
        {
          "output_type": "display_data",
          "data": {
            "text/plain": [
              ".gitattributes:   0%|          | 0.00/1.23k [00:00<?, ?B/s]"
            ],
            "application/vnd.jupyter.widget-view+json": {
              "version_major": 2,
              "version_minor": 0,
              "model_id": "c7a3c7a42539423087ea8d4197829fa4"
            }
          },
          "metadata": {}
        },
        {
          "output_type": "display_data",
          "data": {
            "text/plain": [
              "1_Pooling/config.json:   0%|          | 0.00/190 [00:00<?, ?B/s]"
            ],
            "application/vnd.jupyter.widget-view+json": {
              "version_major": 2,
              "version_minor": 0,
              "model_id": "00fa85390aa241a7a95286125d858155"
            }
          },
          "metadata": {}
        },
        {
          "output_type": "display_data",
          "data": {
            "text/plain": [
              "README.md:   0%|          | 0.00/10.7k [00:00<?, ?B/s]"
            ],
            "application/vnd.jupyter.widget-view+json": {
              "version_major": 2,
              "version_minor": 0,
              "model_id": "24d705a441d84cd1b8fdc25cbf1914be"
            }
          },
          "metadata": {}
        },
        {
          "output_type": "display_data",
          "data": {
            "text/plain": [
              "config.json:   0%|          | 0.00/612 [00:00<?, ?B/s]"
            ],
            "application/vnd.jupyter.widget-view+json": {
              "version_major": 2,
              "version_minor": 0,
              "model_id": "dc134bbf274346f7bb98298c0a15f046"
            }
          },
          "metadata": {}
        },
        {
          "output_type": "display_data",
          "data": {
            "text/plain": [
              "config_sentence_transformers.json:   0%|          | 0.00/116 [00:00<?, ?B/s]"
            ],
            "application/vnd.jupyter.widget-view+json": {
              "version_major": 2,
              "version_minor": 0,
              "model_id": "402fe6b23b2c4eddba9df7a575ee95a5"
            }
          },
          "metadata": {}
        },
        {
          "output_type": "display_data",
          "data": {
            "text/plain": [
              "data_config.json:   0%|          | 0.00/39.3k [00:00<?, ?B/s]"
            ],
            "application/vnd.jupyter.widget-view+json": {
              "version_major": 2,
              "version_minor": 0,
              "model_id": "575d70cc8dcd4b8cb854e61342e7542b"
            }
          },
          "metadata": {}
        },
        {
          "output_type": "display_data",
          "data": {
            "text/plain": [
              "model.safetensors:   0%|          | 0.00/90.9M [00:00<?, ?B/s]"
            ],
            "application/vnd.jupyter.widget-view+json": {
              "version_major": 2,
              "version_minor": 0,
              "model_id": "add78f0b39cf4031802581de8f635ac9"
            }
          },
          "metadata": {}
        },
        {
          "output_type": "display_data",
          "data": {
            "text/plain": [
              "model.onnx:   0%|          | 0.00/90.4M [00:00<?, ?B/s]"
            ],
            "application/vnd.jupyter.widget-view+json": {
              "version_major": 2,
              "version_minor": 0,
              "model_id": "1f650f1bd9614d76a0b503c086b970aa"
            }
          },
          "metadata": {}
        },
        {
          "output_type": "display_data",
          "data": {
            "text/plain": [
              "pytorch_model.bin:   0%|          | 0.00/90.9M [00:00<?, ?B/s]"
            ],
            "application/vnd.jupyter.widget-view+json": {
              "version_major": 2,
              "version_minor": 0,
              "model_id": "0d428ca7364f429b90027d77fc0889fc"
            }
          },
          "metadata": {}
        },
        {
          "output_type": "display_data",
          "data": {
            "text/plain": [
              "sentence_bert_config.json:   0%|          | 0.00/53.0 [00:00<?, ?B/s]"
            ],
            "application/vnd.jupyter.widget-view+json": {
              "version_major": 2,
              "version_minor": 0,
              "model_id": "c0615dffb73b4adba971da570dc18b05"
            }
          },
          "metadata": {}
        },
        {
          "output_type": "display_data",
          "data": {
            "text/plain": [
              "special_tokens_map.json:   0%|          | 0.00/112 [00:00<?, ?B/s]"
            ],
            "application/vnd.jupyter.widget-view+json": {
              "version_major": 2,
              "version_minor": 0,
              "model_id": "62312ff8de0c437db4cd3c09d2789cf0"
            }
          },
          "metadata": {}
        },
        {
          "output_type": "display_data",
          "data": {
            "text/plain": [
              "tokenizer.json:   0%|          | 0.00/466k [00:00<?, ?B/s]"
            ],
            "application/vnd.jupyter.widget-view+json": {
              "version_major": 2,
              "version_minor": 0,
              "model_id": "0f2f705c57cf4750a274f5f83c0f7d9c"
            }
          },
          "metadata": {}
        },
        {
          "output_type": "display_data",
          "data": {
            "text/plain": [
              "tokenizer_config.json:   0%|          | 0.00/350 [00:00<?, ?B/s]"
            ],
            "application/vnd.jupyter.widget-view+json": {
              "version_major": 2,
              "version_minor": 0,
              "model_id": "5efef358a5de438988f58351317bbbf1"
            }
          },
          "metadata": {}
        },
        {
          "output_type": "display_data",
          "data": {
            "text/plain": [
              "train_script.py:   0%|          | 0.00/13.2k [00:00<?, ?B/s]"
            ],
            "application/vnd.jupyter.widget-view+json": {
              "version_major": 2,
              "version_minor": 0,
              "model_id": "e957e8009d5a4a05ae50c1048f708652"
            }
          },
          "metadata": {}
        },
        {
          "output_type": "display_data",
          "data": {
            "text/plain": [
              "vocab.txt:   0%|          | 0.00/232k [00:00<?, ?B/s]"
            ],
            "application/vnd.jupyter.widget-view+json": {
              "version_major": 2,
              "version_minor": 0,
              "model_id": "8673a2ffedcc467da9fe1305a8e4bb2d"
            }
          },
          "metadata": {}
        },
        {
          "output_type": "display_data",
          "data": {
            "text/plain": [
              "modules.json:   0%|          | 0.00/349 [00:00<?, ?B/s]"
            ],
            "application/vnd.jupyter.widget-view+json": {
              "version_major": 2,
              "version_minor": 0,
              "model_id": "058699b9b9754c3e9cffcc40155bda70"
            }
          },
          "metadata": {}
        },
        {
          "output_type": "stream",
          "name": "stdout",
          "text": [
            "load INSTRUCTOR_Transformer\n",
            "max_seq_length  512\n",
            "CPU times: user 9.74 s, sys: 647 ms, total: 10.4 s\n",
            "Wall time: 18.2 s\n"
          ]
        }
      ]
    },
    {
      "cell_type": "markdown",
      "source": [
        "If creating embeddings, remember that on Kaggle we can not write data to the input folder.\n",
        "\n",
        "So just write (save) the embeddings to the output folder and then load them from there."
      ],
      "metadata": {
        "id": "GyLNz-_IXPn9"
      }
    },
    {
      "cell_type": "markdown",
      "source": [
        "# Load vector database\n",
        "\n",
        "- After saving the vector database, we just load it from the Kaggle Dataset I mentioned\n",
        "- Obviously, the embeddings function to load the embeddings must be the same as the one used to create the embeddings"
      ],
      "metadata": {
        "id": "mJiqwWFyXPn9"
      }
    },
    {
      "cell_type": "code",
      "source": [
        "%%time\n",
        "\n",
        "from langchain.embeddings import HuggingFaceInstructEmbeddings\n",
        "from langchain.vectorstores import FAISS\n",
        "\n",
        "# Download embeddings model\n",
        "embeddings = HuggingFaceInstructEmbeddings(\n",
        "    model_name=CFG.embeddings_model_repo,\n",
        "    model_kwargs={\"device\": \"cuda\"}\n",
        ")\n",
        "\n",
        "# Load vector DB embeddings\n",
        "vectordb = FAISS.load_local(\n",
        "    CFG.Embeddings_path,  # from input folder\n",
        "    embeddings,\n",
        "    allow_dangerous_deserialization=True  # Allow deserialization\n",
        ")\n",
        "\n",
        "from IPython.display import clear_output\n",
        "clear_output()\n",
        "\n",
        "print(\"FAISS vector database loaded successfully!\")\n"
      ],
      "metadata": {
        "execution": {
          "iopub.status.busy": "2024-06-12T16:40:46.163572Z",
          "iopub.execute_input": "2024-06-12T16:40:46.164488Z",
          "iopub.status.idle": "2024-06-12T16:40:46.314241Z",
          "shell.execute_reply.started": "2024-06-12T16:40:46.164453Z",
          "shell.execute_reply": "2024-06-12T16:40:46.313310Z"
        },
        "trusted": true,
        "id": "Qlfufc63XPn9",
        "outputId": "af680e85-4676-453f-eeef-0f6fcab79c37",
        "colab": {
          "base_uri": "https://localhost:8080/",
          "height": 436
        }
      },
      "execution_count": null,
      "outputs": [
        {
          "output_type": "stream",
          "name": "stdout",
          "text": [
            "load INSTRUCTOR_Transformer\n",
            "max_seq_length  512\n"
          ]
        },
        {
          "output_type": "error",
          "ename": "RuntimeError",
          "evalue": "Error in faiss::FileIOReader::FileIOReader(const char*) at /project/faiss/faiss/impl/io.cpp:68: Error: 'f' failed: could not open /content/faiss-hp-sentence-transformers/index.faiss for reading: No such file or directory",
          "traceback": [
            "\u001b[0;31m---------------------------------------------------------------------------\u001b[0m",
            "\u001b[0;31mRuntimeError\u001b[0m                              Traceback (most recent call last)",
            "\u001b[0;32m<timed exec>\u001b[0m in \u001b[0;36m<module>\u001b[0;34m\u001b[0m\n",
            "\u001b[0;32m/usr/local/lib/python3.10/dist-packages/langchain_community/vectorstores/faiss.py\u001b[0m in \u001b[0;36mload_local\u001b[0;34m(cls, folder_path, embeddings, index_name, allow_dangerous_deserialization, **kwargs)\u001b[0m\n\u001b[1;32m   1090\u001b[0m         \u001b[0;31m# load index separately since it is not picklable\u001b[0m\u001b[0;34m\u001b[0m\u001b[0;34m\u001b[0m\u001b[0m\n\u001b[1;32m   1091\u001b[0m         \u001b[0mfaiss\u001b[0m \u001b[0;34m=\u001b[0m \u001b[0mdependable_faiss_import\u001b[0m\u001b[0;34m(\u001b[0m\u001b[0;34m)\u001b[0m\u001b[0;34m\u001b[0m\u001b[0;34m\u001b[0m\u001b[0m\n\u001b[0;32m-> 1092\u001b[0;31m         \u001b[0mindex\u001b[0m \u001b[0;34m=\u001b[0m \u001b[0mfaiss\u001b[0m\u001b[0;34m.\u001b[0m\u001b[0mread_index\u001b[0m\u001b[0;34m(\u001b[0m\u001b[0mstr\u001b[0m\u001b[0;34m(\u001b[0m\u001b[0mpath\u001b[0m \u001b[0;34m/\u001b[0m \u001b[0;34mf\"{index_name}.faiss\"\u001b[0m\u001b[0;34m)\u001b[0m\u001b[0;34m)\u001b[0m\u001b[0;34m\u001b[0m\u001b[0;34m\u001b[0m\u001b[0m\n\u001b[0m\u001b[1;32m   1093\u001b[0m \u001b[0;34m\u001b[0m\u001b[0m\n\u001b[1;32m   1094\u001b[0m         \u001b[0;31m# load docstore and index_to_docstore_id\u001b[0m\u001b[0;34m\u001b[0m\u001b[0;34m\u001b[0m\u001b[0m\n",
            "\u001b[0;32m/usr/local/lib/python3.10/dist-packages/faiss/swigfaiss.py\u001b[0m in \u001b[0;36mread_index\u001b[0;34m(*args)\u001b[0m\n\u001b[1;32m   9847\u001b[0m \u001b[0;34m\u001b[0m\u001b[0m\n\u001b[1;32m   9848\u001b[0m \u001b[0;32mdef\u001b[0m \u001b[0mread_index\u001b[0m\u001b[0;34m(\u001b[0m\u001b[0;34m*\u001b[0m\u001b[0margs\u001b[0m\u001b[0;34m)\u001b[0m\u001b[0;34m:\u001b[0m\u001b[0;34m\u001b[0m\u001b[0;34m\u001b[0m\u001b[0m\n\u001b[0;32m-> 9849\u001b[0;31m     \u001b[0;32mreturn\u001b[0m \u001b[0m_swigfaiss\u001b[0m\u001b[0;34m.\u001b[0m\u001b[0mread_index\u001b[0m\u001b[0;34m(\u001b[0m\u001b[0;34m*\u001b[0m\u001b[0margs\u001b[0m\u001b[0;34m)\u001b[0m\u001b[0;34m\u001b[0m\u001b[0;34m\u001b[0m\u001b[0m\n\u001b[0m\u001b[1;32m   9850\u001b[0m \u001b[0;34m\u001b[0m\u001b[0m\n\u001b[1;32m   9851\u001b[0m \u001b[0;32mdef\u001b[0m \u001b[0mread_index_binary\u001b[0m\u001b[0;34m(\u001b[0m\u001b[0;34m*\u001b[0m\u001b[0margs\u001b[0m\u001b[0;34m)\u001b[0m\u001b[0;34m:\u001b[0m\u001b[0;34m\u001b[0m\u001b[0;34m\u001b[0m\u001b[0m\n",
            "\u001b[0;31mRuntimeError\u001b[0m: Error in faiss::FileIOReader::FileIOReader(const char*) at /project/faiss/faiss/impl/io.cpp:68: Error: 'f' failed: could not open /content/faiss-hp-sentence-transformers/index.faiss for reading: No such file or directory"
          ]
        }
      ]
    },
    {
      "source": [
        "%%time\n",
        "\n",
        "from langchain.embeddings import HuggingFaceInstructEmbeddings\n",
        "from langchain.vectorstores import FAISS\n",
        "\n",
        "# Download embeddings model\n",
        "embeddings = HuggingFaceInstructEmbeddings(\n",
        "    model_name=CFG.embeddings_model_repo,\n",
        "    model_kwargs={\"device\": \"cuda\"}\n",
        ")\n",
        "\n",
        "# Load vector DB embeddings\n",
        "# Make sure that the path to the index file is correct and the file exists\n",
        "vectordb = FAISS.load_local(\n",
        "    f\"{CFG.Output_folder}/faiss_index_hp\",  # Load from the output folder where it was saved\n",
        "    embeddings,\n",
        "    allow_dangerous_deserialization=True  # Allow deserialization\n",
        ")\n",
        "\n",
        "from IPython.display import clear_output\n",
        "clear_output()\n",
        "\n",
        "print(\"FAISS vector database loaded successfully!\")"
      ],
      "cell_type": "code",
      "metadata": {
        "colab": {
          "base_uri": "https://localhost:8080/"
        },
        "id": "z5QyA9SsFWvQ",
        "outputId": "3f0fb65b-f5bf-41a3-9128-f04bc55379f8"
      },
      "execution_count": null,
      "outputs": [
        {
          "output_type": "stream",
          "name": "stdout",
          "text": [
            "FAISS vector database loaded successfully!\n",
            "CPU times: user 146 ms, sys: 48.2 ms, total: 194 ms\n",
            "Wall time: 97 ms\n"
          ]
        }
      ]
    },
    {
      "cell_type": "code",
      "source": [
        "# %%time\n",
        "\n",
        "# ### download embeddings model\n",
        "# embeddings = HuggingFaceInstructEmbeddings(\n",
        "#     model_name = CFG.embeddings_model_repo,\n",
        "#     model_kwargs = {\"device\": \"cuda\"}\n",
        "# )\n",
        "\n",
        "# ### load vector DB embeddings\n",
        "# vectordb = FAISS.load_local(\n",
        "#     CFG.Embeddings_path, # from input folder\n",
        "# #     CFG.Output_folder + '/faiss_index_hp', # from output folder\n",
        "#     embeddings\n",
        "# )\n",
        "\n",
        "# clear_output()"
      ],
      "metadata": {
        "_kg_hide-output": false,
        "execution": {
          "iopub.status.busy": "2024-06-12T16:40:59.970323Z",
          "iopub.execute_input": "2024-06-12T16:40:59.970762Z",
          "iopub.status.idle": "2024-06-12T16:41:00.313910Z",
          "shell.execute_reply.started": "2024-06-12T16:40:59.970729Z",
          "shell.execute_reply": "2024-06-12T16:41:00.312991Z"
        },
        "trusted": true,
        "id": "4zexl4NqXPn9"
      },
      "execution_count": null,
      "outputs": []
    },
    {
      "cell_type": "code",
      "source": [
        "### test if vector DB was loaded correctly\n",
        "vectordb.similarity_search('magic creatures')"
      ],
      "metadata": {
        "execution": {
          "iopub.status.busy": "2024-06-12T16:41:07.257048Z",
          "iopub.execute_input": "2024-06-12T16:41:07.257421Z",
          "iopub.status.idle": "2024-06-12T16:41:07.302351Z",
          "shell.execute_reply.started": "2024-06-12T16:41:07.257389Z",
          "shell.execute_reply": "2024-06-12T16:41:07.301444Z"
        },
        "trusted": true,
        "id": "JSVeaUfjXPn9",
        "outputId": "481b9097-cd01-41b5-925a-3a23f67c3c44",
        "colab": {
          "base_uri": "https://localhost:8080/"
        }
      },
      "execution_count": null,
      "outputs": [
        {
          "output_type": "execute_result",
          "data": {
            "text/plain": [
              "[Document(page_content='First-year\\tstudents\\twill\\trequire:\\n1.\\tThree\\tsets\\tof\\tplain\\twork\\trobes\\t(black)\\n2.\\tOne\\tplain\\tpointed\\that\\t(black)\\tfor\\tday\\twear\\n3.\\tOne\\tpair\\tof\\tprotective\\tgloves\\t(dragon\\thide\\tor\\tsimilar)\\n4.\\tOne\\twinter\\tcloak\\t(black,\\tsilver\\tfastenings)\\nPlease\\tnote\\tthat\\tall\\tpupils’\\tclothes\\tshould\\tcarry\\tname\\ttags\\n\\t\\nCOURSE\\tBOOKS\\nAll\\tstudents\\tshould\\thave\\ta\\tcopy\\tof\\teach\\tof\\tthe\\tfollowing:\\nThe\\tStandard\\tBook\\tof\\tSpells\\t(Grade\\t1)\\t\\nby\\tMiranda\\tGoshawk\\nA\\tHistory\\tof\\tMagic\\t\\nby\\tBathilda\\tBagshot\\nMagical\\tTheory\\t\\nby\\tAdalbert\\tWaffling\\nA\\tBeginners’\\tGuide\\tto\\tTransfiguration\\t\\nby\\tEmeric\\tSwitch\\nOne\\tThousand\\tMagical\\tHerbs\\tand\\tFungi\\t\\nby\\tPhyllida\\tSpore\\nMagical\\tDrafts\\tand\\tPotions\\t\\nby\\tArsenius\\tJigger\\nFantastic\\tBeasts\\tand\\tWhere\\tto\\tFind\\tThem\\t\\nby\\tNewt\\tScamander\\nThe\\tDark\\tForces:\\tA\\tGuide\\tto\\tSelf-Protection\\t\\nby\\tQuentin\\tTrimble\\n\\t\\nOTHER\\tEQUIPMENT', metadata={'source': '/content/books/harry-potter-sorcerers-stone.pdf', 'page': 50}),\n",
              " Document(page_content='Harry\\tsat\\tand\\tthought\\tabout\\tthis\\twhile\\tHagrid\\tread\\this\\tnewspaper,\\tthe\\nDaily\\tProphet.\\tHarry\\thad\\tlearned\\tfrom\\tUncle\\tVernon\\tthat\\tpeople\\tliked\\tto\\tbe\\tleft\\nalone\\twhile\\tthey\\tdid\\tthis,\\tbut\\tit\\twas\\tvery\\tdifficult,\\the’d\\tnever\\thad\\tso\\tmany\\nquestions\\tin\\this\\tlife.\\n\\t\\t\\t\\t\\t\\t“Ministry\\to’\\tMagic\\tmessin’\\tthings\\tup\\tas\\tusual,”\\tHagrid\\tmuttered,\\tturning\\nthe\\tpage.\\n\\t\\t\\t\\t\\t\\t“There’s\\ta\\tMinistry\\tof\\tMagic?”\\tHarry\\tasked,\\tbefore\\the\\tcould\\tstop\\nhimself.\\n\\t\\t\\t\\t\\t\\t“’Course,”\\tsaid\\tHagrid.\\t“They\\twanted\\tDumbledore\\tfer\\tMinister,\\to’\\ncourse,\\tbut\\the’d\\tnever\\tleave\\tHogwarts,\\tso\\told\\tCornelius\\tFudge\\tgot\\tthe\\tjob.\\nBungler\\tif\\tever\\tthere\\twas\\tone.\\tSo\\the\\tpelts\\tDumbledore\\twith\\towls\\tevery\\tmorning,\\naskin’\\tfer\\tadvice.”\\n\\t\\t\\t\\t\\t\\t“But\\twhat\\tdoes\\ta\\tMinistry\\tof\\tMagic\\tdo?”\\n\\t\\t\\t\\t\\t\\t“Well,\\ttheir\\tmain\\tjob\\tis\\tto\\tkeep\\tit\\tfrom\\tthe\\tMuggles\\tthat\\tthere’s\\tstill', metadata={'source': '/content/books/harry-potter-sorcerers-stone.pdf', 'page': 49}),\n",
              " Document(page_content='announced\\tin\\tCharms\\tthat\\the\\tthought\\tthey\\twere\\tready\\tto\\tstart\\tmaking\\tobjects\\tfly,\\nsomething\\tthey\\thad\\tall\\tbeen\\tdying\\tto\\ttry\\tsince\\tthey’d\\tseen\\thim\\tmake\\tNeville’s\\ntoad\\tzoom\\taround\\tthe\\tclassroom.\\tProfessor\\tFlitwick\\tput\\tthe\\tclass\\tinto\\tpairs\\tto\\npractice.\\tHarry’s\\tpartner\\twas\\tSeamus\\tFinnigan\\t(which\\twas\\ta\\trelief,\\tbecause', metadata={'source': '/content/books/harry-potter-sorcerers-stone.pdf', 'page': 122}),\n",
              " Document(page_content='vacation\\twith\\ther\\tpockets\\tfull\\tof\\tfrog\\tspawn,\\tturning\\tteacups\\tinto\\trats.\\tI\\twas\\tthe\\nonly\\tone\\twho\\tsaw\\ther\\tfor\\twhat\\tshe\\twas\\t—\\ta\\tfreak!\\tBut\\tfor\\tmy\\tmother\\tand\\nfather,\\toh\\tno,\\tit\\twas\\tLily\\tthis\\tand\\tLily\\tthat,\\tthey\\twere\\tproud\\tof\\thaving\\ta\\twitch\\tin\\nthe\\tfamily!”\\n\\t\\t\\t\\t\\t\\tShe\\tstopped\\tto\\tdraw\\ta\\tdeep\\tbreath\\tand\\tthen\\twent\\tranting\\ton.\\tIt\\tseemed\\nshe\\thad\\tbeen\\twanting\\tto\\tsay\\tall\\tthis\\tfor\\tyears.\\n\\t\\t\\t\\t\\t\\t“Then\\tshe\\tmet\\tthat\\tPotter\\tat\\tschool\\tand\\tthey\\tleft\\tand\\tgot\\tmarried\\tand\\thad\\nyou,\\tand\\tof\\tcourse\\tI\\tknew\\tyou’d\\tbe\\tjust\\tthe\\tsame,\\tjust\\tas\\tstrange,\\tjust\\tas\\t—\\tas\\t—\\nabnormal\\t—\\tand\\tthen,\\tif\\tyou\\tplease,\\tshe\\twent\\tand\\tgot\\therself\\tblown\\tup\\tand\\twe\\ngot\\tlanded\\twith\\tyou!”', metadata={'source': '/content/books/harry-potter-sorcerers-stone.pdf', 'page': 40})]"
            ]
          },
          "metadata": {},
          "execution_count": 39
        }
      ]
    },
    {
      "cell_type": "markdown",
      "source": [
        "# Prompt Template\n",
        "\n",
        "- Custom prompt"
      ],
      "metadata": {
        "id": "xNGbBGUiXPn9"
      }
    },
    {
      "cell_type": "code",
      "source": [
        "prompt_template = \"\"\"\n",
        "Don't try to make up an answer, if you don't know just say that you don't know.\n",
        "Answer in the same language the question was asked.\n",
        "Use only the following pieces of context to answer the question at the end.\n",
        "\n",
        "{context}\n",
        "\n",
        "Question: {question}\n",
        "Answer:\"\"\"\n",
        "\n",
        "\n",
        "PROMPT = PromptTemplate(\n",
        "    template = prompt_template,\n",
        "    input_variables = [\"context\", \"question\"]\n",
        ")"
      ],
      "metadata": {
        "execution": {
          "iopub.status.busy": "2024-06-12T16:41:26.724736Z",
          "iopub.execute_input": "2024-06-12T16:41:26.725512Z",
          "iopub.status.idle": "2024-06-12T16:41:26.730213Z",
          "shell.execute_reply.started": "2024-06-12T16:41:26.725460Z",
          "shell.execute_reply": "2024-06-12T16:41:26.729059Z"
        },
        "trusted": true,
        "id": "lpDsPX90XPn-"
      },
      "execution_count": null,
      "outputs": []
    },
    {
      "cell_type": "code",
      "source": [
        "# llm_chain = LLMChain(prompt=PROMPT, llm=llm)\n",
        "# llm_chain"
      ],
      "metadata": {
        "execution": {
          "iopub.status.busy": "2024-03-03T04:56:30.410886Z",
          "iopub.execute_input": "2024-03-03T04:56:30.411175Z",
          "iopub.status.idle": "2024-03-03T04:56:30.421165Z",
          "shell.execute_reply.started": "2024-03-03T04:56:30.41115Z",
          "shell.execute_reply": "2024-03-03T04:56:30.420262Z"
        },
        "trusted": true,
        "id": "W5HhZNREXPn-"
      },
      "execution_count": null,
      "outputs": []
    },
    {
      "cell_type": "markdown",
      "source": [
        "# Retriever chain\n",
        "\n",
        "- Retriever to retrieve relevant passages\n",
        "- Chain to answer questions\n",
        "- [RetrievalQA: Chain for question-answering](https://python.langchain.com/docs/modules/data_connection/retrievers/)"
      ],
      "metadata": {
        "id": "-dmclH0iXPn-"
      }
    },
    {
      "cell_type": "code",
      "source": [
        "retriever = vectordb.as_retriever(search_kwargs = {\"k\": CFG.k, \"search_type\" : \"similarity\"})\n",
        "\n",
        "qa_chain = RetrievalQA.from_chain_type(\n",
        "    llm = llm,\n",
        "    chain_type = \"stuff\", # map_reduce, map_rerank, stuff, refine\n",
        "    retriever = retriever,\n",
        "    chain_type_kwargs = {\"prompt\": PROMPT},\n",
        "    return_source_documents = True,\n",
        "    verbose = False\n",
        ")"
      ],
      "metadata": {
        "execution": {
          "iopub.status.busy": "2024-06-12T16:41:34.608451Z",
          "iopub.execute_input": "2024-06-12T16:41:34.608836Z",
          "iopub.status.idle": "2024-06-12T16:41:34.614983Z",
          "shell.execute_reply.started": "2024-06-12T16:41:34.608804Z",
          "shell.execute_reply": "2024-06-12T16:41:34.613985Z"
        },
        "trusted": true,
        "id": "nwVYJ4XeXPn-"
      },
      "execution_count": null,
      "outputs": []
    },
    {
      "cell_type": "code",
      "source": [
        "### testing MMR search\n",
        "question = \"Which are Hagrid's favorite animals?\"\n",
        "vectordb.max_marginal_relevance_search(question, k = CFG.k)"
      ],
      "metadata": {
        "execution": {
          "iopub.status.busy": "2024-06-12T16:42:10.133356Z",
          "iopub.execute_input": "2024-06-12T16:42:10.133847Z",
          "iopub.status.idle": "2024-06-12T16:42:10.159622Z",
          "shell.execute_reply.started": "2024-06-12T16:42:10.133811Z",
          "shell.execute_reply": "2024-06-12T16:42:10.158712Z"
        },
        "trusted": true,
        "id": "n0B7vHPSXPn-",
        "outputId": "754fccfd-37c2-475c-9748-3bbd3f600232",
        "colab": {
          "base_uri": "https://localhost:8080/"
        }
      },
      "execution_count": null,
      "outputs": [
        {
          "output_type": "execute_result",
          "data": {
            "text/plain": [
              "[Document(page_content='“Hagrid’s\\talways\\twanted\\ta\\tdragon,\\the\\ttold\\tme\\tso\\tthe\\tfirst\\ttime\\tI\\tever\\tmet\\nhim,\\t“\\tsaid\\tHarry.\\n\\t\\t\\t\\t\\t\\t“But\\tit’s\\tagainst\\tour\\tlaws,”\\tsaid\\tRon.\\t“Dragon\\tbreeding\\twas\\toutlawed\\tby\\nthe\\tWarlocks’\\tConvention\\tof\\t1709,\\teveryone\\tknows\\tthat.\\tIt’s\\thard\\tto\\tstop\\nMuggles\\tfrom\\tnoticing\\tus\\tif\\twe’re\\tkeeping\\tdragons\\tin\\tthe\\tback\\tgarden\\t—\\nanyway,\\tyou\\tcan’t\\ttame\\tdragons,\\tit’s\\tdangerous.\\tYou\\tshould\\tsee\\tthe\\tburns\\nCharlie’s\\tgot\\toff\\twild\\tones\\tin\\tRomania.”\\n\\t\\t\\t\\t\\t\\t“But\\tthere\\taren’t\\twild\\tdragons\\tin\\tBritain?”\\tsaid\\tHarry.\\n\\t\\t\\t\\t\\t\\t“Of\\tcourse\\tthere\\tare,”\\tsaid\\tRon.\\t“Common\\tWelsh\\tGreen\\tand\\tHebridean\\nBlacks.\\tThe\\tMinistry\\tof\\tMagic\\thas\\ta\\tjob\\thushing\\tthem\\tup,\\tI\\tcan\\ttell\\tyou.\\tOur\\nkind\\thave\\tto\\tkeep\\tputting\\tspells\\ton\\tMuggles\\twho’ve\\tspotted\\tthem,\\tto\\tmake\\tthem\\nforget.”\\n\\t\\t\\t\\t\\t\\t“So\\twhat\\ton\\tearth’s\\tHagrid\\tup\\tto?”\\tsaid\\tHermione.', metadata={'source': '/content/books/harry-potter-sorcerers-stone.pdf', 'page': 166}),\n",
              " Document(page_content='decide\\twhich\\tto\\task\\tfirst.\\tAfter\\ta\\tfew\\tminutes\\the\\tstammered,\\t“What\\tdoes\\tit\\nmean,\\tthey\\tawait\\tmy\\towl?”\\n\\t\\t\\t\\t\\t\\t“Gallopin’\\tGorgons,\\tthat\\treminds\\tme,”\\tsaid\\tHagrid,\\tclapping\\ta\\thand\\tto\\nhis\\tforehead\\twith\\tenough\\tforce\\tto\\tknock\\tover\\ta\\tcart\\thorse,\\tand\\tfrom\\tyet\\tanother', metadata={'source': '/content/books/harry-potter-sorcerers-stone.pdf', 'page': 39}),\n",
              " Document(page_content='were\\tlooking\\tfor?\\n\\t\\t\\t\\t\\t\\tAs\\tHarry\\tand\\tRon\\twalked\\tback\\tto\\tthe\\tcastle\\tfor\\tdinner,\\ttheir\\tpockets\\nweighed\\tdown\\twith\\trock\\tcakes\\tthey’d\\tbeen\\ttoo\\tpolite\\tto\\trefuse,\\tHarry\\tthought\\nthat\\tnone\\tof\\tthe\\tlessons\\the’d\\thad\\tso\\tfar\\thad\\tgiven\\thim\\tas\\tmuch\\tto\\tthink\\tabout\\tas\\ntea\\twith\\tHagrid.\\tHad\\tHagrid\\tcollected\\tthat\\tpackage\\tjust\\tin\\ttime?\\tWhere\\twas\\tit\\nnow?\\tAnd\\tdid\\tHagrid\\tknow\\tsomething\\tabout\\tSnape\\tthat\\the\\tdidn’t\\twant\\tto\\ttell\\nHarry?', metadata={'source': '/content/books/harry-potter-sorcerers-stone.pdf', 'page': 102}),\n",
              " Document(page_content='several\\tbooming\\tbarks.\\tThen\\tHagrid’s\\tvoice\\trang\\tout,\\tsaying,\\t“Back,\\tFang\\t—\\nback.”\\n\\t\\t\\t\\t\\t\\tHagrid’s\\tbig,\\thairy\\tface\\tappeared\\tin\\tthe\\tcrack\\tas\\the\\tpulled\\tthe\\tdoor\\topen.\\n\\t\\t\\t\\t\\t\\t“Hang\\ton,”\\the\\tsaid.\\t“Back,\\tFang.”\\n\\t\\t\\t\\t\\t\\tHe\\tlet\\tthem\\tin,\\tstruggling\\tto\\tkeep\\ta\\thold\\ton\\tthe\\tcollar\\tof\\tan\\tenormous\\nblack\\tboarhound.\\n\\t\\t\\t\\t\\t\\tThere\\twas\\tonly\\tone\\troom\\tinside.\\tHams\\tand\\tpheasants\\twere\\thanging\\tfrom\\nthe\\tceiling,\\ta\\tcopper\\tkettle\\twas\\tboiling\\ton\\tthe\\topen\\tfire,\\tand\\tin\\tthe\\tcorner\\tstood\\ta\\nmassive\\tbed\\twith\\ta\\tpatchwork\\tquilt\\tover\\tit.\\n\\t\\t\\t\\t\\t\\t“Make\\tyerselves\\tat\\thome,”\\tsaid\\tHagrid,\\tletting\\tgo\\tof\\tFang,\\twho\\tbounded\\nstraight\\tat\\tRon\\tand\\tstarted\\tlicking\\this\\tears.\\tLike\\tHagrid,\\tFang\\twas\\tclearly\\tnot\\tas\\nfierce\\tas\\the\\tlooked.\\n\\t\\t\\t\\t\\t\\t“This\\tis\\tRon,”\\tHarry\\ttold\\tHagrid,\\twho\\twas\\tpouring\\tboiling\\twater\\tinto\\ta', metadata={'source': '/content/books/harry-potter-sorcerers-stone.pdf', 'page': 100}),\n",
              " Document(page_content='“Well,\\tso\\tthey\\tsay,”\\tsaid\\tHagrid.\\t“Crikey,\\tI’d\\tlike\\ta\\tdragon.”', metadata={'source': '/content/books/harry-potter-sorcerers-stone.pdf', 'page': 49}),\n",
              " Document(page_content='Hagrid?”\\tsaid\\tHarry\\tanxiously.\\t“And\\tyou\\twouldn’t\\ttell\\tanyone,\\twould\\tyou?\\tNot\\neven\\tone\\tof\\tthe\\tteachers?”\\n\\t\\t\\t\\t\\t\\t“Not\\ta\\tsoul\\tknows\\texcept\\tme\\tan’\\tDumbledore,”\\tsaid\\tHagrid\\tproudly.', metadata={'source': '/content/books/harry-potter-sorcerers-stone.pdf', 'page': 167})]"
            ]
          },
          "metadata": {},
          "execution_count": 43
        }
      ]
    },
    {
      "cell_type": "code",
      "source": [
        "### testing similarity search\n",
        "question = \"Which are Hagrid's favorite animals?\"\n",
        "vectordb.similarity_search(question, k = CFG.k)"
      ],
      "metadata": {
        "execution": {
          "iopub.status.busy": "2024-06-12T16:42:20.736332Z",
          "iopub.execute_input": "2024-06-12T16:42:20.736809Z",
          "iopub.status.idle": "2024-06-12T16:42:20.756102Z",
          "shell.execute_reply.started": "2024-06-12T16:42:20.736775Z",
          "shell.execute_reply": "2024-06-12T16:42:20.755159Z"
        },
        "trusted": true,
        "id": "DM4kGyRlXPn-",
        "outputId": "607f486c-a36b-49c3-8cba-7b727d448ee2",
        "colab": {
          "base_uri": "https://localhost:8080/"
        }
      },
      "execution_count": null,
      "outputs": [
        {
          "output_type": "execute_result",
          "data": {
            "text/plain": [
              "[Document(page_content='“Hagrid’s\\talways\\twanted\\ta\\tdragon,\\the\\ttold\\tme\\tso\\tthe\\tfirst\\ttime\\tI\\tever\\tmet\\nhim,\\t“\\tsaid\\tHarry.\\n\\t\\t\\t\\t\\t\\t“But\\tit’s\\tagainst\\tour\\tlaws,”\\tsaid\\tRon.\\t“Dragon\\tbreeding\\twas\\toutlawed\\tby\\nthe\\tWarlocks’\\tConvention\\tof\\t1709,\\teveryone\\tknows\\tthat.\\tIt’s\\thard\\tto\\tstop\\nMuggles\\tfrom\\tnoticing\\tus\\tif\\twe’re\\tkeeping\\tdragons\\tin\\tthe\\tback\\tgarden\\t—\\nanyway,\\tyou\\tcan’t\\ttame\\tdragons,\\tit’s\\tdangerous.\\tYou\\tshould\\tsee\\tthe\\tburns\\nCharlie’s\\tgot\\toff\\twild\\tones\\tin\\tRomania.”\\n\\t\\t\\t\\t\\t\\t“But\\tthere\\taren’t\\twild\\tdragons\\tin\\tBritain?”\\tsaid\\tHarry.\\n\\t\\t\\t\\t\\t\\t“Of\\tcourse\\tthere\\tare,”\\tsaid\\tRon.\\t“Common\\tWelsh\\tGreen\\tand\\tHebridean\\nBlacks.\\tThe\\tMinistry\\tof\\tMagic\\thas\\ta\\tjob\\thushing\\tthem\\tup,\\tI\\tcan\\ttell\\tyou.\\tOur\\nkind\\thave\\tto\\tkeep\\tputting\\tspells\\ton\\tMuggles\\twho’ve\\tspotted\\tthem,\\tto\\tmake\\tthem\\nforget.”\\n\\t\\t\\t\\t\\t\\t“So\\twhat\\ton\\tearth’s\\tHagrid\\tup\\tto?”\\tsaid\\tHermione.', metadata={'source': '/content/books/harry-potter-sorcerers-stone.pdf', 'page': 166}),\n",
              " Document(page_content='Hagrid?”\\tsaid\\tHarry\\tanxiously.\\t“And\\tyou\\twouldn’t\\ttell\\tanyone,\\twould\\tyou?\\tNot\\neven\\tone\\tof\\tthe\\tteachers?”\\n\\t\\t\\t\\t\\t\\t“Not\\ta\\tsoul\\tknows\\texcept\\tme\\tan’\\tDumbledore,”\\tsaid\\tHagrid\\tproudly.', metadata={'source': '/content/books/harry-potter-sorcerers-stone.pdf', 'page': 167}),\n",
              " Document(page_content='Hagrid\\tsidled\\tthrough\\tthe\\tdoor\\tas\\the\\tspoke.\\tAs\\tusual\\twhen\\the\\twas\\nindoors,\\tHagrid\\tlooked\\ttoo\\tbig\\tto\\tbe\\tallowed.\\tHe\\tsat\\tdown\\tnext\\tto\\tHarry,\\ttook\\none\\tlook\\tat\\thim,\\tand\\tburst\\tinto\\ttears.\\n\\t\\t\\t\\t\\t\\t“It’s\\t—\\tall\\t—\\tmy\\t—\\truddy\\t—\\tfault!”\\the\\tsobbed,\\this\\tface\\tin\\this\\thands.\\tI\\ntold\\tthe\\tevil\\tgit\\thow\\tter\\tget\\tpast\\tFluffy!\\tI\\ttold\\thim!\\tIt\\twas\\tthe\\tonly\\tthing\\the\\ndidn’t\\tknow,\\tan’\\tI\\ttold\\thim!\\tYeh\\tcould’ve\\tdied!\\tAll\\tfer\\ta\\tdragon\\tegg!\\tI’ll\\tnever\\ndrink\\tagain!\\tI\\tshould\\tbe\\tchucked\\tout\\tan’\\tmade\\tter\\tlive\\tas\\ta\\tMuggle!”\\n\\t\\t\\t\\t\\t\\t“Hagrid!”\\tsaid\\tHarry,\\tshocked\\tto\\tsee\\tHagrid\\tshaking\\twith\\tgrief\\tand\\nremorse,\\tgreat\\ttears\\tleaking\\tdown\\tinto\\this\\tbeard.\\t“Hagrid,\\the’d\\thave\\tfound\\tout\\nsomehow,\\tthis\\tis\\tVoldemort\\twe’re\\ttalking\\tabout,\\the’d\\thave\\tfound\\tout\\teven\\tif\\tyou\\nhadn’t\\ttold\\thim.”', metadata={'source': '/content/books/harry-potter-sorcerers-stone.pdf', 'page': 216}),\n",
              " Document(page_content='“Well,\\tso\\tthey\\tsay,”\\tsaid\\tHagrid.\\t“Crikey,\\tI’d\\tlike\\ta\\tdragon.”', metadata={'source': '/content/books/harry-potter-sorcerers-stone.pdf', 'page': 49}),\n",
              " Document(page_content='when\\tthey\\twalked\\tin.\\tEveryone\\tseemed\\tto\\tknow\\tHagrid;\\tthey\\twaved\\tand\\tsmiled\\nat\\thim,\\tand\\tthe\\tbartender\\treached\\tfor\\ta\\tglass,\\tsaying,\\t“The\\tusual,\\tHagrid?”\\n\\t\\t\\t\\t\\t\\t“Can’t,\\tTom,\\tI’m\\ton\\tHogwarts\\tbusiness,”\\tsaid\\tHagrid,\\tclapping\\this\\tgreat', metadata={'source': '/content/books/harry-potter-sorcerers-stone.pdf', 'page': 51}),\n",
              " Document(page_content='“It\\tbit\\tme!”\\the\\tsaid,\\tshowing\\tthem\\this\\thand,\\twhich\\twas\\twrapped\\tin\\ta\\nbloody\\thandkerchief.\\t“I’m\\tnot\\tgoing\\tto\\tbe\\table\\tto\\thold\\ta\\tquill\\tfor\\ta\\tweek.\\tI\\ttell\\nyou,\\tthat\\tdragon’s\\tthe\\tmost\\thorrible\\tanimal\\tI’ve\\tever\\tmet,\\tbut\\tthe\\tway\\tHagrid\\ngoes\\ton\\tabout\\tit,\\tyou’d\\tthink\\tit\\twas\\ta\\tfluffy\\tlittle\\tbunny\\trabbit.\\tWhen\\tit\\tbit\\tme\\the\\ntold\\tme\\toff\\tfor\\tfrightening\\tit.\\tAnd\\twhen\\tI\\tleft,\\the\\twas\\tsinging\\tit\\ta\\tlullaby.”\\n\\t\\t\\t\\t\\t\\tThere\\twas\\ta\\ttap\\ton\\tthe\\tdark\\twindow.\\n\\t\\t\\t\\t\\t\\t“It’s\\tHedwig!”\\tsaid\\tHarry,\\thurrying\\tto\\tlet\\ther\\tin.\\t“She’ll\\thave\\tCharlie’s\\nanswer!”\\n\\t\\t\\t\\t\\t\\tThe\\tthree\\tof\\tthem\\tput\\ttheir\\theads\\ttogether\\tto\\tread\\tthe\\tnote.\\n\\t\\t\\t\\t\\t\\nDear\\tRon,\\n\\t\\nHow\\tare\\tyou?\\tThanks\\tfor\\tthe\\tletter\\t—\\tI’d\\tbe\\tglad\\tto\\ttake\\tthe\\tNorwegian', metadata={'source': '/content/books/harry-potter-sorcerers-stone.pdf', 'page': 170})]"
            ]
          },
          "metadata": {},
          "execution_count": 44
        }
      ]
    },
    {
      "cell_type": "markdown",
      "source": [
        "# Post-process outputs\n",
        "\n",
        "- Format llm response\n",
        "- Cite sources (PDFs)\n",
        "- Change `width` parameter to format the output"
      ],
      "metadata": {
        "id": "RkqWL2TnXPn-"
      }
    },
    {
      "cell_type": "code",
      "source": [
        "def wrap_text_preserve_newlines(text, width=700):\n",
        "    # Split the input text into lines based on newline characters\n",
        "    lines = text.split('\\n')\n",
        "\n",
        "    # Wrap each line individually\n",
        "    wrapped_lines = [textwrap.fill(line, width=width) for line in lines]\n",
        "\n",
        "    # Join the wrapped lines back together using newline characters\n",
        "    wrapped_text = '\\n'.join(wrapped_lines)\n",
        "\n",
        "    return wrapped_text\n",
        "\n",
        "\n",
        "def process_llm_response(llm_response):\n",
        "    ans = wrap_text_preserve_newlines(llm_response['result'])\n",
        "\n",
        "    sources_used = ' \\n'.join(\n",
        "        [\n",
        "            source.metadata['source'].split('/')[-1][:-4]\n",
        "            + ' - page: '\n",
        "            + str(source.metadata['page'])\n",
        "            for source in llm_response['source_documents']\n",
        "        ]\n",
        "    )\n",
        "\n",
        "    ans = ans + '\\n\\nSources: \\n' + sources_used\n",
        "    return ans"
      ],
      "metadata": {
        "execution": {
          "iopub.status.busy": "2024-06-12T16:42:31.486468Z",
          "iopub.execute_input": "2024-06-12T16:42:31.486818Z",
          "iopub.status.idle": "2024-06-12T16:42:31.494013Z",
          "shell.execute_reply.started": "2024-06-12T16:42:31.486791Z",
          "shell.execute_reply": "2024-06-12T16:42:31.492825Z"
        },
        "trusted": true,
        "id": "BkztDm4-XPn_"
      },
      "execution_count": null,
      "outputs": []
    },
    {
      "cell_type": "code",
      "source": [
        "def llm_ans(query):\n",
        "    start = time.time()\n",
        "\n",
        "    llm_response = qa_chain.invoke(query)\n",
        "    ans = process_llm_response(llm_response)\n",
        "\n",
        "    end = time.time()\n",
        "\n",
        "    time_elapsed = int(round(end - start, 0))\n",
        "    time_elapsed_str = f'\\n\\nTime elapsed: {time_elapsed} s'\n",
        "    return ans + time_elapsed_str"
      ],
      "metadata": {
        "execution": {
          "iopub.status.busy": "2024-06-12T16:42:36.808561Z",
          "iopub.execute_input": "2024-06-12T16:42:36.809812Z",
          "iopub.status.idle": "2024-06-12T16:42:36.816919Z",
          "shell.execute_reply.started": "2024-06-12T16:42:36.809769Z",
          "shell.execute_reply": "2024-06-12T16:42:36.815652Z"
        },
        "trusted": true,
        "id": "pr6-fu3GXPn_"
      },
      "execution_count": null,
      "outputs": []
    },
    {
      "cell_type": "markdown",
      "source": [
        "# Ask questions\n",
        "\n",
        "- Question Answering from multiple documents\n",
        "- Invoke QA Chain\n",
        "- Talk to your data"
      ],
      "metadata": {
        "id": "_qvKN64CXPn_"
      }
    },
    {
      "cell_type": "code",
      "source": [
        "CFG.model_name"
      ],
      "metadata": {
        "execution": {
          "iopub.status.busy": "2024-06-12T16:42:39.896360Z",
          "iopub.execute_input": "2024-06-12T16:42:39.896787Z",
          "iopub.status.idle": "2024-06-12T16:42:39.902725Z",
          "shell.execute_reply.started": "2024-06-12T16:42:39.896752Z",
          "shell.execute_reply": "2024-06-12T16:42:39.901843Z"
        },
        "trusted": true,
        "id": "E5KZNFo7XPn_",
        "outputId": "f9afad7a-cca5-4cbc-cff2-cd90016141ad",
        "colab": {
          "base_uri": "https://localhost:8080/",
          "height": 35
        }
      },
      "execution_count": null,
      "outputs": [
        {
          "output_type": "execute_result",
          "data": {
            "text/plain": [
              "'llama2-13b-chat'"
            ],
            "application/vnd.google.colaboratory.intrinsic+json": {
              "type": "string"
            }
          },
          "metadata": {},
          "execution_count": 47
        }
      ]
    },
    {
      "cell_type": "code",
      "source": [
        "query = \"Which challenges does Harry face during the Triwizard Tournament?\"\n",
        "print(llm_ans(query))"
      ],
      "metadata": {
        "execution": {
          "iopub.status.busy": "2024-06-12T16:42:43.516501Z",
          "iopub.execute_input": "2024-06-12T16:42:43.517361Z",
          "iopub.status.idle": "2024-06-12T16:42:48.223105Z",
          "shell.execute_reply.started": "2024-06-12T16:42:43.517331Z",
          "shell.execute_reply": "2024-06-12T16:42:48.222059Z"
        },
        "trusted": true,
        "id": "RgRPbvKhXPn_",
        "outputId": "a3efa879-ad05-4796-c9ee-46cfcbe6af39",
        "colab": {
          "base_uri": "https://localhost:8080/"
        }
      },
      "execution_count": null,
      "outputs": [
        {
          "output_type": "stream",
          "name": "stdout",
          "text": [
            "\n",
            "Don't try to make up an answer, if you don't know just say that you don't know.\n",
            "Answer in the same language the question was asked.\n",
            "Use only the following pieces of context to answer the question at the end.\n",
            "\n",
            "dad     says    it      must’ve been    a       powerful        Dark    wizard  to      get     round   Gringotts,      but     they\n",
            "don’t   think   they    took    anything,       that’s  what’s  odd.    ’Course,        everyone        gets    scared\n",
            "when    something       like    this    happens in      case    You-Know-Who’s  behind  it.”\n",
            "                                                Harry   turned  this    news    over    in      his     mind.   He      was     starting        to      get     a       prickle\n",
            "of      fear    every   time    You-Know-Who    was     mentioned.      He      supposed        this    was     all\n",
            "part    of      entering        the     magical world,  but     it      had     been    a       lot     more    comfortable     saying\n",
            "“Voldemort”     without worrying.\n",
            "                                                “What’s your    Quidditch       team?”  Ron     asked.\n",
            "                                                “Er     —       I       don’t   know    any.”   Harry   confessed.\n",
            "                                                “What!” Ron     looked  dumbfounded.    “Oh,    you     wait,   it’s    the     best    game    in\n",
            "the     world   —”      And     he      was     off,    explaining      all     about   the     four    balls   and     the\n",
            "\n",
            "HP      1       -       Harry   Potter  and     the\n",
            "Sorcerer's      Stone\n",
            "\n",
            "HP      1       -       Harry   Potter  and     the\n",
            "Sorcerer's      Stone\n",
            "\n",
            "HP      1       -       Harry   Potter  and     the\n",
            "Sorcerer's      Stone\n",
            "\n",
            "HP      1       -       Harry   Potter  and     the\n",
            "Sorcerer's      Stone\n",
            "\n",
            "HP      1       -       Harry   Potter  and     the\n",
            "Sorcerer's      Stone\n",
            "\n",
            "Question: Which challenges does Harry face during the Triwizard Tournament?\n",
            "Answer: There are no challenges for Harry during the Triwizard Tournament because he is not a participant and does not have any knowledge about Quidditch or the tournament.\n",
            "\n",
            "Sources: \n",
            "harry-potter-sorcerers-stone - page: 77 \n",
            "harry-potter-sorcerers-stone - page: 174 \n",
            "harry-potter-sorcerers-stone - page: 35 \n",
            "harry-potter-sorcerers-stone - page: 15 \n",
            "harry-potter-sorcerers-stone - page: 24 \n",
            "harry-potter-sorcerers-stone - page: 3\n",
            "\n",
            "Time elapsed: 4 s\n"
          ]
        }
      ]
    },
    {
      "cell_type": "code",
      "source": [
        "query = \"Why do the Malfoys look so unhappy with their lot? \"\n",
        "print(llm_ans(query))"
      ],
      "metadata": {
        "execution": {
          "iopub.status.busy": "2024-06-12T16:42:56.609751Z",
          "iopub.execute_input": "2024-06-12T16:42:56.610086Z",
          "iopub.status.idle": "2024-06-12T16:42:59.269236Z",
          "shell.execute_reply.started": "2024-06-12T16:42:56.610059Z",
          "shell.execute_reply": "2024-06-12T16:42:59.268294Z"
        },
        "trusted": true,
        "id": "4OYdbo-qXPn_",
        "outputId": "31925d78-0c08-417a-f63b-9991b5987da9",
        "colab": {
          "base_uri": "https://localhost:8080/"
        }
      },
      "execution_count": null,
      "outputs": [
        {
          "output_type": "stream",
          "name": "stdout",
          "text": [
            "\n",
            "Don't try to make up an answer, if you don't know just say that you don't know.\n",
            "Answer in the same language the question was asked.\n",
            "Use only the following pieces of context to answer the question at the end.\n",
            "\n",
            "a       mist    before  them    and     they    kept    as      close   as      possible        to      their   hot     cauldrons.\n",
            "                                                “I      do      feel    so      sorry,” said    Draco   Malfoy, one     Potions class,  “for    all     those\n",
            "people  who     have    to      stay    at      Hogwarts        for     Christmas       because they’re not     wanted\n",
            "at      home.”\n",
            "                                                He      was     looking over    at      Harry   as      he      spoke.  Crabbe  and     Goyle   chuckled.\n",
            "Harry,  who     was     measuring       out     powdered        spine   of      lionfish,       ignored them.   Malfoy\n",
            "had     been    even    more    unpleasant      than    usual   since   the     Quidditch       match.  Disgusted\n",
            "that    the     Slytherins      had     lost,   he      had     tried   to      get     everyone        laughing        at      how     a       wide-\n",
            "mouthed tree    frog    would   be      replacing       Harry   as      Seeker  next.   Then    he’d    realized\n",
            "that    nobody  found   this    funny,  because they    were    all     so      impressed       at      the     way\n",
            "Harry   had     managed to      stay    on      his     bucking broomstick.     So      Malfoy, jealous and\n",
            "\n",
            "Malfoy’s        already done    that,”  Neville choked  out.\n",
            "\n",
            "Malfoy  swaggered       forward when    his     name    was     called  and     got     his     wish    at\n",
            "once:   the     hat     had     barely  touched his     head    when    it      screamed,       “SLYTHERIN!”\n",
            "                                                Malfoy  went    to      join    his     friends Crabbe  and     Goyle,  looking pleased with\n",
            "himself.\n",
            "                                                There   weren’t many    people  left    now.    “Moon”…,        “Nott”…,\n",
            "“Parkinson”…,   then    a       pair    of      twin    girls,  “Patil” and     “Patil”…,       then    “Perks,\n",
            "Sally-Anne”…,   and     then,   at      last    —\n",
            "                                                “Potter,        Harry!”\n",
            "                                                As      Harry   stepped forward,        whispers        suddenly        broke   out     like    little  hissing\n",
            "fires   all     over    the     hall.\n",
            "                                                “Potter,        did     she     say?”\n",
            "                                                “The    Harry   Potter?”\n",
            "                                                The     last    thing   Harry   saw     before  the     hat     dropped over    his     eyes    was     the\n",
            "hall    full    of      people  craning to      get     a       good    look    at      him.    Next    second  he      was     looking\n",
            "at      the     black   inside  of      the     hat.    He      waited.\n",
            "\n",
            "Whatever these people want to do to me, they can do.\n",
            "\n",
            "mean,   they’re like    a       pair    of      human   Bludgers        themselves.”\n",
            "\n",
            "them,   eh?     ‘Snot   your    place   ter     do      that.   Yeh’ve  done    yer     bit,    I’ll    take    over    from\n",
            "here.”\n",
            "\n",
            "Question: Why do the Malfoys look so unhappy with their lot?\n",
            "Answer: Because they are not wanted at home for Christmas.\n",
            "\n",
            "Sources: \n",
            "harry-potter-sorcerers-stone - page: 140 \n",
            "harry-potter-sorcerers-stone - page: 156 \n",
            "harry-potter-sorcerers-stone - page: 87 \n",
            "Inferno-Dan-Brown - page: 246 \n",
            "harry-potter-sorcerers-stone - page: 121 \n",
            "harry-potter-sorcerers-stone - page: 179\n",
            "\n",
            "Time elapsed: 2 s\n"
          ]
        }
      ]
    },
    {
      "cell_type": "code",
      "source": [
        "query = \"What are horcrux?\"\n",
        "print(llm_ans(query))"
      ],
      "metadata": {
        "execution": {
          "iopub.status.busy": "2024-06-12T16:43:04.109092Z",
          "iopub.execute_input": "2024-06-12T16:43:04.109457Z",
          "iopub.status.idle": "2024-06-12T16:43:06.698489Z",
          "shell.execute_reply.started": "2024-06-12T16:43:04.109425Z",
          "shell.execute_reply": "2024-06-12T16:43:06.697504Z"
        },
        "trusted": true,
        "id": "lDRZaw47XPn_",
        "outputId": "f1ca2ea6-5d5b-43b6-d3aa-6f4268c1b9b7",
        "colab": {
          "base_uri": "https://localhost:8080/"
        }
      },
      "execution_count": null,
      "outputs": [
        {
          "output_type": "stream",
          "name": "stdout",
          "text": [
            "\n",
            "Don't try to make up an answer, if you don't know just say that you don't know.\n",
            "Answer in the same language the question was asked.\n",
            "Use only the following pieces of context to answer the question at the end.\n",
            "\n",
            "Precisely as Langdon had anticipated, there was indeed something hidden beneath the gesso—a second\n",
            "layer of calligraphy—nine letters written directly onto the pale yellow surface of the original plaster.\n",
            "This time, however, the letters formed a word.\n",
            "\n",
            "Langdon nodded, feeling a chill to hear the word spoken aloud. “It’s a Latin mnemonic invented by the\n",
            "Vatican in the Middle Ages to remind Christians of the Seven Deadly Sins.\n",
            "Saligia\n",
            " is an acronym for:\n",
            "superbia\n",
            ",\n",
            "avaritia\n",
            ",\n",
            "luxuria\n",
            ",\n",
            "invidia\n",
            ",\n",
            "gula\n",
            ",\n",
            "ira\n",
            ", and\n",
            "acedia\n",
            ".”\n",
            "Sienna frowned. “Pride, greed, lust, envy, gluttony, wrath, and sloth.”\n",
            "Langdon was impressed. “You know Latin.”\n",
            "“I grew up Catholic. I know sin.”\n",
            "Langdon managed a smile as he returned his gaze to the seal, wondering again why it had been locked\n",
            "in a biotube as if it were dangerous.\n",
            "“I thought it was ivory,” Sienna said. “But it’s bone.” She slid the artifact into the sunlight and pointed\n",
            "to the lines on it. “Ivory forms in a diamond-shaped cross-hatching with translucent striations; bones form\n",
            "\n",
            "neatly  underneath      them.   There   was     a       note    pinned  to      it:\n",
            "Just    in      case.\n",
            "\n",
            "The odd choice of lodging, Langdon explained, had been anything but random. The Knights believed the documents the Priory sought were buried deep under the ruins—beneath the Holy of Holies, a sacred chamber where God Himself was believed to reside. Literally, the very center of the Jewish faith. For almost a decade, the nine Knights lived in the ruins, excavating in total secrecy through solid rock.\n",
            "Sophie looked over. \"And you said they discovered something?\"\n",
            "\n",
            "Over the past two decades, King's College Research Institute in Systematic Theology had used optical character recognition software in unison with linguistic translation devices to digitize and catalog an enormous collection of texts—encyclopedias of religion, religious biographies, sacred scriptures in dozens of languages, histories, Vatican letters, diaries of clerics, anything at all that qualified as writings on human spirituality. Because the massive collection was now in the form of bits and bytes rather than physical pages, the data was infinitely more accessible.\n",
            "Settling into one of the workstations, Gettum eyed the slip of paper and began typing. \"To begin, we'll run a straight Boolean with a few obvious keywords and see what happens.\"\n",
            "\"Thank you.\"\n",
            "Gettum typed in a few words:\n",
            "\n",
            "suggestion.\n",
            "\n",
            "Question: What are horcrux?\n",
            "Answer: Horcruxes are objects that contain pieces of soul.\n",
            "\n",
            "Sources: \n",
            "Inferno-Dan-Brown - page: 184 \n",
            "Inferno-Dan-Brown - page: 48 \n",
            "harry-potter-sorcerers-stone - page: 187 \n",
            "The Da Vinci Code Dan Brown - page: 133 \n",
            "The Da Vinci Code Dan Brown - page: 319 \n",
            "The Da Vinci Code Dan Brown - page: 287\n",
            "\n",
            "Time elapsed: 2 s\n"
          ]
        }
      ]
    },
    {
      "cell_type": "code",
      "source": [
        "query = \"What is the secret that the protagonist, Robert Langdon, is trying to uncover?\"\n",
        "print(llm_ans(query))"
      ],
      "metadata": {
        "execution": {
          "iopub.status.busy": "2024-06-12T16:43:52.158647Z",
          "iopub.execute_input": "2024-06-12T16:43:52.159002Z",
          "iopub.status.idle": "2024-06-12T16:43:57.218105Z",
          "shell.execute_reply.started": "2024-06-12T16:43:52.158975Z",
          "shell.execute_reply": "2024-06-12T16:43:57.217142Z"
        },
        "trusted": true,
        "id": "F64Ng1UKXPoA",
        "outputId": "40a31509-b83b-4e63-e53f-0a46c3630d6d",
        "colab": {
          "base_uri": "https://localhost:8080/"
        }
      },
      "execution_count": null,
      "outputs": [
        {
          "output_type": "stream",
          "name": "stdout",
          "text": [
            "\n",
            "Don't try to make up an answer, if you don't know just say that you don't know.\n",
            "Answer in the same language the question was asked.\n",
            "Use only the following pieces of context to answer the question at the end.\n",
            "\n",
            "Book signings: Robert Langdon to appear …\n",
            "Graduation address by Robert Langdon …\n",
            "Robert Langdon publishes Symbol primer for …\n",
            "The list was several pages long, and yet Langdon saw nothing recent—certainly nothing that would\n",
            "explain his current predicament.\n",
            "What happened last night?\n",
            " Langdon pushed on, accessing the Web site\n",
            "for\n",
            "The Florentine\n",
            ", an English-language newspaper published in Florence. He scanned the headlines,\n",
            "breaking-news sections, and police blog, seeing articles on an apartment fire, a government embezzling\n",
            "scandal, and assorted incidents of petty crime.\n",
            "Anything at all?!\n",
            "He paused at a breaking-news blurb about a city official who, last night, had died of a heart attack in\n",
            "\n",
            "CHAPTER 6\n",
            "Having squeezed beneath the security gate, Robert Langdon now stood just inside the entrance to\n",
            "the Grand Gallery. He was staring into the mouth of a long, deep canyon. On either side of the gallery, stark walls rose thirty feet, evaporating into the darkness above. The reddish glow of the service lighting sifted upward, casting an unnatural smolder across a staggering collection of Da Vincis, Titians, and Caravaggios that hung suspended from ceiling cables. Still lifes, religious scenes, and landscapes accompanied portraits of nobility and politicians.\n",
            "\n",
            "Langdon did not respond.\n",
            "\"I'll tell you what happens if the documents get out,\" Teabing said. \"The Vatican faces a crisis of faith unprecedented in its two-millennia history.\"\n",
            "After a long silence, Sophie said, \"But if it is the Church who is responsible for this attack, why would they act now? After all these years? The Priory keeps the Sangreal documents hidden. They pose no immediate threat to the Church.\"\n",
            "Teabing heaved an ominous sigh and glanced at Langdon. \"Robert, I assume you are familiar with the Priory's final charge?\"\n",
            "Langdon felt his breath catch at the thought. \"I am.\"\n",
            "\n",
            "Langdon felt himself losing touch fast. Whether or not Sophie Neveu had lost her mind was at this point up for grabs, but at least Langdon now understood why she was trying to help him. P.S. Find Robert Langdon. She apparently believed the curator had left her a cryptic postscript telling her to find Langdon. \"But why do you think his message was for you?\"\n",
            "\"The Vitruvian Man,\" she said flatly. \"That particular sketch has always been my favorite Da Vinci work. Tonight he used it to catch my attention.\"\n",
            "\"Hold on. You're saying the curator knew your favorite piece of art?\" She nodded. \"I'm sorry. This is all coming out of order. Jacques Saunière and I...\"\n",
            "\n",
            "“Yes! I was trying to figure out what you were doing, but it made no sense! You seemed to leave the\n",
            "church like a man on a mission, and so I followed you. When I saw you sneak into the baptistry, I decided\n",
            "it was time to confront you. I paid off the docent for a couple minutes alone in here.”\n",
            "“Gutsy move,” Langdon noted, “if you thought I had turned on you.”\n",
            "The man shook his head. “Something told me you would never do that. Professor Robert Langdon? I\n",
            "knew there had to be some other explanation. But amnesia? Incredible. I never would have guessed.”\n",
            "The man with the rash began scratching nervously again. “Listen, I was given only five minutes. We\n",
            "need to get out of here, now. If\n",
            "I\n",
            " found you, then the people trying to kill you might find you, too. There is\n",
            "\n",
            "Shortly afterward, Langdon received a postcard from an old friend—the Catholic Bishop of\n",
            "Philadelphia. The card simply read: Et tu, Robert?\n",
            "\"Robert,\" Sophie asked, \"you're certain we can trust this man?\"\n",
            "\"Absolutely. We're colleagues, he doesn't need money, and I happen to know he despises the French authorities. The French government taxes him at absurd rates because he bought a historic landmark. He'll be in no hurry to cooperate with Fache.\"\n",
            "Sophie stared out at the dark roadway. \"If we go to him, how much do you want to tell him?\"\n",
            "Langdon looked unconcerned. \"Believe me, Leigh Teabing knows more about the Priory of Sion and the Holy Grail than anyone on earth.\"\n",
            "Sophie eyed him. \"More than my grandfather?\"\n",
            "\"I meant more than anyone outside the brotherhood.\"\n",
            "\n",
            "Question: What is the secret that the protagonist, Robert Langdon, is trying to uncover?\n",
            "Answer: Based on the text, it appears that Robert Langdon is trying to uncover information about the Holy Grail and the Priory of Sion.\n",
            "\n",
            "Sources: \n",
            "Inferno-Dan-Brown - page: 32 \n",
            "The Da Vinci Code Dan Brown - page: 27 \n",
            "The Da Vinci Code Dan Brown - page: 225 \n",
            "The Da Vinci Code Dan Brown - page: 59 \n",
            "Inferno-Dan-Brown - page: 190 \n",
            "The Da Vinci Code Dan Brown - page: 184\n",
            "\n",
            "Time elapsed: 4 s\n"
          ]
        }
      ]
    },
    {
      "cell_type": "code",
      "source": [
        "query = \"What is the significance of the Dante Alighieri's Divine Comedy in the story?\"\n",
        "print(llm_ans(query))"
      ],
      "metadata": {
        "execution": {
          "iopub.status.busy": "2024-06-12T16:44:35.240203Z",
          "iopub.execute_input": "2024-06-12T16:44:35.240859Z",
          "iopub.status.idle": "2024-06-12T16:44:42.336733Z",
          "shell.execute_reply.started": "2024-06-12T16:44:35.240824Z",
          "shell.execute_reply": "2024-06-12T16:44:42.335798Z"
        },
        "trusted": true,
        "id": "keDLOsg8XPoA",
        "outputId": "1451b8a6-fc52-4942-c531-b7c518298b9f",
        "colab": {
          "base_uri": "https://localhost:8080/"
        }
      },
      "execution_count": null,
      "outputs": [
        {
          "output_type": "stream",
          "name": "stdout",
          "text": [
            "\n",
            "Don't try to make up an answer, if you don't know just say that you don't know.\n",
            "Answer in the same language the question was asked.\n",
            "Use only the following pieces of context to answer the question at the end.\n",
            "\n",
            "vernacular—the language of the people.\n",
            "Even so, it brilliantly fused religion, history, politics,\n",
            "philosophy, and social commentary in a tapestry of fiction that, while erudite, remained wholly accessible\n",
            "to the masses. The work became such a pillar of Italian culture that Dante’s writing style has been\n",
            "credited with nothing less than the codification of the modern Italian language.”\n",
            "Langdon paused a moment for effect and then whispered, “My friends, it is impossible to overstate the\n",
            "influence of Dante Alighieri’s work. Throughout all of history, with the sole exception perhaps of Holy\n",
            "Scripture, no single work of writing, art, music, or literature has inspired more tributes, imitations,\n",
            "variations, and annotations than\n",
            "The Divine Comedy.\n",
            "”\n",
            "\n",
            "and used even today in ceremonies honoring poet laureates and Nobel laureates.”\n",
            "Langdon quickly scrolled through several other images, all showing Dante in his red cap, red tunic,\n",
            "laurel wreath, and prominent nose. “And to round out your image of Dante, here is a statue from the Piazza\n",
            "di Santa Croce … and, of course, the famous fresco attributed to Giotto in the chapel of the Bargello.”\n",
            "Langdon left the slide of Giotto’s fresco on the screen and walked to the center of the stage.\n",
            "“As you are no doubt aware, Dante is best known for his monumental literary masterpiece—\n",
            "The\n",
            "Divine Comedy\n",
            "—a brutally vivid account of the author’s descent into hell, passage through purgatory, and\n",
            "eventual ascent into paradise to commune with God. By modern standards,\n",
            "The Divine Comedy\n",
            " has\n",
            "\n",
            "visiting scientists and students who may be exploring Dante for the first time. So, for those in the audience\n",
            "who have been too busy studying to read medieval Italian epics, I thought I’d begin with a quick overview\n",
            "of Dante—his life, his work, and why he is considered one of the most influential figures in all of\n",
            "history.”\n",
            "More applause.\n",
            "Using the tiny remote in his hand, Langdon called up a series of images of Dante, the first being Andrea\n",
            "del Castagno’s full-length portrait of the poet standing in a doorway, clutching a book of philosophy.\n",
            "\n",
            "fascination for them. Then again, the Dante death mask had a very strange history, especially recently, and\n",
            "Langdon was not the first to show a nearly maniacal fascination with it. “Well, tell me, what do you know\n",
            "about Dante?”\n",
            "The pretty, young blonde shrugged. “Just what everyone learns in school. Dante was an Italian poet\n",
            "most famous for writing\n",
            "The Divine Comedy\n",
            ", which describes his imagined journey through hell.”\n",
            "“Partially correct,” Marta replied. “In his poem, Dante eventually escapes hell, continues through\n",
            "purgatory, and finally arrives in paradise. If you ever read\n",
            "The Divine Comedy\n",
            ", you’ll see his journey is\n",
            "divided into three parts—\n",
            "Inferno\n",
            ",\n",
            "Purgatorio\n",
            ", and\n",
            "Paradiso\n",
            ".” Marta motioned for them to follow her\n",
            "\n",
            "“Professor?” she called out, panting. “Perhaps you … want to show your sister … some of the gallery\n",
            "… before we see his mask?”\n",
            "Langdon turned, seeming distracted, as if returning to the present from some far-off thought. “Excuse\n",
            "me?”\n",
            "Marta breathlessly pointed to a nearby display case. “One of the earliest … printed copies of\n",
            "The\n",
            "Divine Comedy\n",
            "?”\n",
            "When Langdon finally saw Marta dabbing her forehead and trying to catch her breath, he looked\n",
            "mortified. “Marta, forgive me! Of course, yes, a quick glance at the text would be wonderful.”\n",
            "Langdon hurried back, permitting Marta to guide them over to the antique case. Inside was a well-\n",
            "worn, leather-bound book, propped open to an ornate title page:\n",
            "La Divina Commedia: Dante Alighieri\n",
            ".\n",
            "\n",
            "along the balcony toward the museum entrance. “The reason the mask resides here in the Palazzo Vecchio\n",
            "has nothing to do with\n",
            "The Divine Comedy\n",
            ", though. It has to do with real history. Dante lived in Florence,\n",
            "and he loved this city as much as anyone could ever love a city. He was a very prominent and powerful\n",
            "Florentine, but there was a shift in political power, and Dante supported the wrong side, so he was exiled\n",
            "—thrown outside the city walls and told he could never come back.”\n",
            "Marta paused to catch her breath as they approached the museum entrance. Hands again on her hips, she\n",
            "leaned back and continued talking. “Some people claim that Dante’s exile is the reason why his death\n",
            "mask looks so sad, but I have another theory. I’m a bit of a romantic, and I think the sad face has more to\n",
            "\n",
            "Question: What is the significance of the Dante Alighieri's Divine Comedy in the story?\n",
            "Answer: In the story, Robert Langdon uses Dante Alighieri's Divine Comedy as a reference point to explain the historical context of Dante's life and works. He also mentions how the work has influenced literature and culture throughout history.\n",
            "\n",
            "Sources: \n",
            "Inferno-Dan-Brown - page: 66 \n",
            "Inferno-Dan-Brown - page: 66 \n",
            "Inferno-Dan-Brown - page: 65 \n",
            "Inferno-Dan-Brown - page: 123 \n",
            "Inferno-Dan-Brown - page: 124 \n",
            "Inferno-Dan-Brown - page: 123\n",
            "\n",
            "Time elapsed: 6 s\n"
          ]
        }
      ]
    },
    {
      "cell_type": "markdown",
      "source": [
        "# Gradio Chat UI\n",
        "\n",
        "- **<font color='orange'>At the moment this part only works on Google Colab. Gradio and Kaggle started having compatibility issues recently.</font>**\n",
        "- If you plan to use the interface, it is preferable to do so in Google Colab\n",
        "- I'll leave this section commented out for now\n",
        "- Chat UI prints below\n",
        "\n",
        "___\n",
        "\n",
        "- Create a chat UI with [Gradio](https://www.gradio.app/guides/quickstart)\n",
        "- [ChatInterface docs](https://www.gradio.app/docs/chatinterface)\n",
        "- The notebook should be running if you want to use the chat interface"
      ],
      "metadata": {
        "id": "WdRrDyHJXPoA"
      }
    },
    {
      "cell_type": "code",
      "source": [
        "import locale\n",
        "locale.getpreferredencoding = lambda: \"UTF-8\""
      ],
      "metadata": {
        "execution": {
          "iopub.status.busy": "2024-06-11T20:07:01.563556Z",
          "iopub.execute_input": "2024-06-11T20:07:01.564396Z",
          "iopub.status.idle": "2024-06-11T20:07:01.568736Z",
          "shell.execute_reply.started": "2024-06-11T20:07:01.564346Z",
          "shell.execute_reply": "2024-06-11T20:07:01.567751Z"
        },
        "trusted": true,
        "id": "7OvFKXCcXPoA"
      },
      "execution_count": null,
      "outputs": []
    },
    {
      "cell_type": "code",
      "source": [
        "! pip install --upgrade gradio -qq\n",
        "clear_output()"
      ],
      "metadata": {
        "execution": {
          "iopub.status.busy": "2024-06-11T20:07:09.042659Z",
          "iopub.execute_input": "2024-06-11T20:07:09.043017Z",
          "iopub.status.idle": "2024-06-11T20:07:35.341693Z",
          "shell.execute_reply.started": "2024-06-11T20:07:09.042991Z",
          "shell.execute_reply": "2024-06-11T20:07:35.340554Z"
        },
        "trusted": true,
        "id": "1keEJW4YXPoA"
      },
      "execution_count": null,
      "outputs": []
    },
    {
      "cell_type": "code",
      "source": [
        "# Update typing_extensions to the latest version\n",
        "!pip install --upgrade typing_extensions\n",
        "\n",
        "# Reinstall gradio to ensure all dependencies are met\n",
        "!pip install --upgrade gradio\n",
        "\n",
        "# Import gradio and print its version\n",
        "import gradio as gr\n",
        "print(gr.__version__)\n"
      ],
      "metadata": {
        "execution": {
          "iopub.status.busy": "2024-06-11T20:10:29.737669Z",
          "iopub.execute_input": "2024-06-11T20:10:29.738136Z",
          "iopub.status.idle": "2024-06-11T20:10:29.742504Z",
          "shell.execute_reply.started": "2024-06-11T20:10:29.738105Z",
          "shell.execute_reply": "2024-06-11T20:10:29.741560Z"
        },
        "trusted": true,
        "id": "bIM8A6TLXPoA",
        "colab": {
          "base_uri": "https://localhost:8080/"
        },
        "outputId": "1f754e96-ece9-4c69-cc61-c5ad2f065627"
      },
      "execution_count": null,
      "outputs": [
        {
          "output_type": "stream",
          "name": "stdout",
          "text": [
            "Requirement already satisfied: typing_extensions in /usr/local/lib/python3.10/dist-packages (4.12.2)\n",
            "Requirement already satisfied: gradio in /usr/local/lib/python3.10/dist-packages (4.36.1)\n",
            "Requirement already satisfied: aiofiles<24.0,>=22.0 in /usr/local/lib/python3.10/dist-packages (from gradio) (23.2.1)\n",
            "Requirement already satisfied: altair<6.0,>=4.2.0 in /usr/local/lib/python3.10/dist-packages (from gradio) (4.2.2)\n",
            "Requirement already satisfied: fastapi in /usr/local/lib/python3.10/dist-packages (from gradio) (0.111.0)\n",
            "Requirement already satisfied: ffmpy in /usr/local/lib/python3.10/dist-packages (from gradio) (0.3.2)\n",
            "Requirement already satisfied: gradio-client==1.0.1 in /usr/local/lib/python3.10/dist-packages (from gradio) (1.0.1)\n",
            "Requirement already satisfied: httpx>=0.24.1 in /usr/local/lib/python3.10/dist-packages (from gradio) (0.27.0)\n",
            "Requirement already satisfied: huggingface-hub>=0.19.3 in /usr/local/lib/python3.10/dist-packages (from gradio) (0.23.4)\n",
            "Requirement already satisfied: importlib-resources<7.0,>=1.3 in /usr/local/lib/python3.10/dist-packages (from gradio) (6.4.0)\n",
            "Requirement already satisfied: jinja2<4.0 in /usr/local/lib/python3.10/dist-packages (from gradio) (3.1.4)\n",
            "Requirement already satisfied: markupsafe~=2.0 in /usr/local/lib/python3.10/dist-packages (from gradio) (2.1.5)\n",
            "Requirement already satisfied: matplotlib~=3.0 in /usr/local/lib/python3.10/dist-packages (from gradio) (3.7.1)\n",
            "Requirement already satisfied: numpy<3.0,>=1.0 in /usr/local/lib/python3.10/dist-packages (from gradio) (1.25.2)\n",
            "Requirement already satisfied: orjson~=3.0 in /usr/local/lib/python3.10/dist-packages (from gradio) (3.10.5)\n",
            "Requirement already satisfied: packaging in /usr/local/lib/python3.10/dist-packages (from gradio) (24.1)\n",
            "Requirement already satisfied: pandas<3.0,>=1.0 in /usr/local/lib/python3.10/dist-packages (from gradio) (2.0.3)\n",
            "Requirement already satisfied: pillow<11.0,>=8.0 in /usr/local/lib/python3.10/dist-packages (from gradio) (9.4.0)\n",
            "Requirement already satisfied: pydantic>=2.0 in /usr/local/lib/python3.10/dist-packages (from gradio) (2.7.4)\n",
            "Requirement already satisfied: pydub in /usr/local/lib/python3.10/dist-packages (from gradio) (0.25.1)\n",
            "Requirement already satisfied: python-multipart>=0.0.9 in /usr/local/lib/python3.10/dist-packages (from gradio) (0.0.9)\n",
            "Requirement already satisfied: pyyaml<7.0,>=5.0 in /usr/local/lib/python3.10/dist-packages (from gradio) (6.0.1)\n",
            "Requirement already satisfied: ruff>=0.2.2 in /usr/local/lib/python3.10/dist-packages (from gradio) (0.4.10)\n",
            "Requirement already satisfied: semantic-version~=2.0 in /usr/local/lib/python3.10/dist-packages (from gradio) (2.10.0)\n",
            "Requirement already satisfied: tomlkit==0.12.0 in /usr/local/lib/python3.10/dist-packages (from gradio) (0.12.0)\n",
            "Requirement already satisfied: typer<1.0,>=0.12 in /usr/local/lib/python3.10/dist-packages (from gradio) (0.12.3)\n",
            "Requirement already satisfied: typing-extensions~=4.0 in /usr/local/lib/python3.10/dist-packages (from gradio) (4.12.2)\n",
            "Requirement already satisfied: urllib3~=2.0 in /usr/local/lib/python3.10/dist-packages (from gradio) (2.0.7)\n",
            "Requirement already satisfied: uvicorn>=0.14.0 in /usr/local/lib/python3.10/dist-packages (from gradio) (0.30.1)\n",
            "Requirement already satisfied: fsspec in /usr/local/lib/python3.10/dist-packages (from gradio-client==1.0.1->gradio) (2023.6.0)\n",
            "Requirement already satisfied: websockets<12.0,>=10.0 in /usr/local/lib/python3.10/dist-packages (from gradio-client==1.0.1->gradio) (11.0.3)\n",
            "Requirement already satisfied: entrypoints in /usr/local/lib/python3.10/dist-packages (from altair<6.0,>=4.2.0->gradio) (0.4)\n",
            "Requirement already satisfied: jsonschema>=3.0 in /usr/local/lib/python3.10/dist-packages (from altair<6.0,>=4.2.0->gradio) (4.19.2)\n",
            "Requirement already satisfied: toolz in /usr/local/lib/python3.10/dist-packages (from altair<6.0,>=4.2.0->gradio) (0.12.1)\n",
            "Requirement already satisfied: anyio in /usr/local/lib/python3.10/dist-packages (from httpx>=0.24.1->gradio) (3.7.1)\n",
            "Requirement already satisfied: certifi in /usr/local/lib/python3.10/dist-packages (from httpx>=0.24.1->gradio) (2024.6.2)\n",
            "Requirement already satisfied: httpcore==1.* in /usr/local/lib/python3.10/dist-packages (from httpx>=0.24.1->gradio) (1.0.5)\n",
            "Requirement already satisfied: idna in /usr/local/lib/python3.10/dist-packages (from httpx>=0.24.1->gradio) (3.7)\n",
            "Requirement already satisfied: sniffio in /usr/local/lib/python3.10/dist-packages (from httpx>=0.24.1->gradio) (1.3.1)\n",
            "Requirement already satisfied: h11<0.15,>=0.13 in /usr/local/lib/python3.10/dist-packages (from httpcore==1.*->httpx>=0.24.1->gradio) (0.14.0)\n",
            "Requirement already satisfied: filelock in /usr/local/lib/python3.10/dist-packages (from huggingface-hub>=0.19.3->gradio) (3.15.1)\n",
            "Requirement already satisfied: requests in /usr/local/lib/python3.10/dist-packages (from huggingface-hub>=0.19.3->gradio) (2.31.0)\n",
            "Requirement already satisfied: tqdm>=4.42.1 in /usr/local/lib/python3.10/dist-packages (from huggingface-hub>=0.19.3->gradio) (4.66.4)\n",
            "Requirement already satisfied: contourpy>=1.0.1 in /usr/local/lib/python3.10/dist-packages (from matplotlib~=3.0->gradio) (1.2.1)\n",
            "Requirement already satisfied: cycler>=0.10 in /usr/local/lib/python3.10/dist-packages (from matplotlib~=3.0->gradio) (0.12.1)\n",
            "Requirement already satisfied: fonttools>=4.22.0 in /usr/local/lib/python3.10/dist-packages (from matplotlib~=3.0->gradio) (4.53.0)\n",
            "Requirement already satisfied: kiwisolver>=1.0.1 in /usr/local/lib/python3.10/dist-packages (from matplotlib~=3.0->gradio) (1.4.5)\n",
            "Requirement already satisfied: pyparsing>=2.3.1 in /usr/local/lib/python3.10/dist-packages (from matplotlib~=3.0->gradio) (3.1.2)\n",
            "Requirement already satisfied: python-dateutil>=2.7 in /usr/local/lib/python3.10/dist-packages (from matplotlib~=3.0->gradio) (2.8.2)\n",
            "Requirement already satisfied: pytz>=2020.1 in /usr/local/lib/python3.10/dist-packages (from pandas<3.0,>=1.0->gradio) (2023.4)\n",
            "Requirement already satisfied: tzdata>=2022.1 in /usr/local/lib/python3.10/dist-packages (from pandas<3.0,>=1.0->gradio) (2024.1)\n",
            "Requirement already satisfied: annotated-types>=0.4.0 in /usr/local/lib/python3.10/dist-packages (from pydantic>=2.0->gradio) (0.7.0)\n",
            "Requirement already satisfied: pydantic-core==2.18.4 in /usr/local/lib/python3.10/dist-packages (from pydantic>=2.0->gradio) (2.18.4)\n",
            "Requirement already satisfied: click>=8.0.0 in /usr/local/lib/python3.10/dist-packages (from typer<1.0,>=0.12->gradio) (8.1.7)\n",
            "Requirement already satisfied: shellingham>=1.3.0 in /usr/local/lib/python3.10/dist-packages (from typer<1.0,>=0.12->gradio) (1.5.4)\n",
            "Requirement already satisfied: rich>=10.11.0 in /usr/local/lib/python3.10/dist-packages (from typer<1.0,>=0.12->gradio) (13.7.1)\n",
            "Requirement already satisfied: starlette<0.38.0,>=0.37.2 in /usr/local/lib/python3.10/dist-packages (from fastapi->gradio) (0.37.2)\n",
            "Requirement already satisfied: fastapi-cli>=0.0.2 in /usr/local/lib/python3.10/dist-packages (from fastapi->gradio) (0.0.4)\n",
            "Requirement already satisfied: ujson!=4.0.2,!=4.1.0,!=4.2.0,!=4.3.0,!=5.0.0,!=5.1.0,>=4.0.1 in /usr/local/lib/python3.10/dist-packages (from fastapi->gradio) (5.10.0)\n",
            "Requirement already satisfied: email_validator>=2.0.0 in /usr/local/lib/python3.10/dist-packages (from fastapi->gradio) (2.2.0)\n",
            "Requirement already satisfied: dnspython>=2.0.0 in /usr/local/lib/python3.10/dist-packages (from email_validator>=2.0.0->fastapi->gradio) (2.6.1)\n",
            "Requirement already satisfied: attrs>=22.2.0 in /usr/local/lib/python3.10/dist-packages (from jsonschema>=3.0->altair<6.0,>=4.2.0->gradio) (23.2.0)\n",
            "Requirement already satisfied: jsonschema-specifications>=2023.03.6 in /usr/local/lib/python3.10/dist-packages (from jsonschema>=3.0->altair<6.0,>=4.2.0->gradio) (2023.12.1)\n",
            "Requirement already satisfied: referencing>=0.28.4 in /usr/local/lib/python3.10/dist-packages (from jsonschema>=3.0->altair<6.0,>=4.2.0->gradio) (0.35.1)\n",
            "Requirement already satisfied: rpds-py>=0.7.1 in /usr/local/lib/python3.10/dist-packages (from jsonschema>=3.0->altair<6.0,>=4.2.0->gradio) (0.18.1)\n",
            "Requirement already satisfied: six>=1.5 in /usr/local/lib/python3.10/dist-packages (from python-dateutil>=2.7->matplotlib~=3.0->gradio) (1.16.0)\n",
            "Requirement already satisfied: markdown-it-py>=2.2.0 in /usr/local/lib/python3.10/dist-packages (from rich>=10.11.0->typer<1.0,>=0.12->gradio) (3.0.0)\n",
            "Requirement already satisfied: pygments<3.0.0,>=2.13.0 in /usr/local/lib/python3.10/dist-packages (from rich>=10.11.0->typer<1.0,>=0.12->gradio) (2.16.1)\n",
            "Requirement already satisfied: exceptiongroup in /usr/local/lib/python3.10/dist-packages (from anyio->httpx>=0.24.1->gradio) (1.2.1)\n",
            "Requirement already satisfied: httptools>=0.5.0 in /usr/local/lib/python3.10/dist-packages (from uvicorn>=0.14.0->gradio) (0.6.1)\n",
            "Requirement already satisfied: python-dotenv>=0.13 in /usr/local/lib/python3.10/dist-packages (from uvicorn>=0.14.0->gradio) (1.0.1)\n",
            "Requirement already satisfied: uvloop!=0.15.0,!=0.15.1,>=0.14.0 in /usr/local/lib/python3.10/dist-packages (from uvicorn>=0.14.0->gradio) (0.19.0)\n",
            "Requirement already satisfied: watchfiles>=0.13 in /usr/local/lib/python3.10/dist-packages (from uvicorn>=0.14.0->gradio) (0.22.0)\n",
            "Requirement already satisfied: charset-normalizer<4,>=2 in /usr/local/lib/python3.10/dist-packages (from requests->huggingface-hub>=0.19.3->gradio) (3.3.2)\n",
            "Requirement already satisfied: mdurl~=0.1 in /usr/local/lib/python3.10/dist-packages (from markdown-it-py>=2.2.0->rich>=10.11.0->typer<1.0,>=0.12->gradio) (0.1.2)\n",
            "4.36.1\n"
          ]
        }
      ]
    },
    {
      "cell_type": "code",
      "source": [
        "import gradio as gr\n",
        "print(gr.__version__)"
      ],
      "metadata": {
        "execution": {
          "iopub.status.busy": "2024-06-11T20:10:15.597433Z",
          "iopub.execute_input": "2024-06-11T20:10:15.598305Z",
          "iopub.status.idle": "2024-06-11T20:10:15.602395Z",
          "shell.execute_reply.started": "2024-06-11T20:10:15.598268Z",
          "shell.execute_reply": "2024-06-11T20:10:15.601460Z"
        },
        "trusted": true,
        "id": "OIXbX6a6XPoB",
        "colab": {
          "base_uri": "https://localhost:8080/"
        },
        "outputId": "37427279-7c9c-4821-d2fc-0b3381e20b4b"
      },
      "execution_count": null,
      "outputs": [
        {
          "output_type": "stream",
          "name": "stdout",
          "text": [
            "4.36.1\n"
          ]
        }
      ]
    },
    {
      "cell_type": "code",
      "source": [
        "def predict(message, history):\n",
        "    # output = message # debug mode\n",
        "\n",
        "    output = str(llm_ans(message)).replace(\"\\n\", \"<br/>\")\n",
        "    return output\n",
        "\n",
        "demo = gr.ChatInterface(\n",
        "    predict,\n",
        "    title = f' Open-Source LLM ({CFG.model_name}) for Question Answering'\n",
        ")\n",
        "\n",
        "demo.queue()\n",
        "demo.launch()"
      ],
      "metadata": {
        "trusted": true,
        "id": "_oiXsPwDXPoB",
        "colab": {
          "base_uri": "https://localhost:8080/",
          "height": 645
        },
        "outputId": "2c10141d-833f-4433-f63e-74eb8a49d067"
      },
      "execution_count": null,
      "outputs": [
        {
          "output_type": "stream",
          "name": "stdout",
          "text": [
            "Setting queue=True in a Colab notebook requires sharing enabled. Setting `share=True` (you can turn this off by setting `share=False` in `launch()` explicitly).\n",
            "\n",
            "Colab notebook detected. To show errors in colab notebook, set debug=True in launch()\n",
            "Running on public URL: https://47e142d8961ec57428.gradio.live\n",
            "\n",
            "This share link expires in 72 hours. For free permanent hosting and GPU upgrades, run `gradio deploy` from Terminal to deploy to Spaces (https://huggingface.co/spaces)\n"
          ]
        },
        {
          "output_type": "display_data",
          "data": {
            "text/plain": [
              "<IPython.core.display.HTML object>"
            ],
            "text/html": [
              "<div><iframe src=\"https://47e142d8961ec57428.gradio.live\" width=\"100%\" height=\"500\" allow=\"autoplay; camera; microphone; clipboard-read; clipboard-write;\" frameborder=\"0\" allowfullscreen></iframe></div>"
            ]
          },
          "metadata": {}
        },
        {
          "output_type": "execute_result",
          "data": {
            "text/plain": []
          },
          "metadata": {},
          "execution_count": 59
        }
      ]
    },
    {
      "cell_type": "code",
      "source": [
        "#When I ran this chatbot and final nterface looks like below"
      ],
      "metadata": {
        "id": "H0auYyDIXPoB"
      },
      "execution_count": null,
      "outputs": []
    },
    {
      "cell_type": "markdown",
      "source": [
        "# Conclusions\n",
        "\n",
        "- Feel free to fork and optimize the code. Lots of things can be improved.\n",
        "\n",
        "- Things I found had the most impact on models output quality in my experiments:\n",
        "    - Prompt engineering\n",
        "    - Bigger models\n",
        "    - Other models families\n",
        "    - Splitting: chunk size, overlap\n",
        "    - Search: Similarity, MMR, k\n",
        "    - Pipeline parameters (temperature, top_p, penalty)\n",
        "    - Embeddings function\n",
        "    - LLM parameters (max len)\n",
        "\n",
        "\n",
        "- LangChain, Hugging Face and Gradio are awesome libs!\n",
        "\n",
        "- **<font color='orange'>If you liked this notebook, don't forget to show your support with an Upvote!</font>**\n",
        "\n",
        "- In case you are interested in LLMs, I also have some other notebooks you might want to check:\n",
        "\n",
        "    - [Instruction Finetuning](https://www.kaggle.com/code/hinepo/llm-instruction-finetuning-wandb)\n",
        "    - [Preference Finetuning - LLM Alignment](https://www.kaggle.com/code/hinepo/llm-alignment-preference-finetuning)\n",
        "    - [Synthetic Data for Finetuning](https://www.kaggle.com/code/hinepo/synthetic-data-creation-for-llms)\n",
        "    - [Safeguards and Guardrails](https://www.kaggle.com/code/hinepo/llm-safeguards-and-guardrails)\n",
        "    \n",
        "___\n",
        "\n",
        "🦜🔗🤗"
      ],
      "metadata": {
        "id": "nv4yxP3MXPoB"
      }
    },
    {
      "cell_type": "markdown",
      "source": [
        "![image.png](attachment:68773819-4358-4ded-be3e-f1d275103171.png)"
      ],
      "metadata": {
        "id": "glDgxmO6XPoB"
      }
    }
  ]
}